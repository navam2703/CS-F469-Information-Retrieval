{
 "cells": [
  {
   "cell_type": "code",
   "execution_count": 1,
   "metadata": {
    "id": "IulMQn2fnnUQ"
   },
   "outputs": [],
   "source": [
    "import networkx as nx \n",
    "from math import sqrt,ceil\n",
    "import matplotlib.pyplot as plt\n",
    "import numpy as np\n",
    "import time\n",
    "from timeit import timeit\n",
    "import random"
   ]
  },
  {
   "cell_type": "code",
   "execution_count": 2,
   "metadata": {
    "id": "-tWFr-VEI9ZY"
   },
   "outputs": [],
   "source": [
    "web_graph = nx.read_gpickle(\"web_graph.gpickle\")"
   ]
  },
  {
   "cell_type": "code",
   "execution_count": 3,
   "metadata": {
    "id": "NxSQ8KrsIvaR"
   },
   "outputs": [],
   "source": [
    "def getPrincipalEV(mat):\n",
    "    \"\"\"\n",
    "    Function to compute principal eigen vector for a given matrix\n",
    "    \"\"\"\n",
    "    values, Vector = np.linalg.eig(mat)\n",
    "    prin_EV = Vector[:,np.argmax(values)].T\n",
    "    princiapl_Ev = (prin_EV/prin_EV.sum()).real\n",
    "    return princiapl_Ev\n",
    "\n",
    "\n",
    "def power_iteration_iter(matrix, max_iter=100):\n",
    "    \"\"\"\n",
    "    Compute the left eigen vector using the power iteration method\n",
    "    Inputs: matrix\n",
    "    max_iters (optional) defaults to 100\n",
    "    \"\"\"\n",
    "    n = prob_matrix.shape[0]\n",
    "    eigen_vector = np.ones((n,1))\n",
    "    for i in range(max_iter):\n",
    "        eigen_vector = prob_matrix@eigen_vector\n",
    "        eigen_vector = eigen_vector/np.sum(eigen_vector)\n",
    "    return eigen_vector\n",
    "\n",
    "def HITS(G,iters = 0):\n",
    "    \"\"\"\n",
    "    Hyperlink-Induced Topic Search (HITS; also known as hubs and authorities) \n",
    "    \\nInput :\n",
    "    G -> Graph\n",
    "    \\niters = No of iterations for `power_iteration_iter()` method, default is 0 (uses numpy to calculate)\n",
    "    \\nReturns :\n",
    "    Hub and Authorities score for given set of nodes\n",
    "    \"\"\"\n",
    "    A = nx.adjacency_matrix(G).todense()\n",
    "    n = A.shape[0]\n",
    "    A = A.astype('float64')\n",
    "    if iters == 0:\n",
    "        h= getPrincipalEV(A@A.T)\n",
    "        a= getPrincipalEV(A.T@A)\n",
    "    else:\n",
    "        h = power_iteration_iter(A@A.T,iters)\n",
    "        a = power_iteration_iter(A.T@A,iters)\n",
    "    h = h.flatten()\n",
    "    h_new = np.squeeze(np.asarray(h))\n",
    "    a_new = np.squeeze(np.asarray(a))\n",
    "    hubs = dict(zip(G, map(float, h_new)))\n",
    "    authorities = dict(zip(G, map(float, a_new)))\n",
    "    return hubs,authorities\n",
    "\n",
    "\n",
    "def getBaseSet(G,rootSet):\n",
    "    \"\"\"\n",
    "    Function returns the base set for a given graph and rootset\n",
    "    \\nInput :\n",
    "    G -> graph\n",
    "    rootSet ->rootSet\n",
    "    \\nReturns :\n",
    "    nodes -> corresponding to the base set for given graph and rootset\n",
    "    \"\"\"\n",
    "    nodes = []\n",
    "    for node in rootSet:\n",
    "        nodes.append(node)\n",
    "        for e in G.predecessors(node):\n",
    "            nodes.append(e)\n",
    "        for e in G.successors(node):\n",
    "            nodes.append(e)\n",
    "    return nodes"
   ]
  },
  {
   "cell_type": "code",
   "execution_count": 4,
   "metadata": {
    "id": "QvoAqVDzpXyn"
   },
   "outputs": [],
   "source": [
    "def convert_adj_to_prob(adj_matrix, teleport=0.0):\n",
    "    \"\"\"\n",
    "    Converts a given adjacency matrix to a probability translation matrix\n",
    "    Inputs:\n",
    "    Adjacency Matrix\n",
    "    teleport probability (alpha)\n",
    "    \"\"\"\n",
    "    n = adj_matrix.shape[0]\n",
    "    prob_matrix = np.zeros((n, n))\n",
    "    row_sum = np.sum(adj_matrix, axis=1)\n",
    "    teleport_prob = teleport / n\n",
    "    for i in range(n):\n",
    "        for j in range(n):\n",
    "            if adj_matrix[i, j] == 1:\n",
    "                prob_matrix[i, j] = ((1-teleport)*adj_matrix[i, j]) / (row_sum[i]) + teleport_prob\n",
    "            else:\n",
    "                prob_matrix[i, j] = teleport_prob\n",
    "    return prob_matrix"
   ]
  },
  {
   "cell_type": "code",
   "execution_count": 5,
   "metadata": {
    "id": "8h4d4lW_pe1q"
   },
   "outputs": [],
   "source": [
    "def getLeftEigenVector(P):\n",
    "    \"\"\"\n",
    "    Compute the left eigen vector for a given probability translation matrix using numpy\n",
    "    \"\"\"\n",
    "    values, Vector = np.linalg.eig(np.array(P).T)\n",
    "    left_vec = Vector[:, np.argmax(values)].T\n",
    "    left_vec_norm = (left_vec/left_vec.sum()).real\n",
    "    return left_vec_norm"
   ]
  },
  {
   "cell_type": "code",
   "execution_count": 6,
   "metadata": {
    "id": "DpPNjIpRpfWD"
   },
   "outputs": [],
   "source": [
    "def power_iteration(prob_matrix, max_iter=100):\n",
    "    \"\"\"\n",
    "    Compute the left eigen vector using the power iteration method\n",
    "    Inputs: prob_matrix\n",
    "    max_iters (optional) defaults to 100\n",
    "    \"\"\"\n",
    "    n = prob_matrix.shape[0]\n",
    "    eigen_vector = np.zeros(n)\n",
    "    eigen_vector[0] = 1\n",
    "    for i in range(max_iter):\n",
    "        eigen_vector = prob_matrix.T @ eigen_vector\n",
    "    return eigen_vector"
   ]
  },
  {
   "cell_type": "code",
   "execution_count": 27,
   "metadata": {
    "id": "lRAWW6hHOX5L"
   },
   "outputs": [],
   "source": [
    "def pageRank(G,prob):\n",
    "  adj = nx.adjacency_matrix(G).todense()\n",
    "  P  = convert_adj_to_prob(np.array(adj),prob)\n",
    "  return getLeftEigenVector(P)"
   ]
  },
  {
   "cell_type": "code",
   "execution_count": 38,
   "metadata": {
    "colab": {
     "base_uri": "https://localhost:8080/"
    },
    "id": "RCCWfpCIpkgW",
    "outputId": "cb0440b7-c02b-4c4f-8f23-ef0316e67680"
   },
   "outputs": [
    {
     "name": "stdout",
     "output_type": "stream",
     "text": [
      "3\n",
      "4\n",
      "5\n",
      "6\n",
      "7\n",
      "8\n",
      "9\n",
      "10\n",
      "11\n",
      "12\n",
      "13\n",
      "14\n",
      "15\n",
      "16\n",
      "17\n",
      "18\n",
      "19\n",
      "20\n",
      "21\n",
      "22\n",
      "23\n",
      "24\n",
      "25\n",
      "26\n",
      "27\n",
      "28\n",
      "29\n",
      "30\n",
      "31\n",
      "32\n",
      "33\n",
      "34\n",
      "35\n",
      "36\n",
      "37\n",
      "38\n",
      "39\n",
      "40\n",
      "41\n",
      "42\n",
      "43\n",
      "44\n",
      "45\n",
      "46\n",
      "47\n",
      "48\n",
      "49\n",
      "50\n",
      "51\n",
      "52\n",
      "53\n",
      "54\n",
      "55\n",
      "56\n",
      "57\n",
      "58\n",
      "59\n",
      "60\n",
      "61\n",
      "62\n",
      "63\n",
      "64\n",
      "65\n",
      "66\n",
      "67\n",
      "68\n",
      "69\n",
      "70\n",
      "71\n",
      "72\n",
      "73\n",
      "74\n",
      "75\n",
      "76\n",
      "77\n",
      "78\n",
      "79\n",
      "80\n",
      "81\n",
      "82\n",
      "83\n",
      "84\n",
      "85\n",
      "86\n",
      "87\n",
      "88\n",
      "89\n",
      "90\n",
      "91\n",
      "92\n",
      "93\n",
      "94\n",
      "95\n",
      "96\n",
      "97\n",
      "98\n",
      "99\n",
      "100\n",
      "101\n",
      "102\n",
      "103\n",
      "104\n",
      "105\n",
      "106\n",
      "107\n",
      "108\n",
      "109\n",
      "110\n",
      "111\n",
      "112\n",
      "113\n",
      "114\n",
      "115\n",
      "116\n",
      "117\n",
      "118\n",
      "119\n",
      "120\n",
      "121\n",
      "122\n",
      "123\n",
      "124\n",
      "125\n",
      "126\n",
      "127\n",
      "128\n",
      "129\n",
      "130\n",
      "131\n",
      "132\n",
      "133\n",
      "134\n",
      "135\n",
      "136\n",
      "137\n",
      "138\n",
      "139\n",
      "140\n",
      "141\n",
      "142\n",
      "143\n",
      "144\n",
      "145\n",
      "146\n",
      "147\n",
      "148\n",
      "149\n"
     ]
    }
   ],
   "source": [
    "time_el = []\n",
    "for i in range(3,150):        \n",
    "  print(i)\n",
    "  e= random.randint(1, i * (i - 1))\n",
    "  t = nx.gnm_random_graph(i,e,directed=True)\n",
    "  #time_el.append(1000*timeit(lambda: pageRank(t,0.1),number=10))\n",
    "  time_el.append(1000*timeit(lambda: HITS(t),number=10))"
   ]
  },
  {
   "cell_type": "code",
   "execution_count": 39,
   "metadata": {
    "id": "0iNupwMgqyrn"
   },
   "outputs": [],
   "source": [
    "x = np.arange(3,150)   \n"
   ]
  },
  {
   "cell_type": "code",
   "execution_count": 40,
   "metadata": {
    "id": "byjRgGbJrsQE"
   },
   "outputs": [
    {
     "data": {
      "text/plain": [
       "Text(0, 0.5, 'Time (in ms)')"
      ]
     },
     "execution_count": 40,
     "metadata": {},
     "output_type": "execute_result"
    },
    {
     "data": {
      "image/png": "[encoded data removed]",
      "text/plain": [
       "<Figure size 432x288 with 1 Axes>"
      ]
     },
     "metadata": {
      "needs_background": "light"
     },
     "output_type": "display_data"
    }
   ],
   "source": [
    "plt.plot(x,time_el)\n",
    "plt.title(\"Time vs Number of Nodes HITS\")\n",
    "plt.xlabel(\"Number of Nodes\")\n",
    "plt.ylabel(\"Time (in ms)\")"
   ]
  },
  {
   "cell_type": "code",
   "execution_count": null,
   "metadata": {
    "id": "hJ8ZfOiY8C4I"
   },
   "outputs": [],
   "source": [
    "# With trend line\n",
    "z = np.polyfit(x, time_el, 1)\n",
    "p = np.poly1d(z)\n",
    "plt.plot(x**2,time_el)\n",
    "temp_x = x**2\n",
    "temp_x = temp_x[10:]\n",
    "plt.plot(temp_x, p(x[10:]), \"--\")\n",
    "plt.legend([\"original data\",\"Trend line\"])\n",
    "plt.title(\"Time vs Number of Nodes HITS\")\n",
    "plt.xlabel(\"Number of Nodes^2\")\n",
    "plt.ylabel(\"Time (in ms)\")"
   ]
  }
 ],
 "metadata": {
  "colab": {
   "collapsed_sections": [],
   "name": "Plotting.ipynb",
   "provenance": []
  },
  "kernelspec": {
   "display_name": "Python 3",
   "language": "python",
   "name": "python3"
  },
  "language_info": {
   "codemirror_mode": {
    "name": "ipython",
    "version": 3
   },
   "file_extension": ".py",
   "mimetype": "text/x-python",
   "name": "python",
   "nbconvert_exporter": "python",
   "pygments_lexer": "ipython3",
   "version": "3.7.4"
  }
 },
 "nbformat": 4,
 "nbformat_minor": 1
}

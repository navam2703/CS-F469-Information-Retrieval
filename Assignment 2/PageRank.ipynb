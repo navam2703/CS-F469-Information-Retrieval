{
 "cells": [
  {
   "cell_type": "markdown",
   "metadata": {},
   "source": [
    "* Navam Shrivastav 2019A7PS0092H\n",
    "* Sukrit Kumar 2019AAPS0231H\n",
    "* Shrikrishna Lolla 2019AAPS0345H"
   ]
  },
  {
   "cell_type": "code",
   "execution_count": 1,
   "metadata": {},
   "outputs": [],
   "source": [
    "import numpy as np\n",
    "import pandas as pd \n",
    "import networkx as nx"
   ]
  },
  {
   "cell_type": "code",
   "execution_count": 2,
   "metadata": {},
   "outputs": [],
   "source": [
    "def getAdjacencyMatrix():\n",
    "    \"\"\"\n",
    "    Returns the adjacency matrix for a given user inputted graph\n",
    "    with n nodes e edges each user defined\n",
    "    \"\"\"\n",
    "    n = int(input(\"Enter no of nodes in the graph \"))\n",
    "    e = int(input(\"Enter no of edges in the graph \"))\n",
    "    adj = np.zeros(shape=(n,n))\n",
    "    for i in range(e):\n",
    "        edge = input()\n",
    "        i,j = edge.split(\",\")\n",
    "        adj[int(i)-1,int(j)-1] = 1\n",
    "    return adj"
   ]
  },
  {
   "cell_type": "code",
   "execution_count": 3,
   "metadata": {},
   "outputs": [],
   "source": [
    "def convert_adj_to_prob(adj_matrix, teleport=0.0):\n",
    "    \"\"\"\n",
    "    Converts a given adjacency matrix to a probability translation matrix\n",
    "    Inputs:\n",
    "    Adjacency Matrix\n",
    "    teleport probability (alpha)\n",
    "    \"\"\"\n",
    "    n = adj_matrix.shape[0]\n",
    "    prob_matrix = np.zeros((n, n))\n",
    "    row_sum = np.sum(adj_matrix, axis=1)\n",
    "    teleport_prob = teleport / n\n",
    "    # convert adjacency matrix to prob matrix\n",
    "    for i in range(n):\n",
    "        for j in range(n):\n",
    "            if adj_matrix[i, j] == 1:\n",
    "                prob_matrix[i, j] = ((1-teleport)*adj_matrix[i, j]) / (row_sum[i]) + teleport_prob\n",
    "            else:\n",
    "                prob_matrix[i, j] = teleport_prob\n",
    "    return prob_matrix"
   ]
  },
  {
   "cell_type": "code",
   "execution_count": 4,
   "metadata": {},
   "outputs": [],
   "source": [
    "P = [[1/6,2/3,1/6],[5/12,1/6,5/12],[1/6,2/3,1/6]]"
   ]
  },
  {
   "cell_type": "code",
   "execution_count": 5,
   "metadata": {},
   "outputs": [],
   "source": [
    "adj = [[0,1,0],[1,0,1],[0,1,0]]"
   ]
  },
  {
   "cell_type": "code",
   "execution_count": 6,
   "metadata": {},
   "outputs": [],
   "source": [
    "test_P = convert_adj_to_prob(np.array(adj),0.5)"
   ]
  },
  {
   "cell_type": "code",
   "execution_count": 7,
   "metadata": {},
   "outputs": [
    {
     "data": {
      "text/plain": [
       "array([[ True,  True,  True],\n",
       "       [ True,  True,  True],\n",
       "       [ True,  True,  True]])"
      ]
     },
     "execution_count": 7,
     "metadata": {},
     "output_type": "execute_result"
    }
   ],
   "source": [
    "np.isclose(test_P,np.array(P))"
   ]
  },
  {
   "cell_type": "code",
   "execution_count": 13,
   "metadata": {},
   "outputs": [],
   "source": [
    "# Calculation of steady state left eigen vector using the numpy \n",
    "def getLeftEigenVector(P):\n",
    "    \"\"\"\n",
    "    Compute the left eigen vector for a given probability translation matrix using numpy\n",
    "    \"\"\"\n",
    "    values, Vector = np.linalg.eig(np.array(P).T)\n",
    "    left_vec = Vector[:, np.argmax(values)].T\n",
    "    left_vec_norm = (left_vec/left_vec.sum()).real\n",
    "    return left_vec_norm"
   ]
  },
  {
   "cell_type": "code",
   "execution_count": 14,
   "metadata": {},
   "outputs": [],
   "source": [
    "# Run for a max no of iterations\n",
    "def power_iteration_iter(prob_matrix, max_iter=100):\n",
    "    \"\"\"\n",
    "    Compute the left eigen vector using the power iteration method\n",
    "    Inputs: prob_matrix\n",
    "    max_iters (optional) defaults to 100\n",
    "    \"\"\"\n",
    "    n = prob_matrix.shape[0]\n",
    "    eigen_vector = np.zeros(n)\n",
    "    eigen_vector[0] = 1\n",
    "    for i in range(max_iter):\n",
    "        eigen_vector = prob_matrix.T.dot(eigen_vector)\n",
    "        eigen_vector = eigen_vector/np.sum(eigen_vector)\n",
    "    return eigen_vector"
   ]
  },
  {
   "cell_type": "code",
   "execution_count": 15,
   "metadata": {},
   "outputs": [],
   "source": [
    "# Or run until numpy considers them to be close enough\n",
    "def power_iteration(prob_matrix):\n",
    "    \"\"\"\n",
    "    Compute the left eigen vector using the power iteration method, this method runs as long as the previous computed value is not close to the newest computed value\n",
    "    this is checked using the np.isclose() command\n",
    "    Inputs: prob_matrix\n",
    "    \"\"\"\n",
    "    n = prob_matrix.shape[0]\n",
    "    eigen_vector = np.zeros(n)\n",
    "    eigen_vector[0] = 1\n",
    "    eigen_vector_prev = eigen_vector\n",
    "    while True:\n",
    "        eigen_vector_prev = eigen_vector\n",
    "        eigen_vector = prob_matrix.T.dot(eigen_vector)\n",
    "        eigen_vector = eigen_vector/np.sum(eigen_vector)\n",
    "        if np.isclose(eigen_vector,eigen_vector_prev).all():\n",
    "            break;\n",
    "    return eigen_vector"
   ]
  },
  {
   "cell_type": "code",
   "execution_count": 16,
   "metadata": {},
   "outputs": [],
   "source": [
    "def pageRank(G,alpha,iters= 0):\n",
    "  adj = nx.adjacency_matrix(G).todense()\n",
    "  P  = convert_adj_to_prob(np.array(adj),alpha)\n",
    "  if iters != 0:\n",
    "    return power_iteration_iter(P,iters)\n",
    "  return getLeftEigenVector(P)"
   ]
  },
  {
   "cell_type": "code",
   "execution_count": 17,
   "metadata": {},
   "outputs": [
    {
     "data": {
      "text/plain": [
       "array([0.27777778, 0.44444444, 0.27777778])"
      ]
     },
     "execution_count": 17,
     "metadata": {},
     "output_type": "execute_result"
    }
   ],
   "source": [
    "result = getLeftEigenVector(test_P) # using numpy\n",
    "result"
   ]
  },
  {
   "cell_type": "code",
   "execution_count": 18,
   "metadata": {},
   "outputs": [
    {
     "data": {
      "text/plain": [
       "array([0.27777735, 0.44444529, 0.27777735])"
      ]
     },
     "execution_count": 18,
     "metadata": {},
     "output_type": "execute_result"
    }
   ],
   "source": [
    "result = power_iteration(test_P) # using power iteration till convergence\n",
    "result"
   ]
  },
  {
   "cell_type": "code",
   "execution_count": 19,
   "metadata": {},
   "outputs": [
    {
     "data": {
      "text/plain": [
       "array([0.27777778, 0.44444444, 0.27777778])"
      ]
     },
     "execution_count": 19,
     "metadata": {},
     "output_type": "execute_result"
    }
   ],
   "source": [
    "result = power_iteration_iter(test_P,100) # using power iteration for a fixed no of iterations\n",
    "result"
   ]
  },
  {
   "cell_type": "code",
   "execution_count": 16,
   "metadata": {},
   "outputs": [
    {
     "name": "stdout",
     "output_type": "stream",
     "text": [
      "3 highest pagerank score is with index 2\n",
      "2 highest pagerank score is with index 0\n",
      "1 highest pagerank score is with index 1\n"
     ]
    },
    {
     "data": {
      "text/plain": [
       "[0.4444444444444445, 0.27777777777777785, 0.27777777777777773]"
      ]
     },
     "execution_count": 16,
     "metadata": {},
     "output_type": "execute_result"
    }
   ],
   "source": [
    "sorted_res = sorted(result,reverse=True)\n",
    "sorted_idx = np.argsort(result)[-3:] # get index of 3 highest scores\n",
    "rev_pos = 3\n",
    "for idx in sorted_idx:\n",
    "    print(f\"{rev_pos} highest pagerank score is with index {idx}\")\n",
    "    rev_pos = rev_pos -1\n",
    "sorted_res"
   ]
  },
  {
   "cell_type": "code",
   "execution_count": null,
   "metadata": {},
   "outputs": [],
   "source": [
    "ad = getAdjacencyMatrix()\n",
    "pr = convert_adj_to_prob(ad,0.5)\n",
    "power_iteration(pr)"
   ]
  }
 ],
 "metadata": {
  "kernelspec": {
   "display_name": "Python 3",
   "language": "python",
   "name": "python3"
  },
  "language_info": {
   "codemirror_mode": {
    "name": "ipython",
    "version": 3
   },
   "file_extension": ".py",
   "mimetype": "text/x-python",
   "name": "python",
   "nbconvert_exporter": "python",
   "pygments_lexer": "ipython3",
   "version": "3.7.4"
  }
 },
 "nbformat": 4,
 "nbformat_minor": 2
}

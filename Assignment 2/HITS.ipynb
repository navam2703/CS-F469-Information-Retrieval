{
 "cells": [
  {
   "cell_type": "markdown",
   "metadata": {},
   "source": [
    "* Navam Shrivastav 2019A7PS0092H\n",
    "* Sukrit Kumar 2019AAPS0231H\n",
    "* Shrikrishna Lolla 2019AAPS0345H"
   ]
  },
  {
   "cell_type": "code",
   "execution_count": 1,
   "metadata": {},
   "outputs": [],
   "source": [
    "import numpy as np\n",
    "import pandas as pd\n",
    "import networkx as nx \n",
    "from networkx.generators.harary_graph import hnm_harary_graph"
   ]
  },
  {
   "cell_type": "code",
   "execution_count": 2,
   "metadata": {},
   "outputs": [],
   "source": [
    "web_graph = nx.read_gpickle(\"web_graph.gpickle\")"
   ]
  },
  {
   "cell_type": "code",
   "execution_count": 3,
   "metadata": {},
   "outputs": [
    {
     "data": {
      "text/plain": [
       "'Business: Staples Profit Up, to Enter China Market  NEW YORK (Reuters) - Staples Inc. &lt;A HREF=\"http://www.investor.reuters.com/FullQuote.aspx?ticker=SPLS.O target=/stocks/quickinfo/fullquote\"&gt;SPLS.O&lt;/A&gt;, the top U.S.  office products retailer, on Tuesday reported a 39 percent jump  in quarterly profit, raised its full-year forecast and said it  plans to enter the fast-growing Chinese market, sending its  shares higher.'"
      ]
     },
     "execution_count": 3,
     "metadata": {},
     "output_type": "execute_result"
    }
   ],
   "source": [
    "web_graph.nodes[10]['page_content']"
   ]
  },
  {
   "cell_type": "markdown",
   "metadata": {},
   "source": [
    "# Inverted Index"
   ]
  },
  {
   "cell_type": "code",
   "execution_count": 4,
   "metadata": {},
   "outputs": [],
   "source": [
    "class InvertedIndex:\n",
    "    \"\"\" InvertedIndex data structure class with insert, search and find functions\"\"\"\n",
    "    def __init__(self):\n",
    "        \"\"\"\n",
    "        Initializes the inverted index data structure.\n",
    "        index: A dictionary that maps words to a list of doc_ids\n",
    "        voc_list: A list of all the unique words in the index\n",
    "        voc_count: The number of words in the index\n",
    "        \"\"\"\n",
    "        self.index = {}\n",
    "        self.voc_list = []\n",
    "        self.voc_count = 0\n",
    "    \n",
    "    def insert(self,word,doc_id):\n",
    "        \"\"\"\n",
    "        Inserts a word into the inverted index and adds a doc_id to the list \n",
    "        Args: word, doc_id\n",
    "        \"\"\"\n",
    "        if word not in self.index:\n",
    "            self.index[word] = [doc_id]\n",
    "            if word[-1] == \"$\":\n",
    "              self.voc_list.append(word)\n",
    "            self.voc_count += 1\n",
    "        if doc_id not in self.index[word]:\n",
    "          self.index[word].append(doc_id)\n",
    "    def search(self,word):\n",
    "      \"\"\"\n",
    "      Searches the inverted index for a word and returns the list of doc_ids\n",
    "      \\n used in case of wildcard queries\n",
    "      \\n Args: word\n",
    "      \"\"\"\n",
    "      final_output = []\n",
    "      word_list = []\n",
    "      for w in self.index.keys():\n",
    "        if w.startswith(word):\n",
    "          word_list.append(get_main(w))\n",
    "          final_output.extend( self.index[w] )\n",
    "      return final_output,word_list\n",
    "    def find(self,word):\n",
    "        \"\"\"\n",
    "        Find if a word exists in the inverted index\n",
    "        and returns the list of doc_ids otherwise None\n",
    "        \\n used in case of regular queries \n",
    "        \\n Args: word\n",
    "        \"\"\"\n",
    "        if word in self.index:\n",
    "            return self.index[word]\n",
    "        else:\n",
    "            return None\n",
    "    def getSize(self):\n",
    "      \"\"\"\n",
    "      Returns the number of words in the inverted index\n",
    "      \"\"\"\n",
    "      return len(self.index)\n"
   ]
  },
  {
   "cell_type": "code",
   "execution_count": null,
   "metadata": {},
   "outputs": [],
   "source": [
    "import nltk\n",
    "from nltk.tokenize import word_tokenize\n",
    "from nltk.stem.snowball import SnowballStemmer\n",
    "from nltk.stem import WordNetLemmatizer\n",
    "from itertools import permutations\n",
    "nltk.download('stopwords')\n",
    "nltk.download('punkt')\n",
    "\n",
    "def tokenize(s):\n",
    "    \"\"\" Tokenize the string using word_tokenize from nltk \"\"\"\n",
    "    return word_tokenize(s)\n",
    "\n",
    "stopwords = nltk.corpus.stopwords.words('english')\n",
    "def remove_stop_words(s):\n",
    "    \"\"\" Use nltk english stopwords and remove such tokens from our list \"\"\"\n",
    "    stop_words = set(stopwords)\n",
    "    filtered_list = [w for w in s if w not in stop_words]\n",
    "    return filtered_list\n",
    "\n",
    "def stem_words(word_list):\n",
    "    \"\"\" Use the snowball stemming \"\"\" \n",
    "    stemmer = SnowballStemmer(\"english\")\n",
    "    stemmed_words = []\n",
    "    for word in word_list:\n",
    "        stemmed_words.append(stemmer.stem(word))\n",
    "    return stemmed_words\n",
    "\n",
    "lemmatizer = WordNetLemmatizer()\n",
    "def lemmatize(s):\n",
    "    \"\"\" Lemmatization using the WordNet lemmatizer \"\"\" \n",
    "\n",
    "    return lemmatizer.lemmatize(s)\n",
    "\n",
    "def rotateString(s, n):\n",
    "    \"\"\" rotate string to the left by n places \"\"\"\n",
    "    return s[n:] + s[:n]"
   ]
  },
  {
   "cell_type": "code",
   "execution_count": 9,
   "metadata": {},
   "outputs": [],
   "source": [
    "import pickle\n",
    "def preProcess(G):\n",
    "    \"\"\" Main function to generate the inverted index \"\"\" \n",
    "    i_index = InvertedIndex()\n",
    "    \n",
    "    print(f\"Total no of nodes is {len(G)}\")\n",
    "    global doc_count\n",
    "    doc_count = len(G)\n",
    "    for node in G.nodes():\n",
    "        text = G.node[node]['page_content']\n",
    "        text = text.lower()\n",
    "        tokens = tokenize(text) # tokenize\n",
    "        rm_data = remove_stop_words(tokens) # remove stopwords\n",
    "        stemmed = stem_words(rm_data) # perform stemming\n",
    "        for w in stemmed:\n",
    "          i_index.insert(w,node)\n",
    "    i_Index_save = open('output_index_final', 'ab')\n",
    "    pickle.dump(i_index, i_Index_save) # Save the generated index for later use                     \n",
    "    i_Index_save.close()\n",
    "    return i_index"
   ]
  },
  {
   "cell_type": "code",
   "execution_count": 10,
   "metadata": {},
   "outputs": [
    {
     "name": "stdout",
     "output_type": "stream",
     "text": [
      "Total no of nodes is 100\n"
     ]
    }
   ],
   "source": [
    "index = preProcess(web_graph)"
   ]
  },
  {
   "cell_type": "code",
   "execution_count": 11,
   "metadata": {},
   "outputs": [],
   "source": [
    "def not_oper(l,size):\n",
    "  \"\"\"\n",
    "  negate the list and create a new list with all elements in space size \n",
    "  and not in l\n",
    "  \"\"\"\n",
    "  l_not = []\n",
    "  for i in range(1,size+1):\n",
    "    if i not in l:\n",
    "      l_not.append(i)\n",
    "  return l_not"
   ]
  },
  {
   "cell_type": "code",
   "execution_count": 12,
   "metadata": {},
   "outputs": [],
   "source": [
    "def or_op(l1,l2):\n",
    "  \"\"\"\n",
    "  perform the or operation on the two lists\n",
    "  \"\"\"\n",
    "  for i in l2:\n",
    "    if i not in l1:\n",
    "      l1.append(i)\n",
    "  return l1\n"
   ]
  },
  {
   "cell_type": "code",
   "execution_count": 13,
   "metadata": {},
   "outputs": [],
   "source": [
    "\n",
    "def and_op(l1,l2):\n",
    "  \"\"\"\n",
    "  perform the and intersection on the two lists\n",
    "  \"\"\"\n",
    "  i = 0\n",
    "  j = 0\n",
    "  intersection = []\n",
    "  while i < len(l1) and j < len(l2):\n",
    "    if(l1[i] == l2[j]):\n",
    "      intersection.append(l1[i])\n",
    "      i += 1\n",
    "      j += 1\n",
    "    elif (l1[i] < l2[j]):\n",
    "      i += 1\n",
    "    else:\n",
    "      j += 1\n",
    "  return intersection"
   ]
  },
  {
   "cell_type": "code",
   "execution_count": 14,
   "metadata": {},
   "outputs": [],
   "source": [
    "def retrieve(query):\n",
    "  \"\"\"\n",
    "  Query retrival function\n",
    "  take query input from user\n",
    "  tokenize it\n",
    "  then create a retrival list and perform operations.\n",
    "  \"\"\"\n",
    "  query = tokenize(query)\n",
    "  #query = remove_stop_words(query)\n",
    "  query = stem_words(query)\n",
    "  print(query)\n",
    "  retrival_list = []\n",
    "  connect = []\n",
    "  wc = 0\n",
    "  conn = [\"and\",\"or\",\"not\"]\n",
    "  for q in query:\n",
    "    if q in conn:\n",
    "      connect.append(q)\n",
    "      continue\n",
    "    # don't correct wildcard queries \n",
    "    if \"*\" in q:\n",
    "      wc = 0\n",
    "      while(q[-1] != '*'):\n",
    "        q = rotateString(q,1)\n",
    "      l,l_w = index.search(q[:-1])\n",
    "      l = list(set(l))\n",
    "      print(f\"Words returned for wildcard query {q} is {l_w}\")\n",
    "    else:\n",
    "      l = index.find(q)\n",
    "    if l:\n",
    "      print(f\"Query is {q} and list of docs are {l}\")\n",
    "    else:\n",
    "      l = []\n",
    "      print(\"No result found\")\n",
    "    if len(connect) >= 1 and connect[-1] == \"not$\":\n",
    "      temp_cp = not_oper(l.copy(),doc_count)\n",
    "      retrival_list.append(temp_cp)\n",
    "    else:\n",
    "      retrival_list.append(l.copy())\n",
    "  if len(retrival_list) > 1:\n",
    "    i_1 = 0\n",
    "    i_2 = 1\n",
    "    i = 0\n",
    "    for con in connect:\n",
    "      if con == \"and\":\n",
    "        comp = and_op(retrival_list[i_1],retrival_list[i_2])\n",
    "        temp_cp = retrival_list[2:]\n",
    "        retrival_list = [comp]\n",
    "        retrival_list.extend(temp_cp)\n",
    "      elif con == \"or\":\n",
    "        comp = or_op(retrival_list[i_1],retrival_list[i_2])\n",
    "        temp_cp = retrival_list[2:]\n",
    "        retrival_list = [comp]\n",
    "        retrival_list.extend(temp_cp)\n",
    "        i += 1\n",
    "      elif con == \"not\":\n",
    "        continue\n",
    "  if len(query) == 0:\n",
    "    return []\n",
    "  return retrival_list"
   ]
  },
  {
   "cell_type": "code",
   "execution_count": 15,
   "metadata": {},
   "outputs": [
    {
     "name": "stdout",
     "output_type": "stream",
     "text": [
      "['china', 'and', 'busi']\n",
      "Query is china and list of docs are [10, 20, 85, 95]\n",
      "Query is busi and list of docs are [0, 1, 2, 3, 4, 5, 6, 7, 8, 9, 10, 11, 12, 13, 14, 15, 16, 17, 18, 19, 20, 21, 22, 23, 24]\n"
     ]
    },
    {
     "data": {
      "text/plain": [
       "[10, 20]"
      ]
     },
     "execution_count": 15,
     "metadata": {},
     "output_type": "execute_result"
    }
   ],
   "source": [
    "retrieve(\"China and Business\")[0]"
   ]
  },
  {
   "cell_type": "markdown",
   "metadata": {},
   "source": [
    "# HITS"
   ]
  },
  {
   "cell_type": "code",
   "execution_count": 4,
   "metadata": {},
   "outputs": [],
   "source": [
    "def getRootSet(G,query):\n",
    "    \"\"\"\n",
    "    Function to generate the root set for a given query\n",
    "    Inputs : \n",
    "    G -> Graph\n",
    "    query -> Query\n",
    "    Returns :\n",
    "    returns all the nodes satisfying the particular query\n",
    "    \"\"\"\n",
    "    nodes = []\n",
    "    if(len(query.split()) > 1):\n",
    "        return retrieve(query)[0]\n",
    "    for pos,data in G.nodes(data=True):\n",
    "        if query in data['page_content']:\n",
    "            print(pos)\n",
    "            print(f\"Incoming edges : {G.in_edges(pos)}\")\n",
    "            for e in G.predecessors(pos):\n",
    "                print(e)\n",
    "            print(f\"Outgoing edges : {G.out_edges(pos)}\")\n",
    "            for e in G.successors(pos):\n",
    "                print(e)\n",
    "            nodes.append(pos)\n",
    "    return nodes\n",
    "    "
   ]
  },
  {
   "cell_type": "code",
   "execution_count": 5,
   "metadata": {},
   "outputs": [
    {
     "name": "stdout",
     "output_type": "stream",
     "text": [
      "10\n",
      "Incoming edges : [(3, 10)]\n",
      "3\n",
      "Outgoing edges : [(10, 0), (10, 61), (10, 75)]\n",
      "0\n",
      "61\n",
      "75\n",
      "20\n",
      "Incoming edges : [(19, 20), (95, 20)]\n",
      "19\n",
      "95\n",
      "Outgoing edges : [(20, 95)]\n",
      "95\n",
      "85\n",
      "Incoming edges : []\n",
      "Outgoing edges : [(85, 84)]\n",
      "84\n",
      "95\n",
      "Incoming edges : [(71, 95), (20, 95)]\n",
      "71\n",
      "20\n",
      "Outgoing edges : [(95, 19), (95, 20), (95, 43)]\n",
      "19\n",
      "20\n",
      "43\n",
      "[10, 20, 85, 95]\n"
     ]
    }
   ],
   "source": [
    "rootSet = getRootSet(web_graph,\"China\")\n",
    "print(rootSet)"
   ]
  },
  {
   "cell_type": "code",
   "execution_count": 6,
   "metadata": {},
   "outputs": [],
   "source": [
    "def getBaseSet(G,rootSet):\n",
    "    \"\"\"\n",
    "    Function returns the base set for a given graph and rootset\n",
    "    Input:\n",
    "    G -> graph\n",
    "    rootSet ->rootSet\n",
    "    Returns:\n",
    "    nodes -> corresponding to the base set for given graph and rootset\n",
    "    \"\"\"\n",
    "    nodes = []\n",
    "    for node in rootSet:\n",
    "        nodes.append(node)\n",
    "        for e in G.predecessors(node):\n",
    "            nodes.append(e)\n",
    "        for e in G.successors(node):\n",
    "            nodes.append(e)\n",
    "    return nodes"
   ]
  },
  {
   "cell_type": "code",
   "execution_count": 7,
   "metadata": {},
   "outputs": [],
   "source": [
    "baseSet = list(set(getBaseSet(web_graph,rootSet)))"
   ]
  },
  {
   "cell_type": "code",
   "execution_count": 8,
   "metadata": {},
   "outputs": [
    {
     "data": {
      "text/plain": [
       "[0, 3, 71, 10, 75, 43, 19, 20, 85, 84, 61, 95]"
      ]
     },
     "execution_count": 8,
     "metadata": {},
     "output_type": "execute_result"
    }
   ],
   "source": [
    "baseSet"
   ]
  },
  {
   "cell_type": "code",
   "execution_count": 9,
   "metadata": {},
   "outputs": [],
   "source": [
    "H = web_graph.subgraph(baseSet)"
   ]
  },
  {
   "cell_type": "code",
   "execution_count": 10,
   "metadata": {},
   "outputs": [
    {
     "name": "stdout",
     "output_type": "stream",
     "text": [
      "(12, 12)\n"
     ]
    }
   ],
   "source": [
    "A = nx.adjacency_matrix(H).todense()\n",
    "print(A.shape)"
   ]
  },
  {
   "cell_type": "code",
   "execution_count": 11,
   "metadata": {},
   "outputs": [],
   "source": [
    "def getPrincipalEV(P):\n",
    "    \"\"\"\n",
    "    Compute the left eigen vector for a given probability translation matrix using numpy\n",
    "    \"\"\"\n",
    "    values, Vector = np.linalg.eig(np.array(P).T)\n",
    "    left_vec = Vector[:, np.argmax(values)].T\n",
    "    left_vec_norm = (left_vec/left_vec.sum()).real\n",
    "    return left_vec_norm"
   ]
  },
  {
   "cell_type": "code",
   "execution_count": 12,
   "metadata": {},
   "outputs": [],
   "source": [
    "def power_iteration_iter(prob_matrix, max_iter=100):\n",
    "    \"\"\"\n",
    "    Compute the left eigen vector using the power iteration method\n",
    "    Inputs: prob_matrix\n",
    "    max_iters (optional) defaults to 100\n",
    "    \"\"\"\n",
    "    n = prob_matrix.shape[0]\n",
    "    eigen_vector = np.ones((n,1))\n",
    "    for i in range(max_iter):\n",
    "        eigen_vector = prob_matrix@eigen_vector\n",
    "        eigen_vector = eigen_vector/np.sum(eigen_vector)\n",
    "    return eigen_vector"
   ]
  },
  {
   "cell_type": "code",
   "execution_count": 13,
   "metadata": {},
   "outputs": [],
   "source": [
    "def HITS(G,iters = 0):\n",
    "    \"\"\"\n",
    "    Hyperlink-Induced Topic Search (HITS; also known as hubs and authorities) \n",
    "    Input :\n",
    "    G -> Graph\n",
    "    return :\n",
    "    Hub and Authorities score for given set of nodes\n",
    "    \"\"\"\n",
    "    A = nx.adjacency_matrix(G).todense()\n",
    "    print(A.shape)\n",
    "    n = A.shape[0]\n",
    "    A = A.astype('float64')\n",
    "    if iters == 0:\n",
    "        h= getPrincipalEV(A@A.T)\n",
    "        a= getPrincipalEV(A.T@A)\n",
    "    else:\n",
    "        h = power_iteration_iter(A@A.T,iters)\n",
    "        a = power_iteration_iter(A.T@A,iters)\n",
    "    h = h.flatten()\n",
    "    h_new = np.squeeze(np.asarray(h))\n",
    "    a_new = np.squeeze(np.asarray(a))\n",
    "    hubs = dict(zip(G, map(float, h_new)))\n",
    "    authorities = dict(zip(G, map(float, a_new)))\n",
    "    return hubs,authorities"
   ]
  },
  {
   "cell_type": "code",
   "execution_count": 14,
   "metadata": {},
   "outputs": [],
   "source": [
    "h, a = nx.hits(H)"
   ]
  },
  {
   "cell_type": "code",
   "execution_count": 18,
   "metadata": {},
   "outputs": [
    {
     "name": "stdout",
     "output_type": "stream",
     "text": [
      "(12, 12)\n"
     ]
    }
   ],
   "source": [
    "h_1,a_1 = HITS(H,100)"
   ]
  },
  {
   "cell_type": "code",
   "execution_count": 19,
   "metadata": {},
   "outputs": [
    {
     "data": {
      "text/plain": [
       "{0: 0.2928932188134525,\n",
       " 3: 0.2426406871192851,\n",
       " 71: 0.0,\n",
       " 10: 0.0,\n",
       " 75: 0.17157287525380985,\n",
       " 43: 0.0,\n",
       " 19: 0.0,\n",
       " 20: 0.0,\n",
       " 85: 0.0,\n",
       " 84: 0.0,\n",
       " 61: 0.2928932188134525,\n",
       " 95: 0.0}"
      ]
     },
     "execution_count": 19,
     "metadata": {},
     "output_type": "execute_result"
    }
   ],
   "source": [
    "a_1"
   ]
  },
  {
   "cell_type": "code",
   "execution_count": 17,
   "metadata": {},
   "outputs": [
    {
     "data": {
      "text/plain": [
       "{0: 0.2928932143652156,\n",
       " 3: 0.24264068343424505,\n",
       " 71: 0.0,\n",
       " 10: 2.0075934070464737e-45,\n",
       " 75: 0.17157287264809307,\n",
       " 43: 4.448236875154756e-09,\n",
       " 19: 4.448236875154756e-09,\n",
       " 20: 6.290756917491971e-09,\n",
       " 85: 0.0,\n",
       " 84: 2.0075934070464737e-45,\n",
       " 61: 0.2928932143652156,\n",
       " 95: 1.185073977083293e-24}"
      ]
     },
     "execution_count": 17,
     "metadata": {},
     "output_type": "execute_result"
    }
   ],
   "source": [
    "a"
   ]
  },
  {
   "cell_type": "code",
   "execution_count": 20,
   "metadata": {},
   "outputs": [
    {
     "data": {
      "text/plain": [
       "{0: 0.29289321537292334,\n",
       " 3: 1.0979892973488558e-45,\n",
       " 71: 6.481384820437286e-25,\n",
       " 10: 0.41421355750745203,\n",
       " 75: 0.29289321537292334,\n",
       " 43: 0.0,\n",
       " 19: 3.440529214424526e-09,\n",
       " 20: 6.481384820437286e-25,\n",
       " 85: 1.0979892973488558e-45,\n",
       " 84: 0.0,\n",
       " 61: 0.0,\n",
       " 95: 8.306172291204543e-09}"
      ]
     },
     "execution_count": 20,
     "metadata": {},
     "output_type": "execute_result"
    }
   ],
   "source": [
    "h"
   ]
  },
  {
   "cell_type": "code",
   "execution_count": 21,
   "metadata": {},
   "outputs": [
    {
     "data": {
      "text/plain": [
       "{0: 0.29289321881345276,\n",
       " 3: 0.0,\n",
       " 71: -4.672732250081421e-17,\n",
       " 10: 0.414213562373095,\n",
       " 75: 0.2928932188134525,\n",
       " 43: 0.0,\n",
       " 19: 0.0,\n",
       " 20: -1.5505532080427557e-16,\n",
       " 85: 0.0,\n",
       " 84: 0.0,\n",
       " 61: 0.0,\n",
       " 95: 0.0}"
      ]
     },
     "execution_count": 21,
     "metadata": {},
     "output_type": "execute_result"
    }
   ],
   "source": [
    "h_1"
   ]
  },
  {
   "cell_type": "code",
   "execution_count": 21,
   "metadata": {},
   "outputs": [],
   "source": [
    "hub_sorted = sorted(h_1.items(), key=lambda x: x[1], reverse=True)\n",
    "auth_sorted = sorted(a_1.items(),key=lambda x: x[1],reverse=True)"
   ]
  },
  {
   "cell_type": "code",
   "execution_count": 22,
   "metadata": {},
   "outputs": [
    {
     "data": {
      "text/plain": [
       "[(10, 0.41421356237140183), (0, 0.2928932188122552), (75, 0.2928932188122552)]"
      ]
     },
     "execution_count": 22,
     "metadata": {},
     "output_type": "execute_result"
    }
   ],
   "source": [
    "hub_sorted[0:3]"
   ]
  },
  {
   "cell_type": "code",
   "execution_count": 23,
   "metadata": {},
   "outputs": [
    {
     "data": {
      "text/plain": [
       "[(61, 0.2928932188119046), (0, 0.29289321881190455), (3, 0.24264068711800282)]"
      ]
     },
     "execution_count": 23,
     "metadata": {},
     "output_type": "execute_result"
    }
   ],
   "source": [
    "auth_sorted[0:3]"
   ]
  },
  {
   "cell_type": "markdown",
   "metadata": {},
   "source": [
    "# Visualization"
   ]
  },
  {
   "cell_type": "code",
   "execution_count": 25,
   "metadata": {},
   "outputs": [
    {
     "data": {
      "image/png": "[encoded data removed]",
      "text/plain": [
       "<Figure size 432x288 with 1 Axes>"
      ]
     },
     "metadata": {},
     "output_type": "display_data"
    }
   ],
   "source": [
    "pos = {i: web_graph.nodes[i]['pos'] for i in range(len(web_graph.nodes))}\n",
    "nx.draw(web_graph, pos) # Draw the original web graph"
   ]
  },
  {
   "cell_type": "code",
   "execution_count": 26,
   "metadata": {},
   "outputs": [
    {
     "data": {
      "image/png": "[encoded data removed]",
      "text/plain": [
       "<Figure size 432x288 with 1 Axes>"
      ]
     },
     "metadata": {},
     "output_type": "display_data"
    }
   ],
   "source": [
    "nx.draw(H,pos) # Draw the sub graph"
   ]
  }
 ],
 "metadata": {
  "kernelspec": {
   "display_name": "Python 3",
   "language": "python",
   "name": "python3"
  },
  "language_info": {
   "codemirror_mode": {
    "name": "ipython",
    "version": 3
   },
   "file_extension": ".py",
   "mimetype": "text/x-python",
   "name": "python",
   "nbconvert_exporter": "python",
   "pygments_lexer": "ipython3",
   "version": "3.7.4"
  }
 },
 "nbformat": 4,
 "nbformat_minor": 2
}

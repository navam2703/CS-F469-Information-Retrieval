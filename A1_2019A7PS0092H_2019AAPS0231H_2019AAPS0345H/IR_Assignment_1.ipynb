{
  "nbformat": 4,
  "nbformat_minor": 0,
  "metadata": {
    "colab": {
      "name": "IR_Assignment_1.ipynb",
      "provenance": [],
      "collapsed_sections": [
        "8YJmGblHQPNx",
        "d7Ckvt3mgn_V",
        "kotDHrEVmNvc"
      ]
    },
    "kernelspec": {
      "name": "python3",
      "display_name": "Python 3"
    },
    "language_info": {
      "name": "python"
    }
  },
  "cells": [
    {
      "cell_type": "markdown",
      "source": [
        "* Navam Shrivastav 2019A7PS0092H\n",
        "* Sukrit Kumar 2019AAPS0231H\n",
        "* Shrikrishna Lolla 2019AAPS0345H"
      ],
      "metadata": {
        "id": "4A8uRJ2GgZRa"
      }
    },
    {
      "cell_type": "code",
      "execution_count": null,
      "metadata": {
        "id": "G1ll0pVpB_rn"
      },
      "outputs": [],
      "source": [
        "import os\n",
        "import pandas as pd\n",
        "import re\n",
        "import numpy as np\n",
        "import nltk\n",
        "from nltk.tokenize import word_tokenize\n",
        "from nltk.stem.snowball import SnowballStemmer\n",
        "from nltk.stem import WordNetLemmatizer\n",
        "from itertools import permutations\n",
        "import pickle\n"
      ]
    },
    {
      "cell_type": "markdown",
      "source": [
        "# Class\n"
      ],
      "metadata": {
        "id": "8YJmGblHQPNx"
      }
    },
    {
      "cell_type": "code",
      "source": [
        "class Node:\n",
        "    def __init__(self, doc_Id):\n",
        "        self.doc_id = doc_Id\n",
        "        self.next = None\n",
        "\n",
        "class LinkedList:\n",
        "    def __init__(self):\n",
        "        self.head = None\n",
        "        self.tail = None\n",
        "        self.size = 0\n",
        "    \n",
        "    def insert(self,Node):\n",
        "        if self.head == None:\n",
        "            self.head = Node\n",
        "            self.tail = Node\n",
        "        else:\n",
        "            #temp = self.head\n",
        "            self.tail.next = Node\n",
        "            self.tail = Node\n",
        "            #while temp.next != None:\n",
        "                #temp = temp.next\n",
        "            #temp.next = Node\n",
        "        self.size += 1\n",
        "    def size(self):\n",
        "        return self.size\n",
        "    \n",
        "    def find(self,doc_id):\n",
        "        temp = self.head\n",
        "        while temp != None:\n",
        "            if temp.doc_id == doc_id:\n",
        "                return temp\n",
        "            temp = temp.next\n",
        "        return None\n",
        "    \n",
        "    def remove(self,doc_id):\n",
        "        temp = self.head\n",
        "        prev = None\n",
        "        while temp != None:\n",
        "            if temp.doc_id == doc_id:\n",
        "                if prev == None:\n",
        "                    self.head = temp.next\n",
        "                else:\n",
        "                    prev.next = temp.next\n",
        "                self.size -= 1\n",
        "                return\n",
        "            prev = temp\n",
        "            temp = temp.next\n",
        "        return None\n",
        "\n",
        "class InvertedIndex:\n",
        "    \"\"\" InvertedIndex data structure class with insert, search and find functions\"\"\"\n",
        "    def __init__(self):\n",
        "        \"\"\"\n",
        "        Initializes the inverted index data structure.\n",
        "        index: A dictionary that maps words to a list of doc_ids\n",
        "        voc_list: A list of all the unique words in the index\n",
        "        voc_count: The number of words in the index\n",
        "        \"\"\"\n",
        "        self.index = {}\n",
        "        self.voc_list = []\n",
        "        self.voc_count = 0\n",
        "    \n",
        "    def insert(self,word,doc_id):\n",
        "        \"\"\"\n",
        "        Inserts a word into the inverted index and adds a doc_id to the list \n",
        "        Args: word, doc_id\n",
        "        \"\"\"\n",
        "        if word not in self.index:\n",
        "            self.index[word] = [doc_id]\n",
        "            if word[-1] == \"$\":\n",
        "              self.voc_list.append(word)\n",
        "            self.voc_count += 1\n",
        "        if doc_id not in self.index[word]:\n",
        "          self.index[word].append(doc_id)\n",
        "    def search(self,word):\n",
        "      \"\"\"\n",
        "      Searches the inverted index for a word and returns the list of doc_ids\n",
        "      \\n used in case of wildcard queries\n",
        "      \\n Args: word\n",
        "      \"\"\"\n",
        "      final_output = []\n",
        "      word_list = []\n",
        "      for w in self.index.keys():\n",
        "        if w.startswith(word):\n",
        "          word_list.append(get_main(w))\n",
        "          final_output.extend( self.index[w] )\n",
        "      return final_output,word_list\n",
        "    def find(self,word):\n",
        "        \"\"\"\n",
        "        Find if a word exists in the inverted index\n",
        "        and returns the list of doc_ids otherwise None\n",
        "        \\n used in case of regular queries \n",
        "        \\n Args: word\n",
        "        \"\"\"\n",
        "        if word in self.index:\n",
        "            return self.index[word]\n",
        "        else:\n",
        "            return None\n",
        "    def getSize(self):\n",
        "      \"\"\"\n",
        "      Returns the number of words in the inverted index\n",
        "      \"\"\"\n",
        "      return len(self.index)\n",
        "\n",
        "def get_main(word):\n",
        "  \"\"\"get the original word where $ is the last character,rotate till we reach state \"\"\"\n",
        "  while(word[-1] != '$'):\n",
        "    word = rotateString(word,1)\n",
        "  return word\n",
        "\n",
        "# intersection of 2 linked lists\n",
        "def intersect(list1, list2):\n",
        "    temp1 = list1.head\n",
        "    temp2 = list2.head\n",
        "    list3 = LinkedList()\n",
        "    while temp1 != None and temp2 != None:\n",
        "        if temp1.doc_id == temp2.doc_id:\n",
        "            list3.insert(Node(temp1.doc_id))\n",
        "            temp1 = temp1.next\n",
        "            temp2 = temp2.next\n",
        "        elif temp1.doc_id < temp2.doc_id:\n",
        "            temp1 = temp1.next\n",
        "        else:\n",
        "            temp2 = temp2.next\n",
        "    return list3"
      ],
      "metadata": {
        "id": "fhjassGwCp4H"
      },
      "execution_count": null,
      "outputs": []
    },
    {
      "cell_type": "code",
      "source": [
        "def convert(a,doc_id):\n",
        "  \"\"\" \n",
        "  Another approach to just use ints instead of a full list to store doc ids in a binary form\n",
        "  for example if we store 9 as the value, the binary value will be \n",
        "  00001001 which means the 1st and 4th docs have the word\n",
        "  \"\"\"\n",
        "  l = 1<<doc_id\n",
        "  return a|l\n"
      ],
      "metadata": {
        "id": "UbzjeHm4aMgj"
      },
      "execution_count": null,
      "outputs": []
    },
    {
      "cell_type": "code",
      "source": [
        "bin(convert(2,3))"
      ],
      "metadata": {
        "colab": {
          "base_uri": "https://localhost:8080/",
          "height": 35
        },
        "id": "MHVPKxPdal9S",
        "outputId": "1592b7ab-47ca-4ad3-ad43-a4d1f7d0dc0b"
      },
      "execution_count": null,
      "outputs": [
        {
          "output_type": "execute_result",
          "data": {
            "text/plain": [
              "'0b1010'"
            ],
            "application/vnd.google.colaboratory.intrinsic+json": {
              "type": "string"
            }
          },
          "metadata": {},
          "execution_count": 20
        }
      ]
    },
    {
      "cell_type": "markdown",
      "source": [
        "# Preprocessing functions"
      ],
      "metadata": {
        "id": "mrvJQUFmQRMv"
      }
    },
    {
      "cell_type": "code",
      "source": [
        "nltk.download('stopwords')\n",
        "nltk.download('punkt')\n"
      ],
      "metadata": {
        "colab": {
          "base_uri": "https://localhost:8080/"
        },
        "id": "Tofy4qfSJkI8",
        "outputId": "586ffe31-69fd-4657-9299-d237a4cacea0"
      },
      "execution_count": null,
      "outputs": [
        {
          "output_type": "stream",
          "name": "stdout",
          "text": [
            "[nltk_data] Downloading package stopwords to /root/nltk_data...\n",
            "[nltk_data]   Package stopwords is already up-to-date!\n",
            "[nltk_data] Downloading package punkt to /root/nltk_data...\n",
            "[nltk_data]   Package punkt is already up-to-date!\n"
          ]
        },
        {
          "output_type": "execute_result",
          "data": {
            "text/plain": [
              "True"
            ]
          },
          "metadata": {},
          "execution_count": 21
        }
      ]
    },
    {
      "cell_type": "code",
      "source": [
        "def tokenize(s):\n",
        "    \"\"\" Tokenize the string using word_tokenize from nltk \"\"\"\n",
        "    return word_tokenize(s)"
      ],
      "metadata": {
        "id": "nLBKW_gmDBrE"
      },
      "execution_count": null,
      "outputs": []
    },
    {
      "cell_type": "code",
      "source": [
        "stopwords = nltk.corpus.stopwords.words('english')\n",
        "def remove_stop_words(s):\n",
        "    \"\"\" Use nltk english stopwords and remove such tokens from our list \"\"\"\n",
        "    stop_words = set(stopwords)\n",
        "    filtered_list = [w for w in s if w not in stop_words]\n",
        "    return filtered_list"
      ],
      "metadata": {
        "id": "fS2Fe65VDVa8"
      },
      "execution_count": null,
      "outputs": []
    },
    {
      "cell_type": "code",
      "source": [
        "def stem_words(word_list):\n",
        "    \"\"\" Use the snowball stemming \"\"\" \n",
        "    stemmer = SnowballStemmer(\"english\")\n",
        "    stemmed_words = []\n",
        "    for word in word_list:\n",
        "        stemmed_words.append(stemmer.stem(word))\n",
        "    return stemmed_words"
      ],
      "metadata": {
        "id": "bKEpy6NhEPeH"
      },
      "execution_count": null,
      "outputs": []
    },
    {
      "cell_type": "code",
      "source": [
        "lemmatizer = WordNetLemmatizer()\n",
        "def lemmatize(s):\n",
        "    \"\"\" Lemmatization using the WordNet lemmatizer \"\"\" \n",
        "\n",
        "    return lemmatizer.lemmatize(s)"
      ],
      "metadata": {
        "id": "IVT6tm9Pm09Y"
      },
      "execution_count": null,
      "outputs": []
    },
    {
      "cell_type": "code",
      "source": [
        "def edit_distance(s1, s2):\n",
        "    \"\"\" Edit distance function using dynamic programming \"\"\"\n",
        "    m = len(s1)\n",
        "    n = len(s2)\n",
        "    dp = np.zeros((m+1, n+1))\n",
        "    for i in range(m+1):\n",
        "        dp[i][0] = i\n",
        "    for j in range(n+1):\n",
        "        dp[0][j] = j\n",
        "    for i in range(1, m+1):\n",
        "        for j in range(1, n+1):\n",
        "            if s1[i-1] == s2[j-1]:\n",
        "                dp[i][j] = dp[i-1][j-1]\n",
        "            else:\n",
        "                dp[i][j] = 1 + min(dp[i-1][j], dp[i][j-1], dp[i-1][j-1])\n",
        "    return dp[m][n]"
      ],
      "metadata": {
        "id": "MQujlXdxE8Ke"
      },
      "execution_count": null,
      "outputs": []
    },
    {
      "cell_type": "code",
      "source": [
        "def rotateString(s, n):\n",
        "    \"\"\" rotate string to the left by n places \"\"\"\n",
        "    return s[n:] + s[:n]"
      ],
      "metadata": {
        "id": "wEIbNUNqKAxs"
      },
      "execution_count": null,
      "outputs": []
    },
    {
      "cell_type": "code",
      "source": [
        "def permutation(w):\n",
        "  \"\"\" use permuterm for wildcard queries \"\"\" \n",
        "  w = w + \"$\"\n",
        "  l = []\n",
        "  for i in range(0,len(w)):\n",
        "    l.append(rotateString(w,i))\n",
        "  return l"
      ],
      "metadata": {
        "id": "PjKCs7_QJRwU"
      },
      "execution_count": null,
      "outputs": []
    },
    {
      "cell_type": "code",
      "source": [
        "permutation(\"hello\")"
      ],
      "metadata": {
        "colab": {
          "base_uri": "https://localhost:8080/"
        },
        "id": "dqfhDxtwJwVK",
        "outputId": "ab1c135d-a3b8-4104-cbc4-2f6e6ad43b5e"
      },
      "execution_count": null,
      "outputs": [
        {
          "output_type": "execute_result",
          "data": {
            "text/plain": [
              "['hello$', 'ello$h', 'llo$he', 'lo$hel', 'o$hell', '$hello']"
            ]
          },
          "metadata": {},
          "execution_count": 29
        }
      ]
    },
    {
      "cell_type": "markdown",
      "source": [
        "# Preprocessing Files"
      ],
      "metadata": {
        "id": "euYrpqu6mWjP"
      }
    },
    {
      "cell_type": "code",
      "source": [
        "!unzip dataset.zip -d IR"
      ],
      "metadata": {
        "id": "_v87KR3BKL9Q",
        "colab": {
          "base_uri": "https://localhost:8080/"
        },
        "outputId": "92fc4b65-b752-46ff-cfc8-64ee0520dc9c"
      },
      "execution_count": null,
      "outputs": [
        {
          "output_type": "stream",
          "name": "stdout",
          "text": [
            "Archive:  dataset.zip\n",
            "  inflating: IR/much-ado-about-nothing_TXT_FolgerShakespeare.txt  \n",
            "  inflating: IR/richard-iii_TXT_FolgerShakespeare.txt  \n",
            "  inflating: IR/the-winters-tale_TXT_FolgerShakespeare.txt  \n",
            "  inflating: IR/richard-ii_TXT_FolgerShakespeare.txt  \n",
            "  inflating: IR/henry-vi-part-3_TXT_FolgerShakespeare.txt  \n",
            "  inflating: IR/the-two-noble-kinsmen_TXT_FolgerShakespeare.txt  \n",
            "  inflating: IR/venus-and-adonis_TXT_FolgerShakespeare.txt  \n",
            "  inflating: IR/timon-of-athens_TXT_FolgerShakespeare.txt  \n",
            "  inflating: IR/the-merchant-of-venice_TXT_FolgerShakespeare.txt  \n",
            "  inflating: IR/loves-labors-lost_TXT_FolgerShakespeare.txt  \n",
            "  inflating: IR/troilus-and-cressida_TXT_FolgerShakespeare.txt  \n",
            "   creating: IR/__MACOSX/\n",
            "  inflating: IR/__MACOSX/._troilus-and-cressida_TXT_FolgerShakespeare.txt  \n",
            "  inflating: IR/a-midsummer-nights-dream_TXT_FolgerShakespeare.txt  \n",
            "  inflating: IR/lucrece_TXT_FolgerShakespeare.txt  \n",
            "  inflating: IR/henry-iv-part-1_TXT_FolgerShakespeare.txt  \n",
            "  inflating: IR/henry-vi-part-1_TXT_FolgerShakespeare.txt  \n",
            "  inflating: IR/henry-v_TXT_FolgerShakespeare.txt  \n",
            "  inflating: IR/__MACOSX/._henry-v_TXT_FolgerShakespeare.txt  \n",
            "  inflating: IR/pericles_TXT_FolgerShakespeare.txt  \n",
            "  inflating: IR/the-merry-wives-of-windsor_TXT_FolgerShakespeare.txt  \n",
            "  inflating: IR/as-you-like-it_TXT_FolgerShakespeare.txt  \n",
            "  inflating: IR/king-john_TXT_FolgerShakespeare.txt  \n",
            "  inflating: IR/cymbeline_TXT_FolgerShakespeare.txt  \n",
            "  inflating: IR/alls-well-that-ends-well_TXT_FolgerShakespeare.txt  \n",
            "  inflating: IR/henry-viii_TXT_FolgerShakespeare.txt  \n",
            "  inflating: IR/julius-caesar_TXT_FolgerShakespeare.txt  \n",
            "  inflating: IR/the-tempest_TXT_FolgerShakespeare.txt  \n",
            "  inflating: IR/macbeth_TXT_FolgerShakespeare.txt  \n",
            "  inflating: IR/hamlet_TXT_FolgerShakespeare.txt  \n",
            "  inflating: IR/__MACOSX/._hamlet_TXT_FolgerShakespeare.txt  \n",
            "  inflating: IR/the-taming-of-the-shrew_TXT_FolgerShakespeare.txt  \n",
            "  inflating: IR/coriolanus_TXT_FolgerShakespeare.txt  \n",
            "  inflating: IR/othello_TXT_FolgerShakespeare.txt  \n",
            "  inflating: IR/shakespeares-sonnets_TXT_FolgerShakespeare.txt  \n",
            "  inflating: IR/romeo-and-juliet_TXT_FolgerShakespeare.txt  \n",
            "  inflating: IR/measure-for-measure_TXT_FolgerShakespeare.txt  \n",
            "  inflating: IR/antony-and-cleopatra_TXT_FolgerShakespeare.txt  \n",
            "  inflating: IR/__MACOSX/._antony-and-cleopatra_TXT_FolgerShakespeare.txt  \n",
            "  inflating: IR/henry-vi-part-2_TXT_FolgerShakespeare.txt  \n",
            "  inflating: IR/titus-andronicus_TXT_FolgerShakespeare.txt  \n",
            "  inflating: IR/twelfth-night_TXT_FolgerShakespeare.txt  \n",
            "  inflating: IR/henry-iv-part-2_TXT_FolgerShakespeare.txt  \n",
            "  inflating: IR/king-lear_TXT_FolgerShakespeare.txt  \n",
            "  inflating: IR/the-comedy-of-errors_TXT_FolgerShakespeare.txt  \n",
            "  inflating: IR/the-phoenix-and-turtle_TXT_FolgerShakespeare.txt  \n",
            "  inflating: IR/the-two-gentlemen-of-verona_TXT_FolgerShakespeare.txt  \n"
          ]
        }
      ]
    },
    {
      "cell_type": "code",
      "source": [
        "doc_count = 0 # no of documents "
      ],
      "metadata": {
        "id": "v3wl0OOvM4X-"
      },
      "execution_count": null,
      "outputs": []
    },
    {
      "cell_type": "code",
      "source": [
        "doc_id_name_map = {} # map of int value and doc name"
      ],
      "metadata": {
        "id": "ODGLRwhW4Knw"
      },
      "execution_count": null,
      "outputs": []
    },
    {
      "cell_type": "code",
      "source": [
        "def preProcess(directory):\n",
        "    \"\"\" Main function to generate the inverted index \"\"\" \n",
        "    i_index = InvertedIndex()\n",
        "    files = os.listdir(directory) # get all the files in the directory\n",
        "    files_list = []\n",
        "    for file in files:\n",
        "        if file.endswith(\".txt\"): # only store text files\n",
        "            files_list.append(file)\n",
        "            #print(file)\n",
        "    print(f\"Total no of files is {len(files_list)}\")\n",
        "    global doc_count,doc_id_name_map\n",
        "    doc_count = len(files_list)\n",
        "    for i in range(0, len(files_list)):\n",
        "      # i is doc id\n",
        "      with open(directory + \"/\" + files_list[i], 'r') as f:\n",
        "        text = f.read()\n",
        "        doc_id_name_map[i+1] = files_list[i]\n",
        "        #text = re.sub(r'[^\\w\\s]', '', text)\n",
        "        text = re.sub(\"[^a-zA-Z]\",' ',text) # Consider only alphabets\n",
        "        text = text.lower() # convert to lowercase\n",
        "        #print(text)\n",
        "        print(i+1,files_list[i])\n",
        "        tokens = tokenize(text) # tokenize\n",
        "        rm_data = remove_stop_words(tokens) # remove stopwords\n",
        "        stemmed = stem_words(rm_data) # perform stemming\n",
        "\n",
        "        #print(f\"size of data to be added {len(set(stemmed))}\")\n",
        "        for w in stemmed:\n",
        "\n",
        "          #i_index.insert(rm_data[j],i)\n",
        "          #if i == 0:\n",
        "            #print(rm_data[j])\n",
        "\n",
        "          p = permutation(w) # find all the permutations of the word\n",
        "          for pw in p:\n",
        "            i_index.insert(pw,i+1) # insert the word into the index\n",
        "        #processFile(tokens,i,i_index)\n",
        "        #print(f\"Size of index after addition {i_index.getSize()}\")\n",
        "    i_Index_save = open('output_index_final', 'ab')\n",
        "    pickle.dump(i_index, i_Index_save) # Save the generated index for later use                     \n",
        "    i_Index_save.close()\n",
        "    return i_index\n"
      ],
      "metadata": {
        "id": "BuNlxZkJKeqb"
      },
      "execution_count": null,
      "outputs": []
    },
    {
      "cell_type": "code",
      "source": [
        "index = preProcess(\"IR\")"
      ],
      "metadata": {
        "colab": {
          "base_uri": "https://localhost:8080/"
        },
        "id": "-c4lHjSiK-NX",
        "outputId": "9f9e88a1-826d-4a45-99cf-47986c373194"
      },
      "execution_count": null,
      "outputs": [
        {
          "output_type": "stream",
          "name": "stdout",
          "text": [
            "Total no of files is 42\n",
            "1 king-john_TXT_FolgerShakespeare.txt\n",
            "2 romeo-and-juliet_TXT_FolgerShakespeare.txt\n",
            "3 richard-iii_TXT_FolgerShakespeare.txt\n",
            "4 pericles_TXT_FolgerShakespeare.txt\n",
            "5 the-tempest_TXT_FolgerShakespeare.txt\n",
            "6 richard-ii_TXT_FolgerShakespeare.txt\n",
            "7 macbeth_TXT_FolgerShakespeare.txt\n",
            "8 hamlet_TXT_FolgerShakespeare.txt\n",
            "9 henry-viii_TXT_FolgerShakespeare.txt\n",
            "10 as-you-like-it_TXT_FolgerShakespeare.txt\n",
            "11 the-winters-tale_TXT_FolgerShakespeare.txt\n",
            "12 troilus-and-cressida_TXT_FolgerShakespeare.txt\n",
            "13 the-merry-wives-of-windsor_TXT_FolgerShakespeare.txt\n",
            "14 the-taming-of-the-shrew_TXT_FolgerShakespeare.txt\n",
            "15 henry-vi-part-2_TXT_FolgerShakespeare.txt\n",
            "16 venus-and-adonis_TXT_FolgerShakespeare.txt\n",
            "17 the-merchant-of-venice_TXT_FolgerShakespeare.txt\n",
            "18 twelfth-night_TXT_FolgerShakespeare.txt\n",
            "19 henry-v_TXT_FolgerShakespeare.txt\n",
            "20 antony-and-cleopatra_TXT_FolgerShakespeare.txt\n",
            "21 measure-for-measure_TXT_FolgerShakespeare.txt\n",
            "22 much-ado-about-nothing_TXT_FolgerShakespeare.txt\n",
            "23 henry-iv-part-2_TXT_FolgerShakespeare.txt\n",
            "24 the-phoenix-and-turtle_TXT_FolgerShakespeare.txt\n",
            "25 the-two-gentlemen-of-verona_TXT_FolgerShakespeare.txt\n",
            "26 julius-caesar_TXT_FolgerShakespeare.txt\n",
            "27 king-lear_TXT_FolgerShakespeare.txt\n",
            "28 lucrece_TXT_FolgerShakespeare.txt\n",
            "29 henry-vi-part-1_TXT_FolgerShakespeare.txt\n",
            "30 alls-well-that-ends-well_TXT_FolgerShakespeare.txt\n",
            "31 timon-of-athens_TXT_FolgerShakespeare.txt\n",
            "32 shakespeares-sonnets_TXT_FolgerShakespeare.txt\n",
            "33 henry-vi-part-3_TXT_FolgerShakespeare.txt\n",
            "34 titus-andronicus_TXT_FolgerShakespeare.txt\n",
            "35 othello_TXT_FolgerShakespeare.txt\n",
            "36 loves-labors-lost_TXT_FolgerShakespeare.txt\n",
            "37 a-midsummer-nights-dream_TXT_FolgerShakespeare.txt\n",
            "38 the-two-noble-kinsmen_TXT_FolgerShakespeare.txt\n",
            "39 henry-iv-part-1_TXT_FolgerShakespeare.txt\n",
            "40 coriolanus_TXT_FolgerShakespeare.txt\n",
            "41 the-comedy-of-errors_TXT_FolgerShakespeare.txt\n",
            "42 cymbeline_TXT_FolgerShakespeare.txt\n"
          ]
        }
      ]
    },
    {
      "cell_type": "code",
      "source": [
        "print(index.voc_list)"
      ],
      "metadata": {
        "colab": {
          "base_uri": "https://localhost:8080/"
        },
        "id": "NGcQMiQWaELi",
        "outputId": "ec0f214f-a05d-428f-f84e-ae80052e53d3"
      },
      "execution_count": null,
      "outputs": [
        {
          "output_type": "stream",
          "name": "stdout",
          "text": [
            "['king$', 'john$', 'william$', 'shakespear$', 'edit$', 'barbara$', 'mowat$', 'paul$', 'werstin$', 'michael$', 'poston$', 'rebecca$', 'nile$', 'folger$', 'librari$', 'https$', 'edu$', 'work$', 'creat$', 'oct$', 'fdt$', 'version$', 'charact$', 'play$', 'england$', 'dominion$', 'assort$', 'continent$', 'territori$', 'queen$', 'eleanor$', 'mother$', 'widow$', 'henri$', 'ii$', 'blanch$', 'spain$', 'niec$', 'princ$', 'son$', 'constanc$', 'geoffrey$', 'elder$', 'brother$', 'arthur$', 'duke$', 'brittani$', 'philip$', 'franc$', 'loui$', 'dauphin$', 'austria$', 'also$', 'call$', 'limog$', 'chatillion$', 'ambassador$', 'count$', 'melun$', 'french$', 'herald$', 'cardin$', 'pandulph$', 'papal$', 'legat$', 'ladi$', 'faulconbridg$', 'bastard$', 'richard$', 'robert$', 'sir$', 'jame$', 'gurney$', 'servant$', 'hubert$', 'support$', 'english$', 'nobl$', 'earl$', 'salisburi$', 'pembrok$', 'essex$', 'lord$', 'bigot$', 'citizen$', 'angier$', 'peter$', 'pomfret$', 'prophet$', 'execution$', 'messeng$', 'sheriff$', 'soldier$', 'attend$', 'act$', 'scene$', 'enter$', 'say$', 'would$', 'us$', 'thus$', 'greet$', 'speak$', 'behavior$', 'majesti$', 'borrow$', 'strang$', 'begin$', 'silenc$', 'good$', 'hear$', 'embassi$', 'right$', 'true$', 'behalf$', 'thi$', 'deceas$', 'plantagenet$', 'lay$', 'law$', 'claim$', 'fair$', 'island$', 'ireland$', 'poitier$', 'anjou$', 'tourain$', 'main$', 'desir$', 'thee$', 'asid$', 'sword$', 'sway$', 'usurp$', 'sever$', 'titl$', 'put$', 'young$', 'hand$', 'nephew$', 'royal$', 'sovereign$', 'follow$', 'disallow$', 'proud$', 'control$', 'fierc$', 'bloodi$', 'war$', 'enforc$', 'forcibl$', 'withheld$', 'blood$', 'answer$', 'take$', 'defianc$', 'mouth$', 'farthest$', 'limit$', 'bear$', 'mine$', 'depart$', 'peac$', 'thou$', 'lightn$', 'eye$', 'ere$', 'canst$', 'report$', 'thunder$', 'cannon$', 'shall$', 'heard$', 'henc$', 'trumpet$', 'wrath$', 'sullen$', 'presag$', 'decay$', 'honor$', 'conduct$', 'let$', 'look$', 'farewel$', 'exit$', 'ever$', 'said$', 'ambiti$', 'ceas$', 'till$', 'kindl$', 'world$', 'upon$', 'parti$', 'might$', 'prevent$', 'made$', 'whole$', 'easi$', 'argument$', 'love$', 'manag$', 'two$', 'kingdom$', 'must$', 'fear$', 'issu$', 'arbitr$', 'strong$', 'possess$', 'much$', 'els$', 'go$', 'wrong$', 'conscienc$', 'whisper$', 'ear$', 'none$', 'god$', 'lieg$', 'strangest$', 'controversi$', 'come$', 'countri$', 'judg$', 'e$', 'er$', 'produc$', 'men$', 'approach$', 'abbey$', 'priori$', 'pay$', 'expedit$', 'charg$', 'faith$', 'subject$', 'gentleman$', 'born$', 'northamptonshir$', 'eldest$', 'suppos$', 'give$', 'coeur$', 'de$', 'lion$', 'knight$', 'field$', 'art$', 'heir$', 'came$', 'one$', 'seem$', 'certain$', 'mighti$', 'well$', 'known$', 'think$', 'father$', 'knowledg$', 'truth$', 'heaven$', 'doubt$', 'children$', 'may$', 'rude$', 'man$', 'dost$', 'shame$', 'wound$', 'diffid$', 'madam$', 'reason$', 'plea$', 'prove$', 'pop$', 'least$', 'five$', 'hundr$', 'pound$', 'year$', 'guard$', 'land$', 'blunt$', 'fellow$', 'younger$', 'doth$', 'thine$', 'inherit$', 'know$', 'except$', 'get$', 'slander$', 'bastardi$', 'whe$', 'begot$', 'still$', 'head$', 'fall$', 'bone$', 'took$', 'pain$', 'compar$', 'face$', 'old$', 'beget$', 'like$', 'knee$', 'thank$', 'madcap$', 'hath$', 'lent$', 'trick$', 'accent$', 'tongu$', 'affecteth$', 'read$', 'token$', 'larg$', 'composit$', 'examin$', 'part$', 'find$', 'perfect$', 'sirrah$', 'move$', 'half$', 'groat$', 'gracious$', 'live$', 'employ$', 'tale$', 'dispatch$', 'germani$', 'emperor$', 'treat$', 'high$', 'affair$', 'touch$', 'time$', 'th$', 'advantag$', 'absenc$', 'meantim$', 'sojourn$', 'prevail$', 'length$', 'sea$', 'shore$', 'lusti$', 'got$', 'deathb$', 'bequeath$', 'death$', 'full$', 'fourteen$', 'week$', 'cours$', 'legitim$', 'wife$', 'wedlock$', 'fals$', 'fault$', 'lie$', 'hazard$', 'husband$', 'marri$', 'wive$', 'tell$', 'sooth$', 'friend$', 'kept$', 'calf$', 'bred$', 'cow$', 'refus$', 'conclud$', 'forc$', 'dispossess$', 'child$', 'whether$', 'hadst$', 'rather$', 'enjoy$', 'reput$', 'presenc$', 'besid$', 'shape$', 'leg$', 'ride$', 'rod$', 'arm$', 'eel$', 'skin$', 'stuf$', 'thin$', 'durst$', 'stick$', 'rose$', 'lest$', 'three$', 'farth$', 'goe$', 'never$', 'stir$', 'place$', 'everi$', 'foot$', 'nob$', 'case$', 'wilt$', 'forsak$', 'fortun$', 'bound$', 'chanc$', 'yet$', 'sell$', 'penc$', 'tis$', 'dear$', 'unto$', 'nay$', 'thither$', 'manner$', 'better$', 'way$', 'name$', 'begun$', 'henceforth$', 'whose$', 'form$', 'bearest$', 'kneel$', 'rise$', 'great$', 'dub$', 'tap$', 'shoulder$', 'aris$', 'side$', 'gave$', 'bless$', 'hour$', 'night$', 'day$', 'away$', 'spirit$', 'grandam$', 'though$', 'someth$', 'littl$', 'window$', 'hatch$', 'dare$', 'walk$', 'howev$', 'catch$', 'near$', 'far$', 'shot$', 'howe$', 'hast$', 'landless$', 'make$', 'squir$', 'speed$', 'need$', 'adieu$', 'wast$', 'honesti$', 'mani$', 'wors$', 'joan$', 'den$', 'merci$', 'georg$', 'new$', 'forget$', 'respect$', 'sociabl$', 'convers$', 'travel$', 'toothpick$', 'worship$', 'mess$', 'stomach$', 'suffic$', 'suck$', 'teeth$', 'catech$', 'pick$', 'lean$', 'elbow$', 'beseech$', 'question$', 'absey$', 'book$', 'best$', 'command$', 'servic$', 'sweet$', 'save$', 'dialogu$', 'compliment$', 'talk$', 'alp$', 'apennin$', 'pyrenean$', 'river$', 'po$', 'draw$', 'toward$', 'supper$', 'conclus$', 'societi$', 'fit$', 'mount$', 'smack$', 'observ$', 'alon$', 'habit$', 'devic$', 'exterior$', 'outward$', 'accouter$', 'inward$', 'motion$', 'deliv$', 'poison$', 'age$', 'tooth$', 'practic$', 'deceiv$', 'avoid$', 'deceit$', 'mean$', 'learn$', 'strew$', 'footstep$', 'robe$', 'woman$', 'post$', 'blow$', 'horn$', 'bring$', 'court$', 'hastili$', 'slave$', 'hold$', 'chase$', 'colbrand$', 'giant$', 'seek$', 'ay$', 'unrever$', 'boy$', 'scorn$', 'st$', 'leav$', 'awhil$', 'sparrow$', 'toy$', 'abroad$', 'anon$', 'eat$', 'friday$', 'ne$', 'broke$', 'fast$', 'could$', 'confess$', 'handiwork$', 'therefor$', 'behold$', 'limb$', 'holp$', 'conspir$', 'gain$', 'shouldst$', 'defend$', 'untoward$', 'knave$', 'basilisco$', 'disclaim$', 'gone$', 'proper$', 'hope$', 'deni$', 'thyself$', 'devil$', 'long$', 'vehement$', 'suit$', 'seduc$', 'room$', 'bed$', 'transgress$', 'offens$', 'urg$', 'past$', 'defens$', 'light$', 'wish$', 'sin$', 'privileg$', 'earth$', 'folli$', 'heart$', 'dispos$', 'tribut$', 'furi$', 'unmatch$', 'aweless$', 'wage$', 'fight$', 'keep$', 'perforc$', 'rob$', 'easili$', 'win$', 'didst$', 'send$', 'soul$', 'hell$', 'show$', 'kin$', 'twas$', 'wear$', 'met$', 'brave$', 'forerunn$', 'fought$', 'holi$', 'palestin$', 'earli$', 'grave$', 'amend$', 'poster$', 'import$', 'hither$', 'spread$', 'color$', 'rebuk$', 'unnatur$', 'uncl$', 'embrac$', 'welcom$', 'forgiv$', 'offspr$', 'life$', 'shadow$', 'wing$', 'powerless$', 'unstain$', 'gate$', 'cheek$', 'zealous$', 'kiss$', 'seal$', 'indentur$', 'home$', 'return$', 'togeth$', 'pale$', 'white$', 'spurn$', 'back$', 'ocean$', 'roar$', 'tide$', 'coop$', 'even$', 'hedg$', 'water$', 'wall$', 'bulwark$', 'secur$', 'confid$', 'foreign$', 'purpos$', 'utmost$', 'corner$', 'west$', 'salut$', 'help$', 'strength$', 'requit$', 'lift$', 'charit$', 'bent$', 'brow$', 'resist$', 'town$', 'chiefest$', 'disciplin$', 'cull$', 'plot$', 'wade$', 'marketplac$', 'frenchmen$', 'stay$', 'unadvis$', 'stain$', 'repent$', 'drop$', 'hot$', 'rash$', 'indirect$', 'shed$', 'wonder$', 'lo$', 'arriv$', 'briefli$', 'gentl$', 'cold$', 'paus$', 'turn$', 'paltri$', 'sieg$', 'mightier$', 'task$', 'impati$', 'demand$', 'advers$', 'wind$', 'leisur$', 'given$', 'legion$', 'soon$', 'march$', 'expedi$', 'along$', 'ate$', 'strife$', 'unsettl$', 'humor$', 'inconsider$', 'fieri$', 'voluntari$', 'dragon$', 'spleen$', 'sold$', 'nativ$', 'birthright$', 'brief$', 'braver$', 'choic$', 'dauntless$', 'bottom$', 'waft$', 'float$', 'swell$', 'scath$', 'christendom$', 'drum$', 'beat$', 'interrupt$', 'churlish$', 'cut$', 'circumst$', 'parley$', 'prepar$', 'unlook$', 'unexpect$', 'awak$', 'endeavor$', 'courag$', 'mounteth$', 'occas$', 'other$', 'permit$', 'lineal$', 'entranc$', 'bleed$', 'ascend$', 'while$', 'agent$', 'correct$', 'contempt$', 'sake$', 'burden$', 'armor$', 'sweat$', 'toil$', 'underwrought$', 'sequenc$', 'outfac$', 'infant$', 'state$', 'done$', 'rape$', 'maiden$', 'virtu$', 'crown$', 'point$', 'mold$', 'abstract$', 'contain$', 'die$', 'huge$', 'volum$', 'templ$', 'owe$', 'ermasterest$', 'commiss$', 'articl$', 'supern$', 'thought$', 'breast$', 'author$', 'blot$', 'guardian$', 'warrant$', 'impeach$', 'chastis$', 'alack$', 'excus$', 'insol$', 'mayst$', 'check$', 'liker$', 'featur$', 'rain$', 'dam$', 'wert$', 'crier$', 'hide$', 'hare$', 'proverb$', 'valor$', 'pluck$', 'dead$', 'beard$', 'smoke$', 'coat$', 'becom$', 'disrob$', 'sight$', 'alcid$', 'shoe$', 'ass$', 'crack$', 'cracker$', 'deaf$', 'abund$', 'superflu$', 'breath$', 'determin$', 'straight$', 'women$', 'fool$', 'break$', 'confer$', 'sum$', 'resign$', 'defi$', 'yield$', 'coward$', 'submit$', 'plum$', 'cherri$', 'fig$', 'weep$', 'low$', 'laid$', 'worth$', 'coil$', 'poor$', 'pearl$', 'natur$', 'fee$', 'crystal$', 'bead$', 'bribe$', 'justic$', 'reveng$', 'monstrous$', 'injur$', 'domin$', 'royalti$', 'oppress$', 'infortun$', 'noth$', 'visit$', 'canon$', 'second$', 'generat$', 'remov$', 'conceiv$', 'womb$', 'bedlam$', 'plagu$', 'injuri$', 'beadl$', 'punish$', 'person$', 'scold$', 'bar$', 'wick$', 'canker$', 'temper$', 'ill$', 'beseem$', 'cri$', 'aim$', 'tune$', 'repetit$', 'summon$', 'admit$', 'sound$', 'warn$', 'parl$', 'first$', 'flag$', 'advanc$', 'prospect$', 'endamag$', 'bowel$', 'readi$', 'spit$', 'forth$', 'iron$', 'indign$', 'gainst$', 'merciless$', 'proceed$', 'confront$', 'citi$', 'wink$', 'sleep$', 'stone$', 'waist$', 'girdl$', 'compuls$', 'ordin$', 'fix$', 'lime$', 'dishabit$', 'wide$', 'havoc$', 'power$', 'rush$', 'brought$', 'countercheck$', 'unscratch$', 'threaten$', 'amaz$', 'vouchsaf$', 'instead$', 'bullet$', 'wrap$', 'fire$', 'shake$', 'fever$', 'shoot$', 'calm$', 'word$', 'fold$', 'faithless$', 'error$', 'trust$', 'accord$', 'kind$', 'labor$', 'forweari$', 'action$', 'swift$', 'crave$', 'harborag$', 'within$', 'protect$', 'divin$', 'vow$', 'stand$', 'downtrodden$', 'equiti$', 'tread$', 'warlik$', 'green$', 'enemi$', 'constraint$', 'hospit$', 'zeal$', 'relief$', 'religi$', 'provok$', 'pleas$', 'duti$', 'truli$', 'muzzl$', 'aspect$', 'malic$', 'vain$', 'spent$', 'invulner$', 'cloud$', 'unvex$', 'retir$', 'unback$', 'helmet$', 'unbruis$', 'spout$', 'fond$', 'pass$', 'proffer$', 'offer$', 'roundur$', 'harbor$', 'circumfer$', 'challeng$', 'signal$', 'rage$', 'stalk$', 'acknowledg$', 'loyal$', 'ram$', 'wit$', 'twice$', 'fifteen$', 'thousand$', 'breed$', 'verifi$', 'wellborn$', 'contradict$', 'compound$', 'worthiest$', 'everlast$', 'resid$', 'dew$', 'fleet$', 'dread$', 'trial$', 'amen$', 'chevali$', 'saint$', 'swing$', 'sinc$', 'sit$', 'horseback$', 'hostess$', 'door$', 'teach$', 'fenc$', 'lioness$', 'set$', 'ox$', 'monster$', 'trembl$', 'offic$', 'higher$', 'plain$', 'appoint$', 'regiment$', 'hill$', 'rest$', 'remain$', 'excurs$', 'open$', 'tear$', 'scatter$', 'ground$', 'grovel$', 'discolor$', 'victori$', 'loss$', 'danc$', 'banner$', 'triumphant$', 'display$', 'conqueror$', 'proclaim$', 'rejoic$', 'ring$', 'bell$', 'malici$', 'silver$', 'bright$', 'gilt$', 'stuck$', 'plume$', 'crest$', 'staff$', 'jolli$', 'troop$', 'huntsmen$', 'purpl$', 'dy$', 'slaughter$', 'foe$', 'victor$', 'tower$', 'last$', 'onset$', 'armi$', 'equal$', 'censur$', 'bought$', 'match$', 'alik$', 'greatest$', 'weigh$', 'neither$', 'includ$', 'cast$', 'current$', 'roam$', 'passag$', 'vex$', 'impedi$', 'channel$', 'erswel$', 'disturb$', 'confin$', 'unless$', 'progress$', 'lost$', 'swear$', 'climat$', 'overlook$', 'add$', 'number$', 'grace$', 'scroll$', 'coupl$', 'ha$', 'glori$', 'rich$', 'line$', 'chap$', 'steel$', 'fang$', 'feast$', 'mous$', 'flesh$', 'undetermin$', 'differ$', 'front$', 'potent$', 'confus$', 'confirm$', 'townsmen$', 'deputi$', 'greater$', 'undoubt$', 'lock$', 'former$', 'scrupl$', 'resolv$', 'purg$', 'depos$', 'scroyl$', 'flout$', 'battlement$', 'theater$', 'whenc$', 'gape$', 'industri$', 'rule$', 'mutin$', 'jerusalem$', 'conjoint$', 'bend$', 'sharpest$', 'deed$', 'east$', 'batter$', 'clamor$', 'brawl$', 'flinti$', 'rib$', 'contemptu$', 'incess$', 'jade$', 'unfenc$', 'desol$', 'nake$', 'vulgar$', 'air$', 'dissev$', 'unit$', 'mingl$', 'moment$', 'happi$', 'minion$', 'favor$', 'glorious$', 'wild$', 'counsel$', 'polici$', 'sky$', 'hang$', 'knit$', 'mettl$', 'peevish$', 'artilleri$', 'sauci$', 'dash$', 'pell$', 'mell$', 'assault$', 'destruct$', 'bosom$', 'north$', 'south$', 'drift$', 'prudent$', 'leagu$', 'without$', 'stroke$', 'rescu$', 'sacrific$', 'persev$', 'daughter$', 'maid$', 'quest$', 'beauti$', 'fairer$', 'search$', 'purer$', 'sought$', 'birth$', 'vein$', 'richer$', 'complet$', 'want$', 'left$', 'finish$', 'divid$', 'excel$', 'join$', 'glorifi$', 'bank$', 'stream$', 'union$', 'batteri$', 'close$', 'swifter$', 'powder$', 'fling$', 'ope$', 'enrag$', 'mountain$', 'rock$', 'free$', 'mortal$', 'peremptori$', 'rotten$', 'carcass$', 'rag$', 'inde$', 'familiar$', 'thirteen$', 'puppi$', 'dog$', 'bounc$', 'bastinado$', 'cudgel$', 'buffet$', 'fist$', 'zound$', 'bethump$', 'dad$', 'list$', 'conjunct$', 'dowri$', 'enough$', 'knot$', 'shalt$', 'sure$', 'tie$', 'unsur$', 'assur$', 'yon$', 'sun$', 'ripe$', 'bloom$', 'promiseth$', 'fruit$', 'see$', 'mark$', 'capabl$', 'ambit$', 'melt$', 'windi$', 'soft$', 'petit$', 'piti$', 'remors$', 'cool$', 'congeal$', 'doubl$', 'treati$', 'forward$', 'besieg$', 'liabl$', 'digniti$', 'gild$', 'bridal$', 'promot$', 'educ$', 'princess$', 'sayst$', 'wondrous$', 'miracl$', 'protest$', 'infix$', 'beheld$', 'drawn$', 'flatter$', 'tabl$', 'frown$', 'wrinkl$', 'quarter$', 'espi$', 'traitor$', 'vile$', 'lout$', 'aught$', 'anyth$', 'eas$', 'translat$', 'ea$', 'ly$', 'worthi$', 'merit$', 'hate$', 'wisdom$', 'ask$', 'refrain$', 'unfeign$', 'volquessen$', 'provinc$', 'addit$', 'thirti$', 'coin$', 'withal$', 'lip$', 'amiti$', 'mari$', 'chapel$', 'present$', 'rite$', 'marriag$', 'solemn$', 'sad$', 'passion$', 'tent$', 'cure$', 'content$', 'anoth$', 'vantag$', 'heal$', 'richmond$', 'speedi$', 'bid$', 'repair$', 'fill$', 'measur$', 'satisfi$', 'stop$', 'exclam$', 'suffer$', 'unprepar$', 'pomp$', 'mad$', 'will$', 'buckl$', 'chariti$', 'round$', 'changer$', 'sli$', 'broker$', 'pate$', 'daili$', 'beggar$', 'extern$', 'thing$', 'lose$', 'cheat$', 'smooth$', 'tickl$', 'commod$', 'bias$', 'peis$', 'run$', 'indiffer$', 'direct$', 'intent$', 'bawd$', 'chang$', 'clap$', 'fickl$', 'aid$', 'base$', 'rail$', 'woo$', 'clutch$', 'angel$', 'palm$', 'unattempt$', 'raileth$', 'vice$', 'beggari$', 'misspok$', 'misheard$', 'advis$', 'common$', 'believ$', 'oath$', 'contrari$', 'flight$', 'sick$', 'husbandless$', 'jest$', 'truce$', 'quak$', 'lament$', 'rheum$', 'peer$', 'sign$', 'caus$', 'sorrow$', 'belief$', 'encount$', 'desper$', 'meet$', 'brook$', 'news$', 'ugli$', 'harm$', 'spoke$', 'heinous$', 'bidd$', 'grim$', 'sland$', 'rous$', 'unpleas$', 'sightless$', 'lame$', 'foolish$', 'crook$', 'swart$', 'prodigi$', 'patch$', 'foul$', 'mole$', 'offend$', 'care$', 'deserv$', 'gift$', 'lili$', 'boast$', 'blown$', 'corrupt$', 'sh$', 'adulter$', 'golden$', 'sovereignti$', 'strumpet$', 'forsworn$', 'envenom$', 'woe$', 'underbear$', 'pardon$', 'instruct$', 'grief$', 'owner$', 'stoop$', 'assembl$', 'firm$', 'throne$', 'bow$', 'festiv$', 'alchemist$', 'splendor$', 'precious$', 'meager$', 'cloddi$', 'glitter$', 'gold$', 'letter$', 'among$', 'calendar$', 'perjuri$', 'pray$', 'cross$', 'seamen$', 'wrack$', 'bargain$', 'end$', 'yea$', 'hollow$', 'falsehood$', 'curs$', 'pawn$', 'beguil$', 'counterfeit$', 'resembl$', 'tri$', 'valueless$', 'spill$', 'strengthen$', 'grappl$', 'vigor$', 'rough$', 'paint$', 'perjur$', 'ungod$', 'sunset$', 'discord$', 'twixt$', 'spoil$', 'wretch$', 'valiant$', 'villaini$', 'stronger$', 'champion$', 'ladyship$', 'safeti$', 'ramp$', 'brag$', 'stamp$', 'sworn$', 'depend$', 'star$', 'doff$', 'calfskin$', 'recreant$', 'dar$', 'villain$', 'pope$', 'hail$', 'anoint$', 'errand$', 'milan$', 'innoc$', 'church$', 'stephen$', 'langton$', 'chosen$', 'archbishop$', 'canterburi$', 'foresaid$', 'earthi$', 'interrogatori$', 'sacr$', 'devis$', 'slight$', 'unworthi$', 'ridicul$', 'italian$', 'priest$', 'tith$', 'toll$', 'suprem$', 'supremaci$', 'reign$', 'uphold$', 'assist$', 'rever$', 'apart$', 'blasphem$', 'led$', 'grossli$', 'meddl$', 'money$', 'buy$', 'dross$', 'dust$', 'purchas$', 'sale$', 'juggl$', 'witchcraft$', 'revenu$', 'cherish$', 'oppos$', 'excommun$', 'revolt$', 'allegi$', 'heret$', 'meritori$', 'secret$', 'rome$', 'keen$', 'forbid$', 'peril$', 'arch$', 'rais$', 'disjoin$', 'listen$', 'ruffian$', 'pocket$', 'breech$', 'carri$', 'bethink$', 'heavi$', 'forgo$', 'easier$', 'tempt$', 'untrim$', 'bride$', 'grant$', 'infer$', 'principl$', 'trodden$', 'perplex$', 'reverend$', 'bestow$', 'newli$', 'link$', 'latest$', 'deep$', 'selv$', 'longer$', 'wash$', 'besmear$', 'overstain$', 'pencil$', 'incens$', 'late$', 'unyok$', 'seizur$', 'regreet$', 'loos$', 'unconst$', 'snatch$', 'unswear$', 'smile$', 'host$', 'riot$', 'sincer$', 'ordain$', 'impos$', 'order$', 'blest$', 'pleasur$', 'continu$', 'formless$', 'orderless$', 'opposit$', 'serpent$', 'chafe$', 'paw$', 'tiger$', 'safer$', 'mak$', 'civil$', 'sett$', 'perform$', 'swor$', 'amiss$', 'tend$', 'mistook$', 'mistak$', 'therebi$', 'grow$', 'scorch$', 'burn$', 'religion$', 'sureti$', 'mockeri$', 'later$', 'rebellion$', 'conquest$', 'constant$', 'nobler$', 'giddi$', 'suggest$', 'prayer$', 'despair$', 'black$', 'weight$', 'flat$', 'wed$', 'bray$', 'loud$', 'pronounc$', 'beg$', 'hard$', 'virtuous$', 'alter$', 'doom$', 'forethought$', 'motiv$', 'upholdeth$', 'muse$', 'profound$', 'pull$', 'denounc$', 'banish$', 'inconst$', 'rue$', 'clock$', 'setter$', 'bald$', 'sexton$', 'ercast$', 'whirl$', 'asund$', 'dismemb$', 'thrive$', 'whoever$', 'cousin$', 'puissanc$', 'inflam$', 'heat$', 'condit$', 'allay$', 'dearest$', 'valu$', 'ash$', 'quench$', 'jeopardi$', 'threat$', 'hie$', 'alarum$', 'airi$', 'hover$', 'pour$', 'mischief$', 'assail$', 'ta$', 'en$', 'retreat$', 'behind$', 'bag$', 'hoard$', 'abbot$', 'imprison$', 'liberti$', 'fat$', 'hungri$', 'fed$', 'use$', 'candl$', 'drive$', 'beck$', 'rememb$', 'coz$', 'kinsman$', 'hark$', 'creditor$', 'almost$', 'asham$', 'bounden$', 'creep$', 'slow$', 'wanton$', 'gaud$', 'audienc$', 'midnight$', 'brazen$', 'drowsi$', 'race$', 'churchyard$', 'sur$', 'melancholi$', 'bake$', 'thick$', 'idiot$', 'laughter$', 'strain$', 'idl$', 'merriment$', 'couldst$', 'repli$', 'conceit$', 'despit$', 'brood$', 'watch$', 'ah$', 'troth$', 'lov$', 'undertak$', 'adjunct$', 'wouldst$', 'throw$', 'whereso$', 'understand$', 'keeper$', 'merri$', 'intend$', 'fare$', 'calai$', 'ho$', 'tempest$', 'flood$', 'armada$', 'convict$', 'sail$', 'fellowship$', 'comfort$', 'beaten$', 'prison$', 'diver$', 'slain$', 'erbear$', 'spite$', 'fortifi$', 'advic$', 'exampl$', 'kindr$', 'prais$', 'pattern$', 'hair$', 'unbound$', 'etern$', 'afflict$', 'prithe$', 'patienc$', 'redress$', 'amiabl$', 'odorifer$', 'stench$', 'couch$', 'terror$', 'prosper$', 'detest$', 'eyebal$', 'vaulti$', 'finger$', 'household$', 'worm$', 'gap$', 'fulsom$', 'carrion$', 'grin$', 'smil$', 'buss$', 'miseri$', 'fell$', 'anatomi$', 'feebl$', 'voic$', 'modern$', 'invoc$', 'utter$', 'beli$', 'preach$', 'philosophi$', 'sensibl$', 'kill$', 'babe$', 'clout$', 'feel$', 'calam$', 'bind$', 'tress$', 'note$', 'multitud$', 'n$', 'ten$', 'wiri$', 'glue$', 'insepar$', 'yes$', 'wherefor$', 'tore$', 'bond$', 'aloud$', 'redeem$', 'envi$', 'commit$', 'cain$', 'male$', 'yesterday$', 'suspir$', 'creatur$', 'bud$', 'ghost$', 'dim$', 'agu$', 'pretti$', 'absent$', 'repeat$', 'stuff$', 'vacant$', 'garment$', 'unbind$', 'disord$', 'joy$', 'food$', 'outrag$', 'tedious$', 'told$', 'dull$', 'bitter$', 'tast$', 'naught$', 'diseas$', 'instant$', 'health$', 'strongest$', 'evil$', 'departur$', 'ning$', 'account$', 'clear$', 'griev$', 'heartili$', 'glad$', 'mind$', 'youth$', 'straw$', 'rub$', 'path$', 'lead$', 'seiz$', 'warm$', 'misplac$', 'entertain$', 'minut$', 'quiet$', 'scepter$', 'unruli$', 'boister$', 'maintain$', 'slipp$', 'ry$', 'nice$', 'fresh$', 'steep$', 'untru$', 'evilli$', 'peopl$', 'freez$', 'small$', 'step$', 'exhal$', 'scope$', 'distemp$', 'custom$', 'event$', 'meteor$', 'abort$', 'vengeanc$', 'mayb$', 'safe$', 'alreadi$', 'unacquaint$', 'matter$', 'methink$', 'hur$', 'ransack$', 'dozen$', 'train$', 'snow$', 'tumbl$', 'wrought$', 'discont$', 'top$', 'whet$', 'rope$', 'arra$', 'strike$', 'chair$', 'heed$', 'unclean$', 'lad$', 'morrow$', 'merrier$', 'nobodi$', 'gentlemen$', 'sheep$', 'afraid$', 'prate$', 'sudden$', 'today$', 'paper$', 'dispit$', 'tortur$', 'resolut$', 'tender$', 'womanish$', 'writ$', 'effect$', 'ach$', 'handkerch$', 'held$', 'cheer$', 'lack$', 'lien$', 'crafti$', 'cun$', 'red$', 'drink$', 'consum$', 'rust$', 'stubborn$', 'hammer$', 'brazier$', 'coal$', 'ala$', 'boist$', 'struggl$', 'lamb$', 'winc$', 'anger$', 'thrust$', 'whatev$', 'torment$', 'chid$', 'stern$', 'compass$', 'remedi$', 'mote$', 'grain$', 'gnat$', 'wander$', 'annoy$', 'sens$', 'horribl$', 'promis$', 'brace$', 'plead$', 'pair$', 'spare$', 'instrument$', 'undeserv$', 'extrem$', 'reviv$', 'blush$', 'glow$', 'perchanc$', 'sparkl$', 'compel$', 'master$', 'tar$', 'extend$', 'treasur$', 'disguis$', 'spi$', 'doubtless$', 'wealth$', 'danger$', 'undergo$', 'expect$', 'troubl$', 'refin$', 'perfum$', 'violet$', 'ice$', 'hue$', 'rainbow$', 'taper$', 'beauteous$', 'garnish$', 'excess$', 'ancient$', 'troublesom$', 'unseason$', 'antiqu$', 'disfigur$', 'shift$', 'fetch$', 'startl$', 'fright$', 'consider$', 'opinion$', 'suspect$', 'fashion$', 'workmen$', 'strive$', 'confound$', 'skill$', 'covet$', 'oftentim$', 'breach$', 'discredit$', 'overbear$', 'coron$', 'lesser$', 'endu$', 'reform$', 'perceiv$', 'request$', 'chief$', 'studi$', 'enfranchis$', 'restraint$', 'murmur$', 'mew$', 'choke$', 'barbar$', 'ignor$', 'exercis$', 'whereupon$', 'weal$', 'imag$', 'mood$', 'battl$', 'thenc$', 'although$', 'tonight$', 'felt$', 'either$', 'shear$', 'destini$', 'puls$', 'appar$', 'game$', 'breadth$', 'isl$', 'bad$', 'foundat$', 'achiev$', 'seen$', 'inhabit$', 'storm$', 'weather$', 'levi$', 'bodi$', 'copi$', 'intellig$', 'drunk$', 'slept$', 'april$', 'frenzi$', 'rumor$', 'withhold$', 'estat$', 'giv$', 'afeard$', 'worst$', 'unheard$', 'aloft$', 'sped$', 'clergymen$', 'collect$', 'express$', 'fantasi$', 'dream$', 'street$', 'found$', 'heel$', 'sung$', 'harsh$', 'rhyme$', 'next$', 'ascens$', 'noon$', 'dreamer$', 'foreknow$', 'whereon$', 'enkindl$', 'compani$', 'affright$', 'stout$', 'invas$', 'mercuri$', 'feather$', 'fli$', 'spright$', 'perhap$', 'betwixt$', 'moon$', 'four$', 'fifth$', 'beldam$', 'prophesi$', 'grip$', 'hearer$', 'wrist$', 'whilst$', 'nod$', 'roll$', 'saw$', 'smith$', 'anvil$', 'swallow$', 'tailor$', 'slipper$', 'nimbl$', 'feet$', 'embattl$', 'rank$', 'kent$', 'unwash$', 'artific$', 'urgest$', 'oft$', 'murder$', 'hous$', 'accompt$', 'damnat$', 'quot$', 'abhor$', 'apt$', 'faint$', 'endear$', 'destroy$', 'shook$', 'spake$', 'dark$', 'struck$', 'dumb$', 'consent$', 'consequ$', 'hostil$', 'tumult$', 'aliv$', 'crimson$', 'spot$', 'howsoev$', 'cover$', 'butcher$', 'tame$', 'obedi$', 'comment$', 'blind$', 'imaginari$', 'hideous$', 'closet$', 'angri$', 'conjur$', 'slowli$', 'dress$', 'shipboy$', 'leap$', 'hurt$', 'semblanc$', 'quit$', 'ventur$', 'jump$', 'edmundsburi$', 'privat$', 'general$', 'tomorrow$', 'morn$', 'twill$', 'journey$', 'bestain$', 'cloak$', 'pure$', 'print$', 'whate$', 'twere$', 'hole$', 'object$', 'height$', 'bloodiest$', 'wildest$', 'savageri$', 'vilest$', 'stare$', 'sole$', 'puriti$', 'unbegotten$', 'bloodsh$', 'spectacl$', 'damn$', 'graceless$', 'ensu$', 'ruin$', 'breathless$', 'infect$', 'delight$', 'sent$', 'bold$', 'avaunt$', 'sheath$', 'sharp$', 'nobil$', 'dunghil$', 'nobleman$', 'soe$', 'piec$', 'gall$', 'hasti$', 'betim$', 'maul$', 'toast$', 'renown$', 'date$', 'trade$', 'savor$', 'slaughterhous$', 'stifl$', 'smell$', 'buri$', 'inquir$', 'knew$', 'beyond$', 'infinit$', 'boundless$', 'reach$', 'rt$', 'lucif$', 'fiend$', 'cruel$', 'cord$', 'smallest$', 'thread$', 'spider$', 'twist$', 'serv$', 'strangl$', 'beam$', 'drown$', 'spoon$', 'grievous$', 'guilti$', 'steal$', 'embound$', 'clay$', 'thorn$', 'morsel$', 'realm$', 'fled$', 'tug$', 'scambl$', 'unow$', 'interest$', 'bare$', 'bristl$', 'snarleth$', 'vast$', 'wait$', 'raven$', 'beast$', 'immin$', 'wrest$', 'cinctur$', 'busi$', 'circl$', 'fore$', 'counti$', 'quarrel$', 'stranger$', 'inund$', 'mistemp$', 'qualifi$', 'med$', 'cine$', 'minist$', 'overthrow$', 'incur$', 'blew$', 'usag$', 'convertit$', 'hush$', 'blust$', 'dover$', 'castl$', 'london$', 'receiv$', 'hurri$', 'empti$', 'casket$', 'jewel$', 'droop$', 'distrust$', 'govern$', 'ner$', 'horror$', 'inferior$', 'glister$', 'intendeth$', 'aspir$', 'forag$', 'displeasur$', 'farther$', 'nigh$', 'dismiss$', 'inglori$', 'compromis$', 'insinu$', 'beardless$', 'cocker$', 'silken$', 'soil$', 'mock$', 'prouder$', 'remembr$', 'preced$', 'written$', 'perus$', 'sacrament$', 'inviol$', 'broken$', 'albeit$', 'unurg$', 'sore$', 'plaster$', 'contemn$', 'inveter$', 'metal$', 'maker$', 'physic$', 'deal$', 'injustic$', 'wherein$', 'withdraw$', 'gentri$', 'remot$', 'nation$', 'neptun$', 'clippeth$', 'pagan$', 'christian$', 'combin$', 'spend$', 'unneighbor$', 'affect$', 'wrestl$', 'earthquak$', 'combat$', 'wipe$', 'ordinari$', 'effus$', 'shower$', 'figur$', 'heav$', 'commend$', 'babi$', 'mirth$', 'gossip$', 'purs$', 'sinew$', 'apac$', 'reconcil$', 'stood$', 'metropoli$', 'savag$', 'foster$', 'properti$', 'secondari$', 'servingman$', 'throughout$', 'feed$', 'weak$', 'taught$', 'acquaint$', 'enterpris$', 'conquer$', 'penni$', 'provid$', 'munit$', 'underprop$', 'shout$', 'vive$', 'le$', 'roi$', 'card$', 'outsid$', 'insid$', 'attempt$', 'ampl$', 'drew$', 'gallant$', 'outlook$', 'jaw$', 'dealt$', 'tempor$', 'entreati$', 'apish$', 'unmann$', 'har$', 'masqu$', 'revel$', 'boyish$', 'whip$', 'dwarfish$', 'pigmi$', 'dive$', 'bucket$', 'conceal$', 'crouch$', 'litter$', 'stabl$', 'plank$', 'chest$', 'trunk$', 'hug$', 'swine$', 'vault$', 'thrill$', 'crow$', 'englishman$', 'chamber$', 'monarch$', 'eagl$', 'aeri$', 'sous$', 'nest$', 'degener$', 'ingrat$', 'nero$', 'rip$', 'visag$', 'amazon$', 'trip$', 'thimbl$', 'gauntlet$', 'needl$', 'lanc$', 'inclin$', 'outscold$', 'brabbler$', 'start$', 'echo$', 'reverber$', 'rattl$', 'welkin$', 'halt$', 'sport$', 'forehead$', 'swinstead$', 'suppli$', 'ago$', 'goodwin$', 'sand$', 'tyrant$', 'possesseth$', 'store$', 'miscarri$', 'misbegotten$', 'unthread$', 'discard$', 'recompens$', 'altar$', 'swore$', 'possibl$', 'view$', 'retain$', 'quantiti$', 'wax$', 'resolveth$', 'daybreak$', 'contagi$', 'weari$', 'expir$', 'fine$', 'rate$', 'treacheri$', 'treacher$', 'grandsir$', 'lieu$', 'whereof$', 'nois$', 'remnant$', 'contempl$', 'devout$', 'beshrew$', 'untread$', 'bate$', 'irregular$', 'erlook$', 'pang$', 'methought$', 'loath$', 'western$', 'backward$', 'volley$', 'needless$', 'tott$', 'persuas$', 'sunk$', 'shrewd$', 'stumbl$', 'adventur$', 'quick$', 'whither$', 'befriend$', 'unkind$', 'endless$', 'scape$', 'san$', 'comfortless$', 'swoon$', 'monk$', 'speechless$', 'burst$', 'peradventur$', 'recov$', 'taken$', 'lincoln$', 'devour$', 'escap$', 'brain$', 'frail$', 'dwell$', 'foretel$', 'qualiti$', 'assaileth$', 'orchard$', 'patient$', 'vaniti$', 'prey$', 'invis$', 'prick$', 'throng$', 'press$', 'sing$', 'cygnet$', 'swan$', 'chant$', 'dole$', 'hymn$', 'organ$', 'pipe$', 'frailti$', 'indigest$', 'shapeless$', 'summer$', 'crumbl$', 'scribbl$', 'pen$', 'parchment$', 'shrink$', 'forsook$', 'winter$', 'ici$', 'maw$', 'entreat$', 'bleak$', 'parch$', 'strait$', 'reliev$', 'salt$', 'tyrann$', 'unrepriev$', 'condemn$', 'scald$', 'violent$', 'tackl$', 'burnt$', 'shroud$', 'wherewith$', 'string$', 'seest$', 'clod$', 'modul$', 'hitherward$', 'unwarili$', 'sphere$', 'mend$', 'push$', 'perpetu$', 'carriag$', 'afternoon$', 'consumm$', 'happili$', 'funer$', 'worcest$', 'inter$', 'self$', 'submiss$', 'forevermor$', 'beforehand$', 'shock$', 'romeo$', 'juliet$', 'jul$', 'montagu$', 'benvolio$', 'abram$', 'balthasar$', 'capulet$', 'nurs$', 'tybalt$', 'petruchio$', 'companion$', 'servingmen$', 'sampson$', 'gregori$', 'escalus$', 'verona$', 'pari$', 'suitor$', 'mercutio$', 'page$', 'friar$', 'lawrenc$', 'apothecari$', 'musician$', 'watchmen$', 'chorus$', 'masker$', 'torchbear$', 'gentlewomen$', 'prologu$', 'grudg$', 'mutini$', 'fatal$', 'loin$', 'lover$', 'misadventur$', 'piteous$', 'parent$', 'traffic$', 'stage$', 'miss$', 'buckler$', 'collier$', 'choler$', 'neck$', 'collar$', 'runn$', 'weakest$', 'weaker$', 'vessel$', 'maidenhead$', 'abl$', 'fish$', 'tool$', 'weapon$', 'bite$', 'thumb$', 'disgrac$', 'kinsmen$', 'heartless$', 'hind$', 'club$', 'partisan$', 'bill$', 'gown$', 'crutch$', 'flourish$', 'blade$', 'rebelli$', 'profan$', 'neighbor$', 'pernici$', 'fountain$', 'sentenc$', 'thrice$', 'ornament$', 'wield$', 'forfeit$', 'judgment$', 'abroach$', 'began$', 'adversari$', 'swung$', 'hiss$', 'interchang$', 'fray$', 'drove$', 'underneath$', 'grove$', 'sycamor$', 'westward$', 'rooteth$', 'ware$', 'stole$', 'covert$', 'wood$', 'pursu$', 'shun$', 'augment$', 'ad$', 'sigh$', 'shadi$', 'curtain$', 'aurora$', 'shut$', 'daylight$', 'artifici$', 'portent$', 'importun$', 'counselor$', 'discoveri$', 'bit$', 'envious$', 'dedic$', 'grievanc$', 'shrift$', 'nine$', 'went$', 'lengthen$', 'short$', 'proof$', 'muffl$', 'pathway$', 'dine$', 'serious$', 'misshapen$', 'chao$', 'wake$', 'laugh$', 'propag$', 'shown$', 'fume$', 'nourish$', 'discreet$', 'preserv$', 'tut$', 'groan$', 'markman$', 'soonest$', 'hit$', 'cupid$', 'arrow$', 'dian$', 'chastiti$', 'childish$', 'uncharm$', 'term$', 'bide$', 'lap$', 'chast$', 'starv$', 'wise$', 'bliss$', 'exquisit$', 'mask$', 'strucken$', 'eyesight$', 'mistress$', 'doctrin$', 'debt$', 'penalti$', 'reckon$', 'odd$', 'wither$', 'pride$', 'mar$', 'agre$', 'accustom$', 'whereto$', 'invit$', 'guest$', 'apparel$', 'limp$', 'fennel$', 'reck$', 'trudg$', 'shoemak$', 'yard$', 'fisher$', 'painter$', 'net$', 'write$', 'lessen$', 'anguish$', 'languish$', 'plantain$', 'leaf$', 'shin$', 'madman$', 'gi$', 'languag$', 'honest$', 'signior$', 'martino$', 'anselm$', 'sister$', 'vitruvio$', 'placentio$', 'valentin$', 'rosalin$', 'livia$', 'valentio$', 'lucio$', 'helena$', 'crush$', 'cup$', 'wine$', 'sup$', 'admir$', 'unattaint$', 'often$', 'transpar$', 'liar$', 'pois$', 'scale$', 'shine$', 'scant$', 'twelv$', 'bade$', 'ladybird$', 'girl$', 'knowest$', 'teen$', 'spoken$', 'lammastid$', 'fortnight$', 'lamma$', 'eve$', 'susan$', 'eleven$', 'wean$', 'wormwood$', 'dug$', 'dovehous$', 'mantua$', 'nippl$', 'tetchi$', 'quoth$', 'trow$', 'lone$', 'rood$', 'waddl$', 'jule$', 'holidam$', 'stint$', 'choos$', 'bump$', 'big$', 'cock$', 'rel$', 'knock$', 'comest$', 'prettiest$', 'theme$', 'disposit$', 'teat$', 'esteem$', 'flower$', 'lineament$', 'lend$', 'obscur$', 'margent$', 'beautifi$', 'share$', 'clasp$', 'stori$', 'less$', 'bigger$', 'endart$', 'pantri$', 'everyth$', 'six$', 'speech$', 'apolog$', 'prolix$', 'hoodwink$', 'scarf$', 'tartar$', 'lath$', 'scare$', 'crowkeep$', 'prompter$', 'torch$', 'ambl$', 'stake$', 'soar$', 'enpierc$', 'shaft$', 'pitch$', 'sink$', 'visor$', 'curious$', 'cote$', 'deform$', 'beetl$', 'sooner$', 'betak$', 'senseless$', 'phrase$', 'holder$', 'dun$', 'constabl$', 'mire$', 'stickest$', 'delay$', 'dreamt$', 'asleep$', 'mab$', 'fairi$', 'midwif$', 'agat$', 'forefing$', 'alderman$', 'team$', 'atomi$', 'nose$', 'wagon$', 'spinner$', 'grasshopp$', 'trace$', 'web$', 'moonshin$', 'wat$', 'cricket$', 'lash$', 'film$', 'gray$', 'lazi$', 'chariot$', 'hazelnut$', 'joiner$', 'squirrel$', 'grub$', 'coachmak$', 'gallop$', 'courtier$', 'cur$', 'sie$', 'lawyer$', 'blister$', 'sweetmeat$', 'taint$', 'sometim$', 'pig$', 'tail$', 'parson$', 'benefic$', 'driveth$', 'throat$', 'ambuscado$', 'spanish$', 'fathom$', 'plat$', 'mane$', 'hors$', 'elflock$', 'sluttish$', 'untangl$', 'misfortun$', 'bode$', 'hag$', 'substanc$', 'frozen$', 'puff$', 'misgiv$', 'despis$', 'untim$', 'steerag$', 'napkin$', 'potpan$', 'trencher$', 'scrape$', 'joint$', 'stool$', 'cupboard$', 'plate$', 'marchpan$', 'porter$', 'grindston$', 'nell$', 'anthoni$', 'third$', 'brisk$', 'liver$', 'toe$', 'unplagu$', 'corn$', 'bout$', 'dainti$', 'worn$', 'music$', 'hall$', 'grown$', 'r$', 'nuptial$', 'lucentio$', 'pentecost$', 'twenti$', 'ward$', 'enrich$', 'yonder$', 'ethiop$', 'snowi$', 'dove$', 'forswear$', 'rapier$', 'antic$', 'fleer$', 'stock$', 'port$', 'disparag$', 'endur$', 'goodman$', 'hoop$', 'princox$', 'intrus$', 'convert$', 'bitt$', 'unworthiest$', 'shrine$', 'pilgrim$', 'devot$', 'palmer$', 'trespass$', 'bachelor$', 'chink$', 'begon$', 'unrest$', 'trifl$', 'banquet$', 'fay$', 'yond$', 'tiberio$', 'sprung$', 'unknown$', 'belov$', 'bewitch$', 'charm$', 'complain$', 'bait$', 'hook$', 'access$', 'anywher$', 'temp$', 'center$', 'stol$', 'ran$', 'leapt$', 'appear$', 'venus$', 'nicknam$', 'purblind$', 'abraham$', 'trim$', 'cophetua$', 'heareth$', 'stirreth$', 'moveth$', 'ape$', 'scarlet$', 'quiver$', 'thigh$', 'demesn$', 'adjac$', 'twould$', 'hid$', 'tree$', 'consort$', 'befit$', 'medlar$', 'ars$', 'rin$', 'pear$', 'truckl$', 'scar$', 'vestal$', 'liveri$', 'discours$', 'fairest$', 'twinkl$', 'lamp$', 'region$', 'bird$', 'glove$', 'upturn$', 'wond$', 'gaze$', 'bestrid$', 'puf$', 'belong$', 'baptiz$', 'bescreen$', 'stumblest$', 'dislik$', 'camest$', 'climb$', 'consid$', 'erperch$', 'stoni$', 'enmiti$', 'prorogu$', 'prompt$', 'pilot$', 'merchandis$', 'bepaint$', 'fain$', 'jove$', 'thinkest$', 'pervers$', 'havior$', 'coy$', 'overheard$', 'imput$', 'discov$', 'tip$', 'month$', 'orb$', 'likewis$', 'variabl$', 'idolatri$', 'contract$', 'lighten$', 'ripen$', 'repos$', 'unsatisfi$', 'satisfact$', 'exchang$', 'frank$', 'bounti$', 'substanti$', 'reenter$', 'procur$', 'meanest$', 'schoolboy$', 'school$', 'hist$', 'falc$', 'lure$', 'tassel$', 'bondag$', 'hoars$', 'cave$', 'softest$', 'fail$', 'forgot$', 'hop$', 'gyve$', 'jealous$', 'cell$', 'hap$', 'basket$', 'eastern$', 'streak$', 'fleckl$', 'drunkard$', 'reel$', 'titan$', 'wheel$', 'dank$', 'dri$', 'upfil$', 'osier$', 'cage$', 'bale$', 'weed$', 'juic$', 'tomb$', 'mickl$', 'plant$', 'herb$', 'special$', 'abus$', 'misappli$', 'dignifi$', 'rind$', 'medicin$', 'smelt$', 'encamp$', 'worser$', 'predomin$', 'benedicit$', 'saluteth$', 'argu$', 'lodg$', 'unstuf$', 'uprous$', 'ratur$', 'sweeter$', 'hatr$', 'intercess$', 'stead$', 'riddl$', 'franci$', 'forsaken$', 'jesu$', 'maria$', 'brine$', 'sallow$', 'thrown$', 'season$', 'dote$', 'pupil$', 'chide$', 'allow$', 'rote$', 'spell$', 'waver$', 'allianc$', 'rancor$', 'wench$', 'stab$', 'song$', 'pin$', 'cleft$', 'butt$', 'cat$', 'captain$', 'distanc$', 'proport$', 'minim$', 'silk$', 'button$', 'duelist$', 'immort$', 'passado$', 'punto$', 'reverso$', 'hay$', 'pox$', 'lisp$', 'phantasim$', 'tuner$', 'tall$', 'whore$', 'monger$', 'bench$', 'roe$', 'herring$', 'fishifi$', 'petrarch$', 'flow$', 'laura$', 'kitchen$', 'berhym$', 'dido$', 'dowdi$', 'cleopatra$', 'gypsi$', 'helen$', 'hero$', 'hild$', 'harlot$', 'thisb$', 'bonjour$', 'slop$', 'slip$', 'courtesi$', 'constrain$', 'ham$', 'curtsi$', 'courteous$', 'exposit$', 'pink$', 'pump$', 'singl$', 'singular$', 'switch$', 'spur$', 'goos$', 'sauc$', 'cheveril$', 'stretch$', 'inch$', 'narrow$', 'ell$', 'broad$', 'drivel$', 'loll$', 'baubl$', 'desirest$', 'depth$', 'meant$', 'occupi$', 'gear$', 'shirt$', 'smock$', 'fan$', 'gentlewoman$', 'bawdi$', 'dial$', 'older$', 'youngest$', 'indit$', 'lenten$', 'pie$', 'stale$', 'hoar$', 'meat$', 'score$', 'dinner$', 'merchant$', 'roperi$', 'lustier$', 'jack$', 'scurvi$', 'flirt$', 'gill$', 'skain$', 'mate$', 'afor$', 'paradis$', 'gross$', 'gentlemanlik$', 'shrive$', 'stair$', 'topgal$', 'convoy$', 'trusti$', 'sweetest$', 'knife$', 'aboard$', 'lief$', 'toad$', 'versal$', 'rosemari$', 'mocker$', 'sententi$', 'faster$', 'glide$', 'lour$', 'pinion$', 'highmost$', 'ball$', 'bandi$', 'folk$', 'feign$', 'unwieldi$', 'honey$', 'lookest$', 'merrili$', 'shamest$', 'sour$', 'aweari$', 'fie$', 'jaunt$', 'simpl$', 'sorri$', 'handsom$', 'repliest$', 'poultic$', 'henceforward$', 'messag$', 'ladder$', 'drudg$', 'countervail$', 'triumph$', 'loathsom$', 'delici$', 'appetit$', 'moder$', 'tardi$', 'flint$', 'gossam$', 'confessor$', 'heap$', 'blazon$', 'sweeten$', 'unfold$', 'imagin$', 'incorpor$', 'capel$', 'tavern$', 'oper$', 'drawer$', 'itali$', 'moodi$', 'nut$', 'hazel$', 'egg$', 'addl$', 'cough$', 'waken$', 'lain$', 'doublet$', 'easter$', 'ribbon$', 'tutor$', 'consortest$', 'minstrel$', 'fiddlestick$', 'public$', 'haunt$', 'budg$', 'afford$', 'appertain$', 'dishonor$', 'alla$', 'stoccato$', 'ratcatch$', 'hereaft$', 'eight$', 'pilcher$', 'forbear$', 'expressli$', 'scratch$', 'surgeon$', 'pepper$', 'rat$', 'braggart$', 'rogu$', 'arithmet$', 'alli$', 'effemin$', 'soften$', 'fate$', 'furious$', 'leniti$', 'gavest$', 'obey$', 'beginn$', 'unlucki$', 'slew$', 'slay$', 'humbl$', 'tilt$', 'pierc$', 'martial$', 'dexter$', 'retort$', 'agil$', 'price$', 'immedi$', 'exil$', 'amerc$', 'steed$', 'phoebus$', 'phaeton$', 'cloudi$', 'runaway$', 'untalk$', 'unseen$', 'amor$', 'sober$', 'matron$', 'stainless$', 'maidenhood$', 'hood$', 'unman$', 'mantl$', 'modesti$', 'whiter$', 'garish$', 'mansion$', 'eloqu$', 'wring$', 'weraday$', 'undon$', 'dismal$', 'vowel$', 'dart$', 'cockatric$', 'cors$', 'bedaub$', 'gore$', 'bankrout$', 'bier$', 'dearer$', 'wolvish$', 'divinest$', 'just$', 'bower$', 'gorgeous$', 'palac$', 'dissembl$', 'aqua$', 'vita$', 'univers$', 'mangl$', 'spring$', 'tributari$', 'memori$', 'sinner$', 'rearward$', 'wail$', 'highway$', 'wot$', 'enamor$', 'doomsday$', 'gentler$', 'vanish$', 'purgatori$', 'misterm$', 'cutt$', 'ax$', 'smilest$', 'unthank$', 'valid$', 'courtship$', 'sayest$', 'mix$', 'howl$', 'absolv$', 'profess$', 'milk$', 'displant$', 'revers$', 'madmen$', 'disput$', 'mightst$', 'unmad$', 'heartsick$', 'mistlik$', 'enfold$', 'woeful$', 'sympathi$', 'predica$', 'blubb$', 'spakest$', 'childhood$', 'cancel$', 'level$', 'gun$', 'sack$', 'dagger$', 'denot$', 'unreason$', 'unseem$', 'railest$', 'usur$', 'abound$', 'usest$', 'bedeck$', 'digress$', 'skilless$', 'flask$', 'afir$', 'slewest$', 'pack$', 'array$', 'misbehav$', 'pout$', 'miser$', 'decre$', 'blaze$', 'hasten$', 'signifi$', 'fallen$', 'unluckili$', 'abe$', 'wednesday$', 'monday$', 'thursday$', 'ado$', 'careless$', 'nightingal$', 'lark$', 'pomegran$', 'lace$', 'jocund$', 'tipto$', 'misti$', 'reflex$', 'cynthia$', 'divis$', 'divideth$', 'affray$', 'hunt$', 'wari$', 'descend$', 'omit$', 'opportun$', 'convey$', 'unaccustom$', 'evermor$', 'mile$', 'veng$', 'runag$', 'dram$', 'receipt$', 'thereof$', 'wreak$', 'bore$', 'needi$', 'sort$', 'drizzl$', 'downright$', 'conduit$', 'bark$', 'ebb$', 'overset$', 'toss$', 'chop$', 'logic$', 'fettl$', 'drag$', 'hurdl$', 'baggag$', 'tallow$', 'disobedi$', 'itch$', 'scarc$', 'blame$', 'prudenc$', 'smatter$', 'treason$', 'g$', 'eden$', 'mumbl$', 'graviti$', 'bowl$', 'bread$', 'parentag$', 'nobli$', 'lign$', 'pule$', 'whine$', 'mammet$', 'graze$', 'monument$', 'stratagem$', 'stealth$', 'dishclout$', 'marvel$', 'displeas$', 'disprais$', 'twain$', 'slack$', 'uneven$', 'immoder$', 'text$', 'mass$', 'pensiv$', 'shield$', 'hearest$', 'label$', 'experienc$', 'umpir$', 'execut$', 'cop$', 'darest$', 'thievish$', 'lurk$', 'chain$', 'charnel$', 'ercov$', 'reeki$', 'shank$', 'yellow$', 'chapless$', 'skull$', 'vial$', 'distil$', 'liquor$', 'surceas$', 'warmth$', 'testifi$', 'livest$', 'fade$', 'pali$', 'depriv$', 'suppl$', 'stiff$', 'stark$', 'shrunk$', 'forti$', 'pleasant$', 'bridegroom$', 'uncov$', 'abat$', 'hire$', 'cook$', 'lick$', 'unfurnish$', 'forsooth$', 'harlotri$', 'headstrong$', 'gad$', 'behest$', 'enjoin$', 'prostrat$', 'furnish$', 'provis$', 'tush$', 'deck$', 'housewif$', 'wayward$', 'reclaim$', 'attir$', 'orison$', 'necessari$', 'behoov$', 'mixtur$', 'subt$', 'healthsom$', 'receptacl$', 'ancestor$', 'fest$', 'resort$', 'shriek$', 'mandrak$', 'torn$', 'distraught$', 'environ$', 'forefath$', 'desp$', 'key$', 'spice$', 'quinc$', 'pastri$', 'curfew$', 'rung$', 'angelica$', 'cost$', 'cot$', 'quean$', 'whit$', 'log$', 'drier$', 'whoreson$', 'loggerhead$', 'chat$', 'slugab$', 'sweetheart$', 'pennyworth$', 'cloth$', 'settl$', 'separ$', 'frost$', 'deflow$', 'accurs$', 'unhappi$', 'pilgrimag$', 'solac$', 'divorc$', 'overthrown$', 'distress$', 'martyr$', 'uncomfort$', 'cam$', 'burial$', 'dirg$', 'everyon$', 'dump$', 'gleek$', 'crochet$', 'fa$', 'gripe$', 'simon$', 'catl$', 'hugh$', 'rebeck$', 'soundpost$', 'singer$', 'pestil$', 'tarri$', 'mourner$', 'boot$', 'ink$', 'hereabout$', 'tatter$', 'overwhelm$', 'shop$', 'tortois$', 'hung$', 'allig$', 'shelv$', 'box$', 'earthen$', 'pot$', 'bladder$', 'musti$', 'seed$', 'packthread$', 'cake$', 'penuri$', 'caitiff$', 'forerun$', 'holiday$', 'ducat$', 'dispers$', 'taker$', 'discharg$', 'drug$', 'wretched$', 'fearest$', 'famin$', 'starveth$', 'poverti$', 'liquid$', 'cordial$', 'franciscan$', 'barefoot$', 'associ$', 'searcher$', 'infecti$', 'brotherhood$', 'neglect$', 'notic$', 'accid$', 'aloof$', 'yew$', 'unfirm$', 'dig$', 'whistl$', 'canopi$', 'moan$', 'obsequi$', 'mattock$', 'wrench$', 'chiefli$', 'pri$', 'inexor$', 'friendship$', 'gorg$', 'cram$', 'haughti$', 'apprehend$', 'unhallow$', 'commin$', 'felon$', 'betoss$', 'rode$', 'lantern$', 'ensign$', 'liest$', 'sheet$', 'sunder$', 'unsubstanti$', 'paramour$', 'chambermaid$', 'yoke$', 'inauspici$', 'righteous$', 'dateless$', 'engross$', 'unsavori$', 'guid$', 'seasick$', 'spade$', 'eyeless$', 'discern$', 'burneth$', 'menac$', 'unthrifti$', 'sepulch$', 'masterless$', 'gori$', 'contagion$', 'thwart$', 'sisterhood$', 'nun$', 'timeless$', 'churl$', 'hapli$', 'restor$', 'whoe$', 'attach$', 'descri$', 'watchman$', 'suspicion$', 'outcri$', 'mista$', 'mis$', 'untaught$', 'ambigu$', 'descent$', 'mischanc$', 'dire$', 'pine$', 'betroth$', 'rid$', 'potion$', 'yesternight$', 'prefix$', 'conveni$', 'awaken$', 'violenc$', 'privi$', 'sacrif$', 'rigor$', 'severest$', 'pothecari$', 'therewith$', 'scourg$', 'jointur$', 'ray$', 'statu$', 'gloom$', 'iii$', 'gloucest$', 'ann$', 'edward$', 'vi$', 'iv$', 'elizabeth$', 'grey$', 'york$', 'clarenc$', 'duchess$', 'margaret$', 'buckingham$', 'chamberlain$', 'stanley$', 'derbi$', 'marquess$', 'dorset$', 'thoma$', 'vaughan$', 'catesbi$', 'ratcliff$', 'lovel$', 'norfolk$', 'surrey$', 'tudor$', 'vii$', 'oxford$', 'walter$', 'herbert$', 'brandon$', 'christoph$', 'morton$', 'bishop$', 'eli$', 'brakenburi$', 'lieuten$', 'tyrrel$', 'mayor$', 'pursuiv$', 'scriven$', 'seven$', 'tressel$', 'berkeley$', 'halberd$', 'woodevill$', 'aldermen$', 'councillor$', 'wreath$', 'bruis$', 'barb$', 'caper$', 'lascivi$', 'lute$', 'sportiv$', 'glass$', 'strut$', 'nymph$', 'curtail$', 'unfinish$', 'unfashion$', 'descant$', 'induct$', 'drunken$', 'propheci$', 'libel$', 'subtl$', 'godfath$', 'belik$', 'christen$', 'hearken$', 'crossrow$', 'wizard$', 'disinherit$', 'suppliant$', 'deliveri$', 'deiti$', 'erworn$', 'monarchi$', 'degre$', 'soever$', 'partak$', 'bonni$', 'gentlefolk$', 'abject$', 'whatso$', 'deeper$', 'pleaseth$', 'lordship$', 'kite$', 'buzzard$', 'physician$', 'mightili$', 'diet$', 'overmuch$', 'weighti$', 'bustl$', 'warwick$', 'readiest$', 'market$', 'sixth$', 'accompani$', 'load$', 'hears$', 'lancast$', 'bloodless$', 'selfsam$', 'helpless$', 'balm$', 'betid$', 'wolv$', 'venom$', 'chertsey$', 'magician$', 'disobey$', 'coffin$', 'curst$', 'exclaim$', 'butcheri$', 'corps$', 'afresh$', 'lump$', 'inhuman$', 'delug$', 'render$', 'crime$', 'acquit$', 'defus$', 'fouler$', 'accus$', 'devilish$', 'murd$', 'falchion$', 'guilt$', 'guiltless$', 'hedgehog$', 'mild$', 'fitter$', 'unfit$', 'dungeon$', 'bedchamb$', 'slower$', 'method$', 'causer$', 'homicid$', 'nail$', 'rend$', 'blemish$', 'ershad$', 'loveth$', 'bereft$', 'basilisk$', 'wept$', 'rutland$', 'clifford$', 'sob$', 'stander$', 'wet$', 'bedash$', 'su$', 'propos$', 'sue$', 'adoreth$', 'truer$', 'accessori$', 'encompasseth$', 'encloseth$', 'forev$', 'design$', 'crosbi$', 'monast$', 'boon$', 'penit$', 'whitefriar$', 'extremest$', 'tewkesburi$', 'loveli$', 'frame$', 'prodig$', 'spacious$', 'abas$', 'crop$', 'prime$', 'moieti$', 'dukedom$', 'denier$', 'marv$', 'lous$', 'adorn$', 'crept$', 'minor$', 'protector$', 'countess$', 'notwithstand$', 'arrog$', 'likelihood$', 'aton$', 'dissenti$', 'cog$', 'duck$', 'faction$', 'lewd$', 'complaint$', 'interior$', 'wren$', 'perch$', 'becam$', 'ennobl$', 'earnest$', 'advoc$', 'prefer$', 'therein$', 'desert$', 'stripl$', 'iwi$', 'upbraid$', 'scoff$', 'taunt$', 'seat$', 'due$', 'avouch$', 'packhors$', 'weeder$', 'liber$', 'reward$', 'factious$', 'alban$', 'forswor$', 'meed$', 'cacodemon$', 'peddler$', 'altogeth$', 'joyless$', 'wrangl$', 'pirat$', 'pill$', 'rebel$', 'witch$', 'abod$', 'ow$', 'gav$', 'faultless$', 'foulest$', 'northumberland$', 'snarl$', 'brat$', 'surfeit$', 'wale$', 'outliv$', 'stall$', 'exceed$', 'hurl$', 'troubler$', 'begnaw$', 'liv$', 'elvish$', 'root$', 'hog$', 'period$', 'sugar$', 'bottl$', 'ensnareth$', 'bunch$', 'frantic$', 'lunat$', 'malapert$', 'blast$', 'buildeth$', 'cedar$', 'dalli$', 'shade$', 'address$', 'uncharit$', 'befal$', 'fawn$', 'rankl$', 'bewar$', 'split$', 'prophetess$', 'somebodi$', 'repaid$', 'beweep$', 'gull$', 'scriptur$', 'hardi$', 'obdur$', 'talker$', 'doer$', 'millston$', 'heavili$', 'embark$', 'burgundi$', 'cabin$', 'cite$', 'pace$', 'overboard$', 'billow$', 'gnaw$', 'wedg$', 'anchor$', 'inestim$', 'unvalu$', 'reflect$', 'gem$', 'slimi$', 'wand$', 'smother$', 'pant$', 'bulk$', 'belch$', 'agoni$', 'ferryman$', 'poet$', 'dabbl$', 'terribl$', 'impress$', 'evid$', 'appeas$', 'aveng$', 'misde$', 'noontid$', 'unfelt$', 'restless$', 'fame$', 'herebi$', 'wont$', 'dreg$', 'accuseth$', 'detect$', 'shamefac$', 'obstacl$', 'persuad$', 'costard$', 'hilt$', 'malmsey$', 'sop$', 'verdict$', 'unlaw$', 'redempt$', 'christ$', 'damnabl$', 'erron$', 'vassal$', 'edict$', 'fulfil$', 'unrippedst$', 'lawless$', 'novic$', 'lesson$', 'harvest$', 'bewept$', 'thralldom$', 'relent$', 'pent$', 'pilat$', 'embassag$', 'hidden$', 'award$', 'exempt$', 'uniti$', 'whenev$', 'duteous$', 'guil$', 'wanteth$', 'surmis$', 'unwit$', 'jot$', 'humil$', 'crippl$', 'countermand$', 'lag$', 'nearer$', 'riotous$', 'numb$', 'brutish$', 'carter$', 'defac$', 'unjust$', 'ungraci$', 'proudest$', 'orphan$', 'castaway$', 'incap$', 'shallow$', 'guess$', 'reli$', 'hinder$', 'tragic$', 'branch$', 'sap$', 'mirror$', 'malign$', 'overgo$', 'aunt$', 'fatherless$', 'unmoan$', 'dolor$', 'unwept$', 'barren$', 'reduc$', 'wateri$', 'plenteous$', 'parcel$', 'threefold$', 'pamper$', 'ungrat$', 'unwilling$', 'repay$', 'bounteous$', 'requir$', 'meek$', 'mutual$', 'reap$', 'swoll$', 'splinter$', 'meseemeth$', 'forthwith$', 'ludlow$', 'fet$', 'ungovern$', 'rein$', 'ought$', 'compact$', 'index$', 'council$', 'consistori$', 'oracl$', 'seldom$', 'troublous$', 'nonag$', 'famous$', 'polit$', 'emul$', 'nearest$', 'haught$', 'dearth$', 'instinct$', 'mistrust$', 'stratford$', 'northampton$', 'overta$', 'growth$', 'grew$', 'crust$', 'parlous$', 'pitcher$', 'disclos$', 'insult$', 'tyranni$', 'jut$', 'massacr$', 'map$', 'unquiet$', 'domest$', 'broil$', 'clean$', 'overblown$', 'preposter$', 'sanctuari$', 'wearisom$', 'untaint$', 'distinguish$', 'jumpeth$', 'slug$', 'oratori$', 'infring$', 'obstin$', 'ceremoni$', 'tradit$', 'benefit$', 'alway$', 'charter$', 'errul$', 'recreat$', 'julius$', 'caesar$', 'build$', 'succeed$', 'edifi$', 'record$', 'success$', 'built$', 'regist$', 'retail$', 'formal$', 'iniqu$', 'moral$', 'outgrown$', 'weightier$', 'heavier$', 'mitig$', 'prettili$', 'sennet$', 'opprobri$', 'ingeni$', 'deepli$', 'impart$', 'instal$', 'tractabl$', 'encourag$', 'leaden$', 'unwil$', 'complot$', 'earldom$', 'hereford$', 'movabl$', 'afterward$', 'digest$', 'certifi$', 'boar$', 'raze$', 'helm$', 'toucheth$', 'instanc$', 'slumber$', 'pursuit$', 'upright$', 'garland$', 'thereupon$', 'tragedi$', 'bridg$', 'spear$', 'unprovid$', 'misdoubt$', 'behead$', 'hat$', 'gramerci$', 'sabbath$', 'loyalti$', 'bloodsuck$', 'omin$', 'closur$', 'hack$', 'spilt$', 'expiat$', 'nomin$', 'herein$', 'presum$', 'sleeper$', 'cue$', 'bolder$', 'holborn$', 'strawberri$', 'garden$', 'testi$', 'prolong$', 'livelihood$', 'hellish$', 'whoso$', 'sapl$', 'if$', 'disdain$', 'bloodili$', 'momentari$', 'sailor$', 'mast$', 'bootless$', 'fearful$', 'block$', 'middl$', 'tragedian$', 'wag$', 'ghast$', 'drawbridg$', 'ignobl$', 'unsuspect$', 'plainest$', 'harmless$', 'histori$', 'daub$', 'attaind$', 'shelter$', 'turk$', 'infidel$', 'timor$', 'misconst$', 'carp$', 'guildhal$', 'meetest$', 'moreov$', 'luxuri$', 'bestial$', 'lust$', 'insati$', 'comput$', 'orat$', 'baynard$', 'doctor$', 'shaa$', 'penker$', 'recours$', 'indict$', 'sequel$', 'unexamin$', 'palpabl$', 'mum$', 'luci$', 'unsati$', 'greedi$', 'idea$', 'scotland$', 'untouch$', 'handl$', 'reprehend$', 'saith$', 'lower$', 'cap$', 'applaus$', 'brake$', 'tongueless$', 'brethren$', 'churchmen$', 'medit$', 'courtesan$', 'tween$', 'prop$', 'defer$', 'disgraci$', 'majest$', 'sleepi$', 'infami$', 'graft$', 'gulf$', 'oblivion$', 'recur$', 'solicit$', 'steward$', 'substitut$', 'lowli$', 'factor$', 'emperi$', 'instig$', 'reproof$', 'fitteth$', 'reprov$', 'definit$', 'unmerit$', 'defect$', 'vapor$', 'mellow$', 'trivial$', 'bona$', 'petition$', 'craze$', 'wane$', 'prize$', 'declens$', 'bigami$', 'expostul$', 'ancestri$', 'deriv$', 'accept$', 'downfal$', 'penetr$', 'sage$', 'scandal$', 'reproach$', 'imposit$', 'mere$', 'acquitt$', 'impur$', 'gratul$', 'strict$', 'looker$', 'westminst$', 'outstrip$', 'increas$', 'thrall$', 'unwis$', 'unavoid$', 'inclus$', 'verg$', 'sear$', 'wedd$', 'captiv$', 'hitherto$', 'mourn$', 'tak$', 'eighti$', 'immur$', 'cradl$', 'playfellow$', 'ascendeth$', 'posit$', 'unrespect$', 'circumspect$', 'exploit$', 'revolv$', 'witti$', 'untir$', 'abid$', 'damag$', 'brittl$', 'uncertain$', 'exet$', 'rougemont$', 'bard$', 'troublest$', 'brecknock$', 'dighton$', 'forrest$', 'suborn$', 'ruthless$', 'alabast$', 'pillow$', 'replenish$', 'creation$', 'chaplain$', 'process$', 'inheritor$', 'goodnight$', 'breton$', 'wooer$', 'com$', 'welshmen$', 'increaseth$', 'servitor$', 'impot$', 'snail$', 'muster$', 'slyli$', 'unblown$', 'mute$', 'entrail$', 'wolf$', 'harri$', 'seigniori$', 'upper$', 'kennel$', 'hellhound$', 'worri$', 'grand$', 'carnal$', 'pew$', 'cloy$', 'duski$', 'intelligenc$', 'reserv$', 'unpiti$', 'pageant$', 'bubbl$', 'declin$', 'quicken$', 'attorney$', 'client$', 'intest$', 'copious$', 'intercept$', 'brand$', 'ned$', 'telltal$', 'infanc$', 'manhood$', 'humfrey$', 'hower$', 'breakfast$', 'perish$', 'nevermor$', 'tire$', 'veil$', 'unscar$', 'safest$', 'destin$', 'cozen$', 'freedom$', 'launch$', 'bay$', 'reft$', 'rocki$', 'scaffold$', 'imperi$', 'type$', 'demis$', 'endow$', 'leth$', 'supposest$', 'thereon$', 'engrav$', 'handkerchief$', 'drain$', 'induc$', 'vexat$', 'transform$', 'orient$', 'bash$', 'experi$', 'flame$', 'silent$', 'petti$', 'victoress$', 'vail$', 'style$', 'harp$', 'garter$', 'misus$', 'bedfellow$', 'erpast$', 'planet$', 'luck$', 'immacul$', 'consist$', 'necess$', 'spiceri$', 'recomfortur$', 'coast$', 'rideth$', 'puissant$', 'navi$', 'unarm$', 'unresolv$', 'hull$', 'ashor$', 'unmind$', 'hoyday$', 'unsway$', 'empir$', 'unpossess$', 'welshman$', 'tenant$', 'ship$', 'devonshir$', 'advertis$', 'courtney$', 'prelat$', 'confeder$', 'guilford$', 'competitor$', 'flock$', 'owl$', 'striketh$', 'proclam$', 'fourth$', 'yorkshir$', 'dorsetshir$', 'boat$', 'hois$', 'milford$', 'colder$', 'someon$', 'sti$', 'espous$', 'rfordwest$', 'gilbert$', 'talbot$', 'redoubt$', 'rice$', 'ap$', 'crew$', 'underhand$', 'respit$', 'seer$', 'vine$', 'swill$', 'trough$', 'embowel$', 'leicest$', 'tamworth$', 'meaner$', 'bosworth$', 'lighter$', 'battalia$', 'trebl$', 'survey$', 'track$', 'car$', 'standard$', 'model$', 'leader$', 'consult$', 'raw$', 'suppertim$', 'beaver$', 'sentinel$', 'sunris$', 'saddl$', 'stave$', 'sawst$', 'cockshut$', 'alacr$', 'mid$', 'flaki$', 'arbitra$', 'nap$', 'punch$', 'betray$', 'edgeless$', 'guiltili$', 'untroubl$', 'perturb$', 'dismay$', 'starteth$', 'blue$', 'highest$', 'direst$', 'villag$', 'apostl$', 'eavesdropp$', 'sluggard$', 'countrymen$', 'rear$', 'establish$', 'foil$', 'safeguard$', 'ransom$', 'almanac$', 'dewi$', 'vaunt$', 'caparison$', 'foreward$', 'archer$', 'midst$', 'sheweth$', 'jockey$', 'dickon$', 'babbl$', 'awe$', 'cope$', 'vagabond$', 'rascal$', 'scum$', 'lackey$', 'peasant$', 'ercloy$', 'vomit$', 'restrain$', 'distain$', 'milksop$', 'oversho$', 'straggler$', 'overween$', 'famish$', 'bob$', 'thump$', 'ravish$', 'afar$', 'yeomen$', 'marsh$', 'inspir$', 'enact$', 'ferrer$', 'sire$', 'conjoin$', 'plenti$', 'edg$', 'pericl$', 'tyre$', 'gower$', 'fourteenth$', 'centuri$', 'thaisa$', 'pentapoli$', 'marina$', 'helicanus$', 'escan$', 'antiochus$', 'antioch$', 'thaliard$', 'cleon$', 'governor$', 'tarsus$', 'dionyza$', 'leonin$', 'simonid$', 'fishermen$', 'marshal$', 'lychorida$', 'marin$', 'onboard$', 'cerimon$', 'wiseman$', 'ephesus$', 'philemon$', 'diana$', 'goddess$', 'lysimachus$', 'mytilen$', 'pander$', 'brothel$', 'bolt$', 'visitor$', 'tyrian$', 'priestess$', 'assum$', 'infirm$', 'ember$', 'et$', 'bonum$', 'quo$', 'antiquius$', 'eo$', 'melius$', 'latter$', 'syria$', 'femal$', 'buxom$', 'blith$', 'incest$', 'entic$', 'dame$', 'wight$', 'indic$', 'justifi$', 'embolden$', 'offstag$', 'concept$', 'lucina$', 'senat$', 'celesti$', 'hesperid$', 'deathlik$', 'enticeth$', 'countless$', 'advent$', 'desist$', 'erst$', 'unspot$', 'expound$', 'viper$', 'viol$', 'danceth$', 'chime$', 'braid$', 'stray$', 'gloze$', 'tenor$', 'misinterpret$', 'otherwis$', 'hypocrit$', 'interpret$', 'eater$', 'defil$', 'blacker$', 'schew$', 'target$', 'secreci$', 'pistol$', 'succor$', 'misdread$', 'contend$', 'ostent$', 'vanquish$', 'flatteri$', 'bellow$', 'spark$', 'wherea$', 'err$', 'lade$', 'bethought$', 'decreas$', 'unlaid$', 'lop$', 'pretens$', 'freeli$', 'convinc$', 'discret$', 'husht$', 'suffici$', 'unlicens$', 'shipman$', 'understood$', 'betook$', 'relat$', 'hunger$', 'lung$', 'louder$', 'helper$', 'jet$', 'odious$', 'palat$', 'invent$', 'nuzzl$', 'darl$', 'lot$', 'overcom$', 'untutor$', 'lowest$', 'halfway$', 'unabl$', 'beacon$', 'trojan$', 'greec$', 'ourself$', 'gratifi$', 'benign$', 'aw$', 'mite$', 'benison$', 'speken$', 'helican$', 'drone$', 'killen$', 'wave$', 'perishen$', 'pelf$', 'escapend$', 'threw$', 'ire$', 'fisherman$', 'pilch$', 'patchbreech$', 'stirr$', 'wanion$', 'welladay$', 'porpois$', 'whale$', 'fri$', 'parish$', 'steepl$', 'belfri$', 'belli$', 'jangl$', 'bee$', 'finni$', 'recollect$', 'approv$', 'tenni$', 'nowaday$', 'chill$', 'quotha$', 'moreo$', 'pud$', 'flapjack$', 'craver$', 'peaceabl$', 'distant$', 'birthday$', 'joust$', 'tourney$', 'bot$', 'rusti$', 'givest$', 'somewhat$', 'heritag$', 'shipwrack$', 'debtor$', 'ee$', 'seam$', 'condol$', 'further$', 'ruptur$', 'courser$', 'gazer$', 'goal$', 'gat$', 'sparta$', 'lux$', 'tua$', 'mihi$', 'macedon$', 'motto$', 'pue$', 'per$', 'doleera$', 'kee$', 'forsa$', 'chivalri$', 'pompa$', 'provexit$', 'apex$', 'upsid$', 'qui$', 'alit$', 'extinguit$', 'touchston$', 'sic$', 'spectanda$', 'fide$', 'hac$', 'spe$', 'vivo$', 'deject$', 'whipstock$', 'scour$', 'scan$', 'galleri$', 'artist$', 'scholar$', 'cate$', 'juno$', 'viand$', 'diamond$', 'pictur$', 'glowworm$', 'wherebi$', 'brim$', 'impud$', 'furthermor$', 'pledg$', 'driven$', 'unclasp$', 'capit$', 'shrivel$', 'stunk$', 'ador$', 'risen$', 'overflow$', 'elect$', 'roof$', 'suffrag$', 'enjoineth$', 'twelvemonth$', 'imposs$', 'virgin$', 'absolut$', 'harmoni$', 'schoolmast$', 'subtleti$', 'entrap$', 'commenc$', 'applaud$', 'relish$', 'subscrib$', 'syllabl$', 'yslack$', 'rout$', 'din$', 'snore$', 'erf$', 'pompous$', 'eyn$', 'oven$', 'blither$', 'drouth$', 'hymen$', 'attent$', 'fanci$', 'quaint$', 'ech$', 'dern$', 'coign$', 'dilig$', 'expens$', 'enquir$', 'tyrus$', 'em$', 'keel$', 'vari$', 'grizzl$', 'disgorg$', 'anear$', 'travail$', 'nill$', 'shipboard$', 'surg$', 'brass$', 'sulfur$', 'flash$', 'seaman$', 'patro$', 'recal$', 'bluster$', 'rudeliest$', 'portag$', 'flaw$', 'seafar$', 'bowlin$', 'searoom$', 'superstit$', 'childb$', 'unfriend$', 'element$', 'hallow$', 'ooz$', 'hum$', 'erwhelm$', 'shell$', 'nestor$', 'nicand$', 'satin$', 'beneath$', 'caulk$', 'bitum$', 'turbul$', 'stormi$', 'princip$', 'toppl$', 'surpris$', 'husbandri$', 'thereto$', 'darken$', 'expend$', 'infus$', 'veget$', 'thirsti$', 'totter$', 'ercharg$', 'delic$', 'odor$', 'nostril$', 'entreasur$', 'passport$', 'apollo$', 'aland$', 'mundan$', 'erpress$', 'egyptian$', 'applianc$', 'gin$', 'eyelid$', 'fring$', 'rare$', 'linen$', 'relaps$', 'aesculapius$', 'litigi$', 'glanc$', 'unscissor$', 'gentlest$', 'coffer$', 'votaress$', 'earn$', 'hight$', 'philoten$', 'weav$', 'sleid$', 'cambric$', 'papho$', 'vie$', 'paid$', 'peerless$', 'pregnant$', 'prest$', 'unborn$', 'profit$', 'tellus$', 'marigold$', 'carpet$', 'whir$', 'unprofit$', 'marg$', 'sharpen$', 'bereav$', 'paragon$', 'voyag$', 'complexion$', 'wester$', 'southwest$', 'hale$', 'canva$', 'climber$', 'wolt$', 'skip$', 'boatswain$', 'space$', 'la$', 'trod$', 'impli$', 'foreshow$', 'caught$', 'thiev$', 'vald$', 'narrowli$', 'mart$', 'wenchless$', 'sodden$', 'unwholesom$', 'transylvanian$', 'poop$', 'roast$', 'chequin$', 'credit$', 'doit$', 'cheap$', 'erboard$', 'gosl$', 'especi$', 'testament$', 'spaniard$', 'descript$', 'ruff$', 'cower$', 'monsieur$', 'veroll$', 'knive$', 'unti$', 'undo$', 'impious$', 'attribut$', 'approb$', 'blurt$', 'malkin$', 'epitaph$', 'glitt$', 'harpi$', 'talon$', 'superstiti$', 'cockl$', 'bourn$', 'clime$', 'whereat$', 'sackcloth$', 'biggest$', 'ershow$', 'theti$', 'erflow$', 'unholi$', 'road$', 'rut$', 'priapus$', 'fitment$', 'quirk$', 'puritan$', 'cheapen$', 'disfurnish$', 'cavalleria$', 'swearer$', 'greensick$', 'lown$', 'wholesom$', 'modest$', 'worthili$', 'apron$', 'gamest$', 'earlier$', 'herbwoman$', 'ungentl$', 'persever$', 'goest$', 'thoughten$', 'thief$', 'doorkeep$', 'cheapest$', 'geld$', 'spaniel$', 'hangman$', 'abomin$', 'stink$', 'snowbal$', 'malleabl$', 'thornier$', 'plow$', 'womenkind$', 'dish$', 'coistrel$', 'tib$', 'wooden$', 'filth$', 'professest$', 'baboon$', 'sew$', 'popul$', 'prostitut$', 'basest$', 'groom$', 'frequent$', 'amongst$', 'goddesslik$', 'clerk$', 'neel$', 'compos$', 'berri$', 'inkl$', 'twin$', 'rubi$', 'annual$', 'sabl$', 'barg$', 'fervor$', 'anyon$', 'susten$', 'distemperatur$', 'obtain$', 'reveal$', 'disast$', 'wager$', 'questionless$', 'attract$', 'allur$', 'batt$', 'midway$', 'leafi$', 'abut$', 'effectless$', 'recoveri$', 'destitut$', 'caterpillar$', 'inflict$', 'recount$', 'feat$', 'comet$', 'equival$', 'awkward$', 'casualti$', 'servitud$', 'countrywoman$', 'squar$', 'statur$', 'wandlik$', 'seemest$', 'rarest$', 'impostor$', 'regent$', 'gash$', 'godlik$', 'nip$', 'argentin$', 'inhospit$', 'eftsoon$', 'refresh$', 'pageantri$', 'minstrelsi$', 'interim$', 'overjoy$', 'sanctiti$', 'licenti$', 'curb$', 'reliv$', 'vision$', 'oblat$', 'clip$', 'razor$', 'celebr$', 'untold$', 'epilogu$', 'aye$', 'prospero$', 'mediterranean$', 'miranda$', 'ariel$', 'caliban$', 'ferdinand$', 'napl$', 'alonso$', 'antonio$', 'sebastian$', 'gonzalo$', 'adrian$', 'francisco$', 'trinculo$', 'stephano$', 'butler$', 'shipmast$', 'player$', 'role$', 'iri$', 'cere$', 'reaper$', 'tempestu$', 'yare$', 'aground$', 'bestir$', 'heigh$', 'topsail$', 'roarer$', 'gallow$', 'cabl$', 'topmast$', 'wi$', 'bawl$', 'incharit$', 'noisemak$', 'nutshel$', 'leaki$', 'unstanch$', 'ahold$', 'wid$', 'glut$', 'furlong$', 'acr$', 'heath$', 'brown$', 'furz$', 'fraught$', 'inform$', 'magic$', 'perdit$', 'inquisit$', 'abysm$', 'perfidi$', 'signori$', 'parallel$', 'transport$', 'rapt$', 'trash$', 'overtop$', 'ivi$', 'verdur$', 'erpriz$', 'popular$', 'exact$', 'prerog$', 'screen$', 'homag$', 'coronet$', 'unbow$', 'grandmoth$', 'premis$', 'extirp$', 'hint$', 'impertin$', 'rig$', 'hoist$', 'cherubin$', 'fortitud$', 'neapolitan$', 'vainer$', 'prescienc$', 'zenith$', 'auspici$', 'influenc$', 'swim$', 'curl$', 'board$', 'beak$', 'bowsprit$', 'distinct$', 'precursor$', 'thunderclap$', 'outrun$', 'trident$', 'plung$', 'foam$', 'reed$', 'sustain$', 'fresher$', 'angl$', 'nook$', 'bermooth$', 'stow$', 'grumbl$', 'sycorax$', 'argier$', 'manifold$', 'sorceri$', 'human$', 'hest$', 'unmitig$', 'cloven$', 'rift$', 'vent$', 'mill$', 'freckl$', 'whelp$', 'oak$', 'peg$', 'knotti$', 'correspond$', 'sprite$', 'apparit$', 'brush$', 'fen$', 'cramp$', 'stitch$', 'urchin$', 'pinch$', 'honeycomb$', 'sting$', 'strok$', 'pit$', 'fertil$', 'bat$', 'stripe$', 'violat$', 'gabbl$', 'hagse$', 'fuel$', 'shrugg$', 'rack$', 'setebo$', 'whist$', 'wow$', 'watchdog$', 'chanticl$', 'diddl$', 'dow$', 'coral$', 'knell$', 'ding$', 'dong$', 'ditti$', 'ungent$', 'uneasi$', 'manacl$', 'mussel$', 'husk$', 'acorn$', 'disarm$', 'goodlier$', 'nerv$', 'subdu$', 'unwont$', 'million$', 'porridg$', 'dollar$', 'wiseli$', 'spendthrift$', 'cockerel$', 'uninhabit$', 'inaccess$', 'lush$', 'grass$', 'tawni$', 'total$', 'rariti$', 'vouch$', 'drench$', 'gloss$', 'afric$', 'claribel$', 'tuni$', 'aenea$', 'carthag$', 'miracul$', 'appl$', 'sow$', 'kernel$', 'wore$', 'meal$', 'flung$', 'bove$', 'contenti$', 'oar$', 'basi$', 'europ$', 'african$', 'chirurgeon$', 'plantat$', 'nettl$', 'dock$', 'mallow$', 'commonwealth$', 'magistr$', 'tilth$', 'vineyard$', 'oil$', 'occup$', 'feloni$', 'pike$', 'engin$', 'foison$', 'mong$', 'flatlong$', 'batfowl$', 'thunderstrok$', 'hereditari$', 'sloth$', 'strip$', 'invest$', 'eb$', 'throe$', 'undrown$', 'newborn$', 'chin$', 'ev$', 'cubit$', 'ampli$', 'unnecessarili$', 'chough$', 'supplant$', 'feater$', 'kibe$', 'candi$', 'molest$', 'payest$', 'forese$', 'project$', 'conspiraci$', 'bull$', 'herd$', 'verili$', 'bog$', 'inchmeal$', 'firebrand$', 'mow$', 'chatter$', 'footfal$', 'adder$', 'bush$', 'shrub$', 'brew$', 'bombard$', 'pail$', 'fishlik$', 'newest$', 'indian$', 'fin$', 'thunderbolt$', 'gaberdin$', 'crawl$', 'swabber$', 'gunner$', 'mall$', 'meg$', 'marian$', 'margeri$', 'kate$', 'tang$', 'ind$', 'neat$', 'leather$', 'wisest$', 'detract$', 'mooncalf$', 'escapedst$', 'swum$', 'cellar$', 'seasid$', 'credul$', 'crab$', 'pignut$', 'jay$', 'snare$', 'marmoset$', 'cluster$', 'filbert$', 'scamel$', 'ban$', 'ca$', 'undergon$', 'pile$', 'injunct$', 'executor$', 'busiest$', 'unobserv$', 'wearili$', 'regard$', 'noblest$', 'sex$', 'dower$', 'prattl$', 'precept$', 'slaveri$', 'hollowli$', 'invert$', 'swam$', 'justl$', 'debauch$', 'harken$', 'sorcer$', 'monkey$', 'ninni$', 'stockfish$', 'murrain$', 'paunch$', 'weasand$', 'sot$', 'utensil$', 'nonpareil$', 'surpasseth$', 'lass$', 'viceroy$', 'troll$', 'whiler$', 'cout$', 'scout$', 'tabor$', 'twangl$', 'etc$', 'lakin$', 'maze$', 'forthright$', 'meander$', 'frustrat$', 'repuls$', 'through$', 'vigil$', 'drolleri$', 'unicorn$', 'arabia$', 'phoenix$', 'cert$', 'gestur$', 'dewlap$', 'wallet$', 'putter$', 'mongst$', 'bemock$', 'diminish$', 'dowl$', 'massi$', 'uplift$', 'expos$', 'ling$', 'distract$', 'bass$', 'plummet$', 'mud$', 'suppler$', 'ecstasi$', 'auster$', 'compens$', 'test$', 'ratifi$', 'acquisit$', 'sanctimoni$', 'aspers$', 'bestrew$', 'murkiest$', 'genius$', 'founder$', 'rabbl$', 'incit$', 'twink$', 'mop$', 'dallianc$', 'abstemi$', 'ardor$', 'corollari$', 'pert$', 'lea$', 'wheat$', 'rye$', 'barley$', 'vetch$', 'oat$', 'pea$', 'turfi$', 'nibbl$', 'mead$', 'thatch$', 'stover$', 'pion$', 'spongi$', 'betrim$', 'broom$', 'lorn$', 'poll$', 'steril$', 'peacock$', 'amain$', 'jupit$', 'saffron$', 'diffusest$', 'boski$', 'unshrub$', 'donat$', 'dis$', 'waspish$', 'gait$', 'barn$', 'garner$', 'clust$', 'scarciti$', 'naiad$', 'windr$', 'sedg$', 'crisp$', 'sunburn$', 'sicklemen$', 'august$', 'furrow$', 'actor$', 'foretold$', 'baseless$', 'fabric$', 'globe$', 'dissolv$', 'insubstanti$', 'cleav$', 'varlet$', 'smote$', 'colt$', 'brier$', 'gors$', 'filthi$', 'pool$', 'lake$', 'erstunk$', 'trumperi$', 'nurtur$', 'uglier$', 'loaden$', 'piss$', 'licker$', 'wardrob$', 'oho$', 'fripperi$', 'dropsi$', 'luggag$', 'jerkin$', 'jacket$', 'unreward$', 'barnacl$', 'hogshead$', 'hunter$', 'hound$', 'hey$', 'goblin$', 'grind$', 'convuls$', 'shorten$', 'pard$', 'gather$', 'fend$', 'releas$', 'remaind$', 'eav$', 'sharpli$', 'kindlier$', 'rarer$', 'elv$', 'printless$', 'demi$', 'puppet$', 'ringlet$', 'ewe$', 'pastim$', 'mushrump$', 'bedim$', 'azur$', 'promontori$', 'abjur$', 'useless$', 'boil$', 'fellowli$', 'clearer$', 'cruelli$', 'expel$', 'muddi$', 'ducal$', 'discas$', 'cowslip$', 'blossom$', 'hearti$', 'enchant$', 'rankest$', 'particular$', 'irrepar$', 'oozi$', 'howso$', 'chronicl$', 'chess$', 'mankind$', 'eld$', 'chose$', 'in$', 'chalk$', 'pillar$', 'blasphemi$', 'tight$', 'tricksi$', 'jingl$', 'divers$', 'straightway$', 'trice$', 'mope$', 'rectifi$', 'infest$', 'probabl$', 'happen$', 'stolen$', 'coraggio$', 'bulli$', 'badg$', 'pickl$', 'flyblow$', 'disproport$', 'gale$', 'expediti$', 'chick$', 'erthrown$', 'band$', 'indulg$', 'bushi$', 'bagot$', 'gaunt$', 'bolingbrok$', 'edmund$', 'aumerl$', 'mowbray$', 'offici$', 'carlisl$', 'scroop$', 'welsh$', 'perci$', 'ross$', 'willoughbi$', 'hotspur$', 'fitzwat$', 'exton$', 'appeal$', 'sift$', 'appeareth$', 'appel$', 'miscreant$', 'aggrav$', 'eager$', 'afoot$', 'ridg$', 'wherev$', 'gage$', 'knighthood$', 'chivalr$', 'detain$', 'elsewher$', 'furthest$', 'eighteen$', 'contriv$', 'sluic$', 'abel$', 'cavern$', 'imparti$', 'partial$', 'unstoop$', 'fearless$', 'disburs$', 'duli$', 'ambush$', 'assign$', 'prescrib$', 'incis$', 'baffl$', 'withstood$', 'leopard$', 'purest$', 'spotless$', 'loam$', 'crestfallen$', 'dastard$', 'slavish$', 'recant$', 'coventri$', 'lambert$', 'alarm$', 'woodstock$', 'lieth$', 'sharper$', 'breathest$', 'suff$', 'showest$', 'entitl$', 'cowardic$', 'career$', 'rider$', 'headlong$', 'boundeth$', 'seemeth$', 'plashi$', 'unpeopl$', 'untrodden$', 'everywher$', 'clad$', 'engag$', 'cometh$', 'habili$', 'falcon$', 'daintiest$', 'regener$', 'twofold$', 'waxen$', 'furbish$', 'doubli$', 'redoubl$', 'casqu$', 'freer$', 'uncontrol$', 'standeth$', 'disloy$', 'warder$', 'rival$', 'untun$', 'resound$', 'grate$', 'hopeless$', 'maim$', 'learnt$', 'unstring$', 'enjail$', 'portcullis$', 'unfeel$', 'jailor$', 'compassion$', 'administ$', 'homebr$', 'clog$', 'bewast$', 'extinct$', 'blindfold$', 'returnest$', 'miscal$', 'stride$', 'apprenticehood$', 'journeyman$', 'haven$', 'gnarl$', 'frosti$', 'caucasus$', 'wallow$', 'decemb$', 'fantast$', 'apprehens$', 'lanceth$', 'trueborn$', 'northeast$', 'craft$', 'craftsmen$', 'bonnet$', 'oysterwench$', 'draymen$', 'largess$', 'farm$', 'blank$', 'posthast$', 'irish$', 'unstaid$', 'undeaf$', 'meter$', 'imit$', 'buzz$', 'feeder$', 'cormor$', 'fortress$', 'moat$', 'happier$', 'teem$', 'jewri$', 'leas$', 'tenement$', 'pelt$', 'inki$', 'abstain$', 'flatterest$', 'diest$', 'sicker$', 'encag$', 'landlord$', 'bondslav$', 'admonit$', 'pelican$', 'carous$', 'tormentor$', 'sickli$', 'stringless$', 'bankrupt$', 'ripest$', 'rughead$', 'kern$', 'accomplish$', 'customari$', 'patent$', 'hereof$', 'wiltshir$', 'disburden$', 'patrimoni$', 'prosecut$', 'tax$', 'benevol$', 'dissolut$', 'hangeth$', 'taxat$', 'blanc$', 'rainold$', 'cobham$', 'erpingham$', 'ramston$', 'norberi$', 'waterton$', 'coint$', 'northern$', 'imp$', 'ravenspurgh$', 'glaze$', 'entir$', 'perspect$', 'awri$', 'nameless$', 'hopest$', 'repeal$', 'beaumont$', 'stewardship$', 'gasp$', 'parasit$', 'linger$', 'untruth$', 'cart$', 'proportion$', 'unposs$', 'refug$', 'bristow$', 'gloucestershir$', 'delect$', 'cotshal$', 'whencesoev$', 'coven$', 'tuft$', 'seymour$', 'estim$', 'treasuri$', 'surmount$', 'attain$', 'exchequ$', 'rase$', 'forbidden$', 'palsi$', 'upstart$', 'unthrift$', 'distrain$', 'carver$', 'abet$', 'neuter$', 'complic$', 'reposeth$', 'firmament$', 'crossli$', 'misl$', 'dispark$', 'park$', 'forest$', 'impres$', 'glendow$', 'barklough$', 'hoof$', 'trampl$', 'falter$', 'remiss$', 'discomfort$', 'robber$', 'rang$', 'terrestri$', 'antipod$', 'sleepest$', 'puni$', 'favorit$', 'harder$', 'whitebeard$', 'hairless$', 'scalp$', 'beadsmen$', 'distaff$', 'snake$', 'judas$', 'juda$', 'sourest$', 'uncurs$', 'raini$', 'scof$', 'impregn$', 'oppresseth$', 'servil$', 'southern$', 'anymor$', 'clergyman$', 'englishmen$', 'bedrench$', 'grassi$', 'thund$', 'portal$', 'occid$', 'omnipot$', 'unbegot$', 'bedew$', 'pastur$', 'uncivil$', 'compris$', 'debas$', 'hermitag$', 'gay$', 'almsman$', 'goblet$', 'carv$', 'fret$', 'glist$', 'nightowl$', 'surest$', 'row$', 'dangl$', 'apricok$', 'twig$', 'spray$', 'lofti$', 'noisom$', 'unprun$', 'swarm$', 'overproud$', 'bough$', 'depress$', 'adam$', 'balanc$', 'longest$', 'gard$', 'ruth$', 'parliament$', 'unsay$', 'reacheth$', 'manual$', 'spak$', 'deniest$', 'forg$', 'rot$', 'brandish$', 'hollo$', 'giver$', 'wilder$', 'saracen$', 'venic$', 'adopt$', 'regal$', 'nobless$', 'forfend$', 'obscen$', 'manur$', 'futur$', 'tumultu$', 'golgotha$', 'woefullest$', 'arrest$', 'surrend$', 'goodwil$', 'emptier$', 'manor$', 'rent$', 'statut$', 'unbrok$', 'unking$', 'sunshin$', 'deem$', 'ravel$', 'lectur$', 'undeck$', 'font$', 'sterl$', 'flatt$', 'shineth$', 'shiver$', 'teachest$', 'erect$', 'troy$', 'inn$', 'alehous$', 'cloister$', 'weaken$', 'intellect$', 'thrusteth$', 'takest$', 'forwhi$', 'sympath$', 'unright$', 'unkiss$', 'hallowma$', 'dumbl$', 'misgovern$', 'rubbish$', 'casement$', 'imageri$', 'barehead$', 'bespak$', 'scowl$', 'fealti$', 'lookst$', 'appeach$', 'unrestrain$', 'lane$', 'passeng$', 'stew$', 'unhors$', 'lustiest$', 'crieth$', 'foolhardi$', 'unlock$', 'sheer$', 'thriftless$', 'shrill$', 'whosoev$', 'fester$', 'hypocrisi$', 'integr$', 'outpray$', 'pardonn$', 'moy$', 'plaint$', 'rehears$', 'wisht$', 'intermix$', 'camel$', 'postern$', 'unlik$', 'silli$', 'concord$', 'jar$', 'cleans$', 'brooch$', 'gotten$', 'roan$', 'barbari$', 'jaunc$', 'attack$', 'stagger$', 'downward$', 'cicet$', 'broca$', 'bennet$', 'seeli$', 'mightiest$', 'bourdeaux$', 'sprinkl$', 'incontin$', 'macbeth$', 'weird$', 'duncan$', 'malcolm$', 'donalbain$', 'thane$', 'glami$', 'seyton$', 'banquo$', 'fleanc$', 'macduff$', 'scottish$', 'lennox$', 'angus$', 'menteith$', 'caith$', 'siward$', 'hecat$', 'nonspeak$', 'sewer$', 'bur$', 'graymalkin$', 'paddock$', 'fog$', 'plight$', 'sergeant$', 'swimmer$', 'cling$', 'macdonwald$', 'multipli$', 'gallowglass$', 'unseam$', 'nave$', 'norweyan$', 'overcharg$', 'bath$', 'reek$', 'memor$', 'fife$', 'norway$', 'cawdor$', 'conflict$', 'bellona$', 'comparison$', 'lavish$', 'sweno$', 'deign$', 'colm$', 'chestnut$', 'munch$', 'aroint$', 'rump$', 'runnion$', 'aleppo$', 'siev$', 'penthous$', 'lid$', 'sev$', 'nnight$', 'dwindl$', 'peak$', 'homeward$', 'forr$', 'choppi$', 'skinni$', 'partner$', 'predict$', 'imperfect$', 'speaker$', 'sinel$', 'corpor$', 'eaten$', 'insan$', 'deepest$', 'supernatur$', 'horrid$', 'unfix$', 'function$', 'roughest$', 'forgotten$', 'implor$', 'construct$', 'ingratitud$', 'swiftest$', 'overtak$', 'payment$', 'cumberland$', 'unaccompani$', 'inver$', 'harbing$', 'erleap$', 'missiv$', 'refer$', 'holili$', 'dst$', 'wishest$', 'imped$', 'metaphys$', 'croak$', 'unsex$', 'cruelti$', 'compuncti$', 'pall$', 'dunnest$', 'peep$', 'blanket$', 'masterdom$', 'hautboy$', 'recommend$', 'martlet$', 'mansionri$', 'jutti$', 'friez$', 'buttress$', 'pendant$', 'procreant$', 'ild$', 'hermit$', 'purveyor$', 'compt$', 'audit$', 'assassin$', 'trammel$', 'shoal$', 'inventor$', 'ingredi$', 'chalic$', 'faculti$', 'courier$', 'adag$', 'adher$', 'unmak$', 'boneless$', 'gum$', 'screw$', 'wassail$', 'limbeck$', 'swinish$', 'unguard$', 'quell$', 'undaunt$', 'unusu$', 'measureless$', 'franchis$', 'dudgeon$', 'gout$', 'stealthi$', 'tarquin$', 'whereabout$', 'bellman$', 'posset$', 'scream$', 'sleav$', 'unbend$', 'brainsick$', 'smear$', 'appal$', 'multitudin$', 'incarnadin$', 'entri$', 'unattend$', 'nightgown$', 'watcher$', 'beelzebub$', 'farmer$', 'equivoc$', 'hose$', 'primros$', 'bonfir$', 'urin$', 'lecheri$', 'unprovok$', 'dishearten$', 'chimney$', 'combust$', 'livelong$', 'masterpiec$', 'sacrilegi$', 'gorgon$', 'downi$', 'counten$', 'duff$', 'lee$', 'sourc$', 'unwip$', 'neutral$', 'pauser$', 'auger$', 'exposur$', 'undivulg$', 'theft$', 'threescor$', 'entomb$', 'tuesday$', 'tow$', 'hawk$', 'pretend$', 'ravin$', 'scone$', 'colmekil$', 'storehous$', 'predecessor$', 'foulli$', 'veriti$', 'unbecom$', 'indissolubl$', 'parricid$', 'antoni$', 'fruitless$', 'unlin$', 'file$', 'probat$', 'notion$', 'gospel$', 'catalogu$', 'greyhound$', 'mongrel$', 'shough$', 'rug$', 'clept$', 'housekeep$', 'station$', 'reckless$', 'barefac$', 'sweep$', 'sundri$', 'botch$', 'materi$', 'sorriest$', 'disjoint$', 'sleek$', 'jovial$', 'appli$', 'emin$', 'unsaf$', 'lave$', 'vizard$', 'scorpion$', 'flown$', 'shard$', 'yawn$', 'peal$', 'chuck$', 'seel$', 'thicken$', 'rooki$', 'drows$', 'glimmer$', 'usual$', 'cutthroat$', 'marbl$', 'crib$', 'ditch$', 'trench$', 'remembranc$', 'olden$', 'thirst$', 'marrowless$', 'specul$', 'glare$', 'russian$', 'rhinocero$', 'hyrcan$', 'unreal$', 'displac$', 'augur$', 'maggot$', 'rook$', 'initi$', 'overbold$', 'acheron$', 'vap$', 'sleight$', 'illus$', 'foggi$', 'fact$', 'pious$', 'delinqu$', 'malevol$', 'exasper$', 'caution$', 'brind$', 'harpier$', 'cauldron$', 'swelter$', 'fillet$', 'fenni$', 'newt$', 'frog$', 'wool$', 'fork$', 'blindworm$', 'lizard$', 'howlet$', 'broth$', 'mummi$', 'shark$', 'hemlock$', 'jew$', 'goat$', 'sliver$', 'eclips$', 'drab$', 'gruel$', 'slab$', 'chaudron$', 'yeasti$', 'navig$', 'pyramid$', 'slope$', 'germen$', 'sicken$', 'farrow$', 'greas$', 'sweaten$', 'gibbet$', 'deft$', 'aright$', 'birnam$', 'dunsinan$', 'earthbound$', 'bodement$', 'throb$', 'eighth$', 'seventh$', 'bolter$', 'disappear$', 'anticipat$', 'flighti$', 'ertook$', 'firstl$', 'unfortun$', 'diminut$', 'judici$', 'upward$', 'pitfal$', 'prattler$', 'laudabl$', 'unsanctifi$', 'shag$', 'birthdom$', 'yell$', 'recoil$', 'transpos$', 'brightest$', 'jealousi$', 'affeer$', 'grasp$', 'confineless$', 'avarici$', 'voluptu$', 'cistern$', 'contin$', 'intemper$', 'vultur$', 'stanchless$', 'avaric$', 'portabl$', 'ranc$', 'uproar$', 'untitl$', 'truest$', 'interdict$', 'overcredul$', 'unspeak$', 'unwelcom$', 'maladi$', 'assay$', 'ulcer$', 'surgeri$', 'benedict$', 'countryman$', 'niggard$', 'latch$', 'concern$', 'pertain$', 'heaviest$', 'quarri$', 'deer$', 'erfraught$', 'chicken$', 'swoop$', 'demerit$', 'whetston$', 'intermiss$', 'slumb$', 'agit$', 'actual$', 'guis$', 'murki$', 'whisp$', 'excit$', 'mortifi$', 'unrough$', 'belt$', 'pester$', 'epicur$', 'sag$', 'cream$', 'loon$', 'gees$', 'whey$', 'disseat$', 'sere$', 'skirr$', 'oblivi$', 'antidot$', 'pristin$', 'rhubarb$', 'senna$', 'purgat$', 'bane$', 'hew$', 'soldiership$', 'decis$', 'treatis$', 'dusti$', 'lt$', 'hotter$', 'beest$', 'unbatt$', 'undeed$', 'clatter$', 'bruit$', 'roman$', 'bloodier$', 'losest$', 'intrench$', 'vulner$', 'palter$', 'pole$', 'underwrit$', 'cheapli$', 'prowess$', 'unshrink$', 'knoll$', 'newer$', 'hamlet$', 'denmark$', 'gertrud$', 'claudius$', 'ophelia$', 'laert$', 'polonius$', 'reynaldo$', 'horatio$', 'danish$', 'voltemand$', 'cornelius$', 'rosencrantz$', 'guildenstern$', 'osric$', 'barnardo$', 'marcellus$', 'fortinbra$', 'lucianus$', 'gonzago$', 'gravedigg$', 'liegemen$', 'dane$', 'holla$', 'illum$', 'harrow$', 'sled$', 'polack$', 'erupt$', 'implement$', 'shipwright$', 'sunday$', 'sweati$', 'heraldri$', 'compet$', 'comart$', 'unimprov$', 'skirt$', 'compulsatori$', 'rummag$', 'palmi$', 'tenantless$', 'squeak$', 'gibber$', 'moist$', 'precurs$', 'omen$', 'demonstr$', 'climatur$', 'uphoard$', 'extort$', 'extravag$', 'savior$', 'dawn$', 'singeth$', 'russet$', 'eastward$', 'jointress$', 'defeat$', 'colleagu$', 'bedrid$', 'suppress$', 'bearer$', 'dilat$', 'wrung$', 'laborsom$', 'trap$', 'survivor$', 'filial$', 'oblig$', 'incorrect$', 'unfortifi$', 'unschool$', 'absurd$', 'unprevail$', 'wittenberg$', 'retrograd$', 'unforc$', 'respeak$', 'sulli$', 'thaw$', 'unweed$', 'hyperion$', 'satyr$', 'beteem$', 'niob$', 'hercul$', 'flush$', 'incestu$', 'truant$', 'truster$', 'elsinor$', 'student$', 'thrift$', 'truncheon$', 'jelli$', 'platform$', 'tenabl$', 'whatsomev$', 'primi$', 'perman$', 'supplianc$', 'crescent$', 'thew$', 'cautel$', 'besmirch$', 'circumscrib$', 'credent$', 'unmast$', 'chariest$', 'unmask$', 'calumni$', 'blastment$', 'pastor$', 'thorni$', 'libertin$', 'rede$', 'unproport$', 'unfledg$', 'gaudi$', 'select$', 'generous$', 'lender$', 'loan$', 'puh$', 'unsift$', 'woodcock$', 'scanter$', 'larger$', 'tether$', 'dye$', 'sanctifi$', 'swagg$', 'upspr$', 'draught$', 'rhenish$', 'kettledrum$', 'traduc$', 'clepe$', 'pith$', 'marrow$', 'vicious$', 'origin$', 'ergrowth$', 'fort$', 'erleaven$', 'plausiv$', 'cerement$', 'ponder$', 'revisit$', 'glimps$', 'beckon$', 'summit$', 'cliff$', 'artur$', 'nemean$', 'unhand$', 'sulf$', 'lightest$', 'quill$', 'porpentin$', 'duller$', 'wharf$', 'stung$', 'radiant$', 'sate$', 'garbag$', 'scent$', 'hebona$', 'porch$', 'leprous$', 'quicksilv$', 'alley$', 'curd$', 'tetter$', 'lazar$', 'unhousel$', 'disappoint$', 'unanel$', 'howsomev$', 'matin$', 'uneffectu$', 'stiffli$', 'pressur$', 'unmix$', 'baser$', 'illo$', 'hillo$', 'arrant$', 'patrick$', 'ermast$', 'truepenni$', 'cellarag$', 'hic$', 'ubiqu$', 'pioner$', 'encumb$', 'headshak$', 'dansker$', 'encompass$', 'addict$', 'forgeri$', 'outbreak$', 'unreclaim$', 'prenomin$', 'videlicet$', 'windlass$', 'pli$', 'unbrac$', 'ungart$', 'ankl$', 'purport$', 'shatter$', 'fordo$', 'repel$', 'sith$', 'glean$', 'trail$', 'lunaci$', 'admitt$', 'erhasti$', 'breviti$', 'defin$', 'perpend$', 'idol$', 'machin$', 'desk$', 'bespeak$', 'prescript$', 'rave$', 'lobbi$', 'fishmong$', 'satir$', 'amber$', 'saniti$', 'overhappi$', 'outstretch$', 'halfpenni$', 'conson$', 'anticip$', 'molt$', 'forgon$', 'erhang$', 'congreg$', 'anim$', 'quintess$', 'grati$', 'clown$', 'vers$', 'inhibit$', 'innov$', 'eyas$', 'berattl$', 'escot$', 'writer$', 'cuff$', 'fifti$', 'apiec$', 'sblood$', 'appurten$', 'compli$', 'garb$', 'extent$', 'souther$', 'handsaw$', 'swaddl$', 'roscius$', 'comedi$', 'comic$', 'histor$', 'individ$', 'poem$', 'unlimit$', 'seneca$', 'plautus$', 'jephthah$', 'israel$', 'chanson$', 'abridg$', 'valanc$', 'altitud$', 'chopin$', 'uncurr$', 'caviari$', 'sallet$', 'savori$', 'thereabout$', 'priam$', 'pyrrhus$', 'hyrcanian$', 'gule$', 'impast$', 'ersiz$', 'coagul$', 'carbuncl$', 'greek$', 'repugn$', 'unequ$', 'whiff$', 'unnerv$', 'ilium$', 'crash$', 'milki$', 'arous$', 'cyclop$', 'synod$', 'felli$', 'barber$', 'jig$', 'bawdri$', 'hecuba$', 'mobl$', 'bisson$', 'diadem$', 'lank$', 'erteem$', 'minc$', 'milch$', 'bodykin$', 'sixteen$', 'insert$', 'bye$', 'fiction$', 'wan$', 'unpregn$', 'across$', 'tweak$', 'swound$', 'pigeon$', 'offal$', 'remorseless$', 'lecher$', 'kindless$', 'unpack$', 'stallion$', 'foh$', 'malefact$', 'blench$', 'erraught$', 'affront$', 'espial$', 'behav$', 'loneli$', 'smart$', 'plast$', 'sling$', 'heartach$', 'shuffl$', 'oppressor$', 'contum$', 'quietus$', 'bodkin$', 'fardel$', 'grunt$', 'undiscov$', 'puzzl$', 'redeliv$', 'commerc$', 'paradox$', 'inocul$', 'nunneri$', 'breeder$', 'nowher$', 'musick$', 'unwatch$', 'torrent$', 'whirlwind$', 'acquir$', 'robusti$', 'periwig$', 'groundl$', 'inexplic$', 'erdo$', 'termag$', 'herod$', 'erstep$', 'erdon$', 'overdon$', 'unskil$', 'erweigh$', 'journeymen$', 'spectat$', 'hing$', 'commeddl$', 'core$', 'occult$', 'unkennel$', 'vulcan$', 'stithi$', 'rivet$', 'kettl$', 'chameleon$', 'capon$', 'capitol$', 'brutus$', 'brute$', 'oh$', 'hobbi$', 'mich$', 'mallecho$', 'clemenc$', 'posi$', 'sheen$', 'commutu$', 'size$', 'littlest$', 'accurst$', 'unrip$', 'unshaken$', 'enactur$', 'slender$', 'mousetrap$', 'tropic$', 'vienna$', 'baptista$', 'knavish$', 'unwrung$', 'extant$', 'hart$', 'ungal$', 'provinci$', 'damon$', 'dismantl$', 'pajock$', 'perdi$', 'stonish$', 'picker$', 'stealer$', 'ventag$', 'utt$', 'mysteri$', 'weasel$', 'somev$', 'shent$', 'peculiar$', 'noyanc$', 'cess$', 'mortis$', 'adjoin$', 'annex$', 'fetter$', 'erhear$', 'primal$', 'thicker$', 'forestal$', 'shove$', 'pat$', 'salari$', 'hent$', 'salvat$', 'kick$', 'prank$', 'inmost$', 'intrud$', 'braze$', 'blur$', 'dicer$', 'rhapsodi$', 'solid$', 'mildew$', 'batten$', 'moor$', 'heyday$', 'apoplex$', 'hoodman$', 'activ$', 'tinct$', 'enseam$', 'nasti$', 'twentieth$', 'cutpurs$', 'shelf$', 'shred$', 'laps$', 'vacanc$', 'excrement$', 'coinag$', 'bodiless$', 'reword$', 'gambol$', 'unction$', 'compost$', 'ranker$', 'pursi$', 'frock$', 'abstin$', 'potenc$', 'bloat$', 'reechi$', 'paddl$', 'essenti$', 'gib$', 'unpeg$', 'schoolfellow$', 'mandat$', 'knaveri$', 'petard$', 'delv$', 'lug$', 'gut$', 'brainish$', 'divulg$', 'ore$', 'miner$', 'diamet$', 'woundless$', 'spong$', 'replic$', 'soak$', 'squeez$', 'fox$', 'deliber$', 'befallen$', 'convoc$', 'cherub$', 'cicatric$', 'congru$', 'hectic$', 'licens$', 'rendezv$', 'poland$', 'frontier$', 'garrison$', 'debat$', 'impostum$', 'fust$', 'unus$', 'craven$', 'precis$', 'exhort$', 'eggshel$', 'hem$', 'unshap$', 'unhappili$', 'conjectur$', 'artless$', 'sandal$', 'shoon$', 'turf$', 'lard$', 'dild$', 'baker$', 'don$', 'dup$', 'gis$', 'coach$', 'battalion$', 'hugger$', 'mugger$', 'buzzer$', 'arraign$', 'switzer$', 'overp$', 'impit$', 'counter$', 'cuckold$', 'unsmirch$', 'blackest$', 'profoundest$', 'neglig$', 'certainti$', 'swoopstak$', 'winner$', 'loser$', 'repast$', 'non$', 'nonni$', 'pansi$', 'document$', 'columbin$', 'daisi$', 'robin$', 'flaxen$', 'commune$', 'collater$', 'trophi$', 'hatchment$', 'speedier$', 'crimin$', 'unsinew$', 'gender$', 'dip$', 'turneth$', 'timber$', 'revert$', 'claudio$', 'thereunto$', 'postscript$', 'uncharg$', 'normandi$', 'encorps$', 'norman$', 'lamord$', 'scrimer$', 'snuff$', 'pleurisi$', 'sanctuar$', 'varnish$', 'frenchman$', 'unbat$', 'mountebank$', 'cataplasm$', 'nonc$', 'sip$', 'willow$', 'askant$', 'glassi$', 'crowflow$', 'shepherd$', 'grosser$', 'clamb$', 'weedi$', 'mermaid$', 'laud$', 'melodi$', 'crowner$', 'sat$', 'se$', 'offendendo$', 'argal$', 'delver$', 'nanc$', 'ditcher$', 'heathen$', 'answerest$', 'mason$', 'carpent$', 'stoup$', 'behov$', 'daintier$', 'claw$', 'jowl$', 'jawbon$', 'politician$', 'erreach$', 'circumv$', 'mazard$', 'revolut$', 'logget$', 'pickax$', 'quidditi$', 'quilliti$', 'tenur$', 'sconc$', 'dirti$', 'shovel$', 'buyer$', 'recogniz$', 'voucher$', 'dirt$', 'sheepskin$', 'calv$', 'overcam$', 'pocki$', 'tanner$', 'tan$', 'flagon$', 'yorick$', 'jester$', 'gibe$', 'chapfallen$', 'alexand$', 'pah$', 'bunghol$', 'returneth$', 'beer$', 'barrel$', 'betoken$', 'enlarg$', 'warranti$', 'ersway$', 'pebbl$', 'crant$', 'strewment$', 'requiem$', 'unpollut$', 'ertop$', 'pelion$', 'skyish$', 'olympus$', 'emphasi$', 'splenit$', 'eisel$', 'crocodil$', 'zone$', 'ossa$', 'wart$', 'rant$', 'couplet$', 'bilbo$', 'indiscret$', 'grope$', 'packet$', 'withdrew$', 'bug$', 'supervis$', 'benet$', 'wrote$', 'statist$', 'yeoman$', 'wheaten$', 'comma$', 'suchlik$', 'ase$', 'signet$', 'changel$', 'sequent$', 'cozenag$', 'portraitur$', 'braveri$', 'waterfli$', 'norther$', 'sultri$', 'inventori$', 'dozi$', 'yaw$', 'extol$', 'diction$', 'semblabl$', 'umbrag$', 'infal$', 'rawer$', 'realli$', 'unfellow$', 'impawn$', 'poniard$', 'hanger$', 'respons$', 'german$', 'bet$', 'lapw$', 'drossi$', 'winnow$', 'whensoev$', 'fooleri$', 'gaingiv$', 'auguri$', 'cushion$', 'ungor$', 'darkest$', 'ordnanc$', 'scuffl$', 'felic$', 'ercrow$', 'occurr$', 'abil$', 'unknow$', 'accident$', 'casual$', 'upshot$', 'viii$', 'suffolk$', 'wolsey$', 'secretari$', 'cromwel$', 'campeius$', 'gardin$', 'winchest$', 'katherin$', 'dowag$', 'griffith$', 'usher$', 'capuchius$', 'charl$', 'abergavenni$', 'nichola$', 'vaux$', 'knevet$', 'surveyor$', 'bullen$', 'cranmer$', 'chancellor$', 'denni$', 'scribe$', 'marchio$', 'repres$', 'cinqu$', 'chorist$', 'tipstav$', 'verger$', 'footboy$', 'shill$', 'motley$', 'happiest$', 'vale$', 'andren$', 'guyn$', 'ard$', 'clung$', 'clinquant$', 'shone$', 'britain$', 'india$', 'incompar$', 'luster$', 'fabul$', 'bevi$', 'tract$', 'freed$', 'keech$', 'benefici$', 'successor$', 'spiderlik$', 'graver$', 'priviti$', 'communic$', 'bordeaux$', 'fixeth$', 'outworth$', 'revil$', 'outstar$', 'ipswich$', 'furnac$', 'overrun$', 'fount$', 'juli$', 'gravel$', 'rav$', 'nous$', 'prone$', 'reciproc$', 'interview$', 'rins$', 'prejudic$', 'privili$', 'pave$', 'mistaken$', 'hertford$', 'stafford$', 'mountacut$', 'peck$', 'chartreux$', 'hopkin$', 'ergreat$', 'span$', 'cornet$', 'confederaci$', 'riseth$', 'placeth$', 'unconsid$', 'clothier$', 'spinster$', 'carder$', 'fuller$', 'weaver$', 'bolden$', 'primer$', 'contribut$', 'shire$', 'revok$', 'teacher$', 'enrol$', 'recit$', 'henton$', 'laurenc$', 'poultney$', 'demur$', 'commonalti$', 'rumin$', 'greenwich$', 'blumer$', 'outgo$', 'irresolut$', 'pepin$', 'clotharius$', 'spavin$', 'springhalt$', 'louvr$', 'firework$', 'renounc$', 'cum$', 'privilegio$', 'oui$', 'fiddl$', 'plainsong$', 'stump$', 'churchman$', 'comptrol$', 'penanc$', 'ent$', 'masquer$', 'viscount$', 'rochford$', 'alleg$', 'viva$', 'voce$', 'kildar$', 'nal$', 'forgiven$', 'numberless$', 'watersid$', 'furnitur$', 'bohun$', 'banist$', 'archbishopr$', 'toledo$', 'ridden$', 'deliver$', 'creed$', 'otherwher$', 'conclav$', 'unparti$', 'blackfriar$', 'enthron$', 'thousandfold$', 'perk$', 'capac$', 'threepenc$', 'embal$', 'carnarvanshir$', 'nli$', 'handmaid$', 'egypt$', 'ermount$', 'foreskirt$', 'rochest$', 'asaph$', 'mace$', 'noblemen$', 'conform$', 'strove$', 'session$', 'gainsay$', 'unthink$', 'spiritu$', 'saintlik$', 'wifelik$', 'humblest$', 'declar$', 'unloos$', 'fulli$', 'broach$', 'bayonn$', 'orlean$', 'steer$', 'unsolicit$', 'primest$', 'adjourn$', 'meanwhil$', 'dilatori$', 'orpheus$', 'mountaintop$', 'tanta$', 'est$', 'erga$', 'te$', 'menti$', 'integrita$', 'regina$', 'serenissima$', 'latin$', 'suspici$', 'friendless$', 'ertak$', 'professor$', 'vainglori$', 'peacemak$', 'uncontemn$', 'tangl$', 'unrecount$', 'wasp$', 'unhandl$', 'colleg$', 'publish$', 'unseal$', 'alencon$', 'speedili$', 'spleeni$', 'lutheran$', 'schedul$', 'accumul$', 'portion$', 'rake$', 'commot$', 'postur$', 'outspeak$', 'tendanc$', 'pare$', 'have$', 'illustr$', 'huntsman$', 'popedom$', 'meridian$', 'asher$', 'coars$', 'bewail$', 'juri$', 'sounder$', 'notori$', 'assent$', 'jurisdict$', 'ego$', 'rex$', 'meus$', 'inscrib$', 'flander$', 'item$', 'cassado$', 'ferrara$', 'innumer$', 'praemunir$', 'chattel$', 'whatsoev$', 'mention$', 'dunstabl$', 'ampthil$', 'kymmalton$', 'copper$', 'marqu$', 'marshalship$', 'indi$', 'baron$', 'circlet$', 'crowd$', 'choir$', 'goodliest$', 'aros$', 'flew$', 'woven$', 'emblem$', 'choicest$', 'deum$', 'whitehal$', 'stokeley$', 'ledst$', 'mule$', 'convent$', 'simoni$', 'clergi$', 'blessed$', 'personag$', 'conge$', 'holdeth$', 'avow$', 'decent$', 'poorest$', 'embalm$', 'unqueen$', 'primero$', 'remark$', 'chaff$', 'halidom$', 'ween$', 'naughti$', 'precipic$', 'vehem$', 'trueheart$', 'void$', 'misdemean$', 'heresi$', 'juror$', 'sectari$', 'faulti$', 'sect$', 'discipl$', 'lousi$', 'baptism$', 'larder$', 'ale$', 'distribut$', 'samson$', 'guy$', 'chine$', 'moorfield$', 'fornic$', 'drake$', 'mortar$', 'haberdash$', 'porring$', 'strand$', 'broomstaff$', 'pibbl$', 'playhous$', 'bitten$', 'tribul$', 'limehous$', 'limbo$', 'patrum$', 'suburb$', 'marshalsea$', 'camlet$', 'godmoth$', 'saba$', 'starlik$', 'speakest$', 'orlando$', 'rowland$', 'oliv$', 'jaqu$', 'rosalind$', 'senior$', 'celia$', 'frederick$', 'wrestler$', 'beau$', 'amien$', 'corin$', 'silvius$', 'phoeb$', 'shepherdess$', 'audrey$', 'martext$', 'rustic$', 'unkept$', 'gentil$', 'allotteri$', 'arden$', 'dissuad$', 'stubbornest$', 'anatom$', 'mispriz$', 'extraordinari$', 'cutter$', 'perceiveth$', 'pancak$', 'mustard$', 'unmuzzl$', 'trowel$', 'wiser$', 'eke$', 'quintain$', 'lifeless$', 'smaller$', 'petticoat$', 'irrevoc$', 'outstay$', 'teacheth$', 'provoketh$', 'umber$', 'smirch$', 'curtal$', 'swash$', 'mannish$', 'ganymed$', 'aliena$', 'clownish$', 'fittest$', 'co$', 'sermon$', 'venison$', 'irk$', 'dappl$', 'burgher$', 'haunch$', 'sequest$', 'stag$', 'leathern$', 'hairi$', 'simil$', 'worldl$', 'abandon$', 'velvet$', 'flux$', 'greasi$', 'invect$', 'pierceth$', 'untreasur$', 'roinish$', 'hisperia$', 'erheard$', 'sinewi$', 'quail$', 'prizer$', 'divert$', 'thrifti$', 'unregard$', 'cater$', 'unbash$', 'debil$', 'prun$', 'seventeen$', 'fourscor$', 'alia$', 'eavesdrop$', 'slightest$', 'abrupt$', 'jane$', 'batler$', 'peascod$', 'cod$', 'toyou$', 'fleec$', 'sheepcot$', 'swain$', 'erewhil$', 'cottag$', 'greenwood$', 'stanzo$', 'warbl$', 'ducdam$', 'uncouth$', 'outlaw$', 'bask$', 'poke$', 'biscuit$', 'squand$', 'mischiev$', 'sensual$', 'emboss$', 'unclaim$', 'inland$', 'engend$', 'doe$', 'mewl$', 'puke$', 'satchel$', 'ballad$', 'eyebrow$', 'pantaloon$', 'pouch$', 'vener$', 'holli$', 'warp$', 'effigi$', 'limn$', 'residu$', 'huntress$', 'unexpress$', 'solitari$', 'philosoph$', 'wicked$', 'mockabl$', 'mutton$', 'civet$', 'copul$', 'cattl$', 'wether$', 'butter$', 'sheaf$', 'earliest$', 'rosalinda$', 'atalanta$', 'lucretia$', 'homili$', 'parishion$', 'scrip$', 'scrippag$', 'pythagora$', 'petitionari$', 'whoop$', 'stammer$', 'cork$', 'gargantua$', 'proposit$', 'curvet$', 'slink$', 'goldsmith$', 'con$', 'breather$', 'cipher$', 'trot$', 'vacat$', 'coni$', 'finer$', 'halfpenc$', 'ode$', 'hawthorn$', 'elegi$', 'brambl$', 'deifi$', 'quotidian$', 'sunken$', 'unquestion$', 'simpli$', 'unband$', 'sleev$', 'unbutton$', 'apter$', 'whipper$', 'moonish$', 'changeabl$', 'drave$', 'caprici$', 'ovid$', 'goth$', 'poetic$', 'poetri$', 'slut$', 'vicar$', 'worthier$', 'wainscot$', 'panel$', 'browner$', 'pickpurs$', 'concav$', 'tapster$', 'travers$', 'athwart$', 'tilter$', 'feedeth$', 'andyou$', 'axe$', 'sterner$', 'impressur$', 'exult$', 'pitiless$', 'od$', 'bugl$', 'entam$', 'scoffer$', 'falser$', 'extermin$', 'irksom$', 'carlot$', 'riper$', 'damask$', 'omitt$', 'quittanc$', 'extract$', 'disabl$', 'gondola$', 'hornmak$', 'leer$', 'cleanliest$', 'troilus$', 'grecian$', 'leander$', 'midsumm$', 'hellespont$', 'sesto$', 'saturday$', 'hen$', 'parrot$', 'newfangl$', 'hyena$', 'keyhol$', 'pathet$', 'unfaith$', 'portug$', 'bottomless$', 'swagger$', 'freeston$', 'huswif$', 'godhead$', 'warr$', 'purlieus$', 'chew$', 'befel$', 'moss$', 'ergrown$', 'unlink$', 'indent$', 'udder$', 'catlik$', 'hurtl$', 'bled$', 'testimoni$', 'paler$', 'grape$', 'rhetor$', 'ips$', 'boorish$', 'perishest$', 'errun$', 'thrason$', 'insomuch$', 'inconveni$', 'dishonest$', 'cornfield$', 'springtim$', 'carol$', 'rudiment$', 'ark$', 'oyster$', 'dulcet$', 'quip$', 'quarrelsom$', 'circumstanti$', 'revelri$', 'victual$', 'unhandsom$', 'simper$', 'apr$', 'leont$', 'sicilia$', 'hermion$', 'mamillius$', 'perdita$', 'polixen$', 'bohemia$', 'florizel$', 'camillo$', 'antigonus$', 'sicilian$', 'paulina$', 'cleomen$', 'dion$', 'emilia$', 'autolycus$', 'archidamus$', 'bohemian$', 'jailer$', 'mopsa$', 'dorca$', 'magnific$', 'unintellig$', 'insuffici$', 'matur$', 'sneap$', 'tougher$', 'bygon$', 'thwack$', 'gest$', 'limber$', 'unspher$', 'verier$', 'frisk$', 'bleat$', 'temptat$', 'spok$', 'tremor$', 'cordi$', 'mort$', 'feck$', 'bawcock$', 'smutch$', 'heifer$', 'virginal$', 'pash$', 'erdi$', 'dice$', 'collop$', 'communicat$', 'coactiv$', 'unbreech$', 'squash$', 'statesman$', 'sicili$', 'rover$', 'neb$', 'pond$', 'tenth$', 'barricado$', 'gust$', 'pertin$', 'headpiec$', 'priestlik$', 'hox$', 'do$', 'plainer$', 'eyeglass$', 'cogit$', 'slipperi$', 'negat$', 'flax$', 'shrew$', 'reiter$', 'skulk$', 'mindless$', 'medal$', 'cupbear$', 'bespic$', 'draft$', 'goad$', 'beverag$', 'splitt$', 'breakneck$', 'clerklik$', 'incid$', 'freshest$', 'dullest$', 'enclos$', 'twos$', 'urgent$', 'semicircl$', 'ye$', 'dwelt$', 'heft$', 'pre$', 'nayward$', 'shrug$', 'adult$', 'ress$', 'federari$', 'swerver$', 'glib$', 'dungi$', 'stupefi$', 'ord$', 'overtur$', 'delpho$', 'forlorn$', 'lune$', 'fasten$', 'audaci$', 'dishonesti$', 'dotard$', 'unroost$', 'partlet$', 'crone$', 'unvener$', 'callet$', 'valley$', 'dimpl$', 'losel$', 'liegeman$', 'surpass$', 'wearer$', 'unearth$', 'adulteri$', 'harden$', 'underta$', 'avail$', 'own$', 'easiest$', 'immodest$', 'russia$', 'blameless$', 'begotten$', 'incertainti$', 'pieti$', 'flay$', 'betrayedst$', 'tinctur$', 'thrower$', 'bundl$', 'lullabi$', 'ancientri$', 'nineteen$', 'brows$', 'bairn$', 'bookish$', 'warmer$', 'hallo$', 'whoa$', 'hilloa$', 'loa$', 'ail$', 'mainmast$', 'yeast$', 'froth$', 'flap$', 'lucki$', 'mayest$', 'slide$', 'untri$', 'erthrow$', 'erween$', 'removed$', 'simplic$', 'daffodil$', 'doxi$', 'dale$', 'bleach$', 'pug$', 'quart$', 'tirralirra$', 'thrush$', 'tinker$', 'budget$', 'snapper$', 'leven$', 'tod$', 'shorn$', 'currant$', 'nosegay$', 'shearer$', 'psalm$', 'hornpip$', 'warden$', 'nutmeg$', 'ginger$', 'prune$', 'raisin$', 'writh$', 'horseman$', 'footman$', 'server$', 'bailiff$', 'prig$', 'bearbait$', 'fighter$', 'unrol$', 'jog$', 'footpath$', 'stile$', 'flora$', 'flaunt$', 'jolliti$', 'pantler$', 'carnat$', 'gillyvor$', 'pied$', 'scion$', 'dibbl$', 'lavend$', 'mint$', 'marjoram$', 'januari$', 'proserpina$', 'cytherea$', 'unmarri$', 'oxlip$', 'luce$', 'whitsun$', 'alm$', 'doricl$', 'turtl$', 'lowborn$', 'greensward$', 'garlic$', 'bagpip$', 'millin$', 'dildo$', 'talkest$', 'unbraid$', 'caddis$', 'lawn$', 'forewarn$', 'scurril$', 'cypress$', 'bracelet$', 'necklac$', 'coif$', 'enthral$', 'placket$', 'kiln$', 'tittl$', 'tattl$', 'tawdri$', 'alif$', 'moneybag$', 'carbonado$', 'taleport$', 'grang$', 'tape$', 'cape$', 'meddler$', 'neatherd$', 'swineherd$', 'saultier$', 'gallimaufri$', 'herdsmen$', 'knack$', 'ethiopian$', 'swerv$', 'stupid$', 'alt$', 'ampler$', 'unfili$', 'deucalion$', 'herdsman$', 'rural$', 'leash$', 'thereat$', 'irremov$', 'disjunct$', 'unthought$', 'unpath$', 'undream$', 'pomand$', 'trinket$', 'pettito$', 'codpiec$', 'lethargi$', 'hubbub$', 'shak$', 'unbuckl$', 'disliken$', 'undescri$', 'requisit$', 'conniv$', 'extempor$', 'ounc$', 'tradesmen$', 'toze$', 'pheasant$', 'handfast$', 'noint$', 'hottest$', 'prognost$', 'brick$', 'southward$', 'booti$', 'heirless$', 'unparallel$', 'strik$', 'incertain$', 'holier$', 'proselyt$', 'behindhand$', 'libya$', 'smalus$', 'issueless$', 'visibl$', 'unansw$', 'amazed$', 'notabl$', 'rogero$', 'elev$', 'julio$', 'romano$', 'overfond$', 'finder$', 'boor$', 'franklin$', 'surplus$', 'fixtur$', 'chisel$', 'ruddi$', 'oili$', 'manifest$', 'hoot$', 'interpos$', 'cressida$', 'cassandra$', 'soothsay$', 'hector$', 'helenus$', 'deiphobus$', 'andromach$', 'antenor$', 'calcha$', 'pandarus$', 'agamemnon$', 'ulyss$', 'diomed$', 'menelaus$', 'ajax$', 'achill$', 'patroclus$', 'myrmidon$', 'thersit$', 'cynic$', 'critic$', 'reader$', 'clapperclaw$', 'undertook$', 'censor$', 'commentari$', 'represent$', 'testern$', 'terenc$', 'scrambl$', 'smoki$', 'possessor$', 'orgul$', 'athen$', 'sixti$', 'crownet$', 'athenian$', 'phrygia$', 'tenedo$', 'fraughtag$', 'dardan$', 'pavilion$', 'timbria$', 'helia$', 'cheta$', 'troien$', 'antenorid$', 'stapl$', 'correspons$', 'spar$', 'skittish$', 'skil$', 'tamer$', 'fonder$', 'unpract$', 'leaven$', 'knead$', 'cressid$', 'rive$', 'darker$', 'kinswoman$', 'indrench$', 'pourest$', 'handiest$', 'plowman$', 'blackamoor$', 'pandar$', 'daphn$', 'afield$', 'foresaw$', 'eleph$', 'attaint$', 'gouti$', 'briareus$', 'argus$', 'lifter$', 'autumn$', 'soundest$', 'sneak$', 'dolt$', 'bran$', 'daw$', 'drayman$', 'wile$', 'ungain$', 'maxim$', 'jaundic$', 'conflux$', 'tortiv$', 'errant$', 'unbodi$', 'abash$', 'protract$', 'persist$', 'unread$', 'affin$', 'unmingl$', 'borea$', 'perseus$', 'untimb$', 'corriv$', 'brees$', 'flexibl$', 'flee$', 'axletre$', 'greekish$', 'ithaca$', 'importless$', 'mastic$', 'specialti$', 'hive$', 'prioriti$', 'insistur$', 'sol$', 'amidst$', 'cinabl$', 'deracin$', 'communiti$', 'primogen$', 'laurel$', 'authent$', 'oppugn$', 'imbecil$', 'suffoc$', 'superior$', 'forehand$', 'topless$', 'deput$', 'hamstr$', 'scaffollag$', 'erwrest$', 'unsquar$', 'typhon$', 'hyperbol$', 'fusti$', 'fumbl$', 'gorget$', 'member$', 'mental$', 'mapp$', 'tucket$', 'debonair$', 'repin$', 'transcend$', 'resti$', 'sunburnt$', 'vambrac$', 'brawn$', 'nurseri$', 'overbulk$', 'perspicu$', 'celer$', 'scantl$', 'subsequ$', 'lott$', 'blockish$', 'brainless$', 'mastiff$', 'botchi$', 'bitchwolf$', 'beef$', 'unsalt$', 'toadstool$', 'strikest$', 'loathsomest$', 'scab$', 'incurs$', 'grumblest$', 'cerberus$', 'cobloaf$', 'asinego$', 'thrash$', 'barbarian$', 'whosomev$', 'modicum$', 'evas$', 'pia$', 'mater$', 'ninth$', 'moldi$', 'oxen$', 'brach$', 'clodpol$', 'riddanc$', 'softer$', 'dism$', 'fathomless$', 'fur$', 'chidden$', 'disorb$', 'lustihood$', 'distast$', 'wrangler$', 'raptur$', 'leviti$', 'attest$', 'propens$', 'propugn$', 'difficulti$', 'retract$', 'besot$', 'unfam$', 'superfici$', 'aristotl$', 'conduc$', 'benumb$', 'refractori$', 'extenu$', 'ertheless$', 'propend$', 'magnanim$', 'priamus$', 'roist$', 'labyrinth$', 'sfoot$', 'execr$', 'undermin$', 'darter$', 'serpentin$', 'caduceus$', 'circumvent$', 'camp$', 'chees$', 'knower$', 'aforesaid$', 'creator$', 'patcheri$', 'serpigo$', 'inveigl$', 'fraction$', 'composur$', 'disunit$', 'flexur$', 'outfli$', 'ascrib$', 'untast$', 'underhonest$', 'assumpt$', 'overhold$', 'dwarf$', 'admiss$', 'untent$', 'plaguy$', 'consecr$', 'bast$', 'assubjug$', 'enlard$', 'cancer$', 'feez$', 'describ$', 'erudit$', 'milo$', 'antiquari$', 'thicket$', 'hulk$', 'wholli$', 'seeth$', 'affection$', 'offenc$', 'buck$', 'gallantri$', 'warrior$', 'overshin$', 'stygian$', 'waftag$', 'charon$', 'repur$', 'nectar$', 'ruder$', 'vassalag$', 'unawar$', 'thill$', 'tercel$', 'monstruos$', 'flinch$', 'hostag$', 'burr$', 'unbridl$', 'blab$', 'unsecret$', 'renew$', 'simpler$', 'iter$', 'plantag$', 'characterless$', 'sandi$', 'stepdam$', 'goer$', 'negoti$', 'diom$', 'unplaus$', 'deris$', 'butterfli$', 'meali$', 'reverb$', 'lubber$', 'scrap$', 'mail$', 'abreast$', 'hindmost$', 'pavement$', 'comer$', 'remuner$', 'erdust$', 'mission$', 'privaci$', 'heroic$', 'pluto$', 'uncomprehens$', 'unveil$', 'expressur$', 'polyxena$', 'trump$', 'dewdrop$', 'omiss$', 'languageless$', 'illustri$', 'cetera$', 'b$', 'fiddler$', 'tick$', 'bedmat$', 'anchis$', 'enfre$', 'soilur$', 'whorish$', 'contamin$', 'chapmen$', 'unbolt$', 'ribald$', 'capocchia$', 'bugbear$', 'naughtili$', 'taciturn$', 'consanguin$', 'violenteth$', 'causeth$', 'jostl$', 'rejoindur$', 'embrasur$', 'consign$', 'macul$', 'novelti$', 'lavolt$', 'discurs$', 'outswel$', 'colic$', 'aquilon$', 'blowest$', 'ken$', 'hardiment$', 'fillip$', 'encounter$', 'accost$', 'blend$', 'uttermost$', 'matchless$', 'deedless$', 'impair$', 'vindic$', 'commixt$', 'sinist$', 'multipot$', 'feud$', 'borrowd$', 'neoptolemus$', 'mirabl$', 'oyez$', 'seld$', 'untrad$', 'quondam$', 'phrygian$', 'subdument$', 'olympian$', 'local$', 'whereout$', 'conviv$', 'concur$', 'taborin$', 'scimitar$', 'crusti$', 'worshipp$', 'fragment$', 'masculin$', 'catarrh$', 'whiss$', 'sciatica$', 'limekiln$', 'rivel$', 'ruinous$', 'indistinguish$', 'immateri$', 'skein$', 'sarsenet$', 'finch$', 'major$', 'curer$', 'earwax$', 'primit$', 'obliqu$', 'fitchew$', 'puttock$', 'astronom$', 'clef$', 'rogueri$', 'potato$', 'cognit$', 'grab$', 'retriev$', 'wor$', 'turpitud$', 'credenc$', 'esper$', 'decepti$', 'womanhood$', 'deprav$', 'bifold$', 'wider$', 'orifex$', 'ariachn$', 'woof$', 'ort$', 'relic$', 'shipmen$', 'hurricano$', 'constring$', 'almighti$', 'dizzi$', 'concupi$', 'almond$', 'commodi$', 'admonish$', 'salli$', 'pollut$', 'enrapt$', 'witless$', 'phthisic$', 'clapper$', 'whoremast$', 'sleeveless$', 'blackberri$', 'styx$', 'polydama$', 'menon$', 'margareton$', 'doreus$', 'colossus$', 'epistrophus$', 'cedius$', 'polyxen$', 'amphimachus$', 'thoa$', 'palamed$', 'sagittari$', 'reinforc$', 'galath$', 'strawi$', 'mower$', 'swath$', 'noseless$', 'handless$', 'chip$', 'forceless$', 'queller$', 'owest$', 'frush$', 'empal$', 'fellest$', 'loo$', 'spartan$', 'illegitim$', 'putrefi$', 'erspread$', 'stickler$', 'bragless$', 'smite$', 'screech$', 'moldeth$', 'ignomi$', 'trader$', 'windsor$', 'ford$', 'caius$', 'rugbi$', 'manserv$', 'evan$', 'falstaff$', 'impoverish$', 'bardolph$', 'nym$', 'fenton$', 'esquir$', 'coram$', 'custalorum$', 'ratolorum$', 'armigero$', 'passant$', 'py$', 'visament$', 'petter$', 'prain$', 'pring$', 'goot$', 'feri$', 'orld$', 'resurrect$', 'pribbl$', 'prabbl$', 'willer$', 'peat$', 'pless$', 'fallow$', 'cotsal$', 'pauca$', 'verba$', 'wort$', 'cabbag$', 'banburi$', 'mephostophilus$', 'slice$', 'fidelicet$', 'final$', 'prief$', 'notebook$', 'ork$', 'tevil$', 'tam$', 'sixpenc$', 'twopenc$', 'yed$', 'miller$', 'latten$', 'denial$', 'labra$', 'avis$', 'nuthook$', 'fap$', 'cashier$', 'udg$', 'pasti$', 'sonnet$', 'alic$', 'shortcak$', 'allhallowma$', 'michaelma$', 'oman$', 'ahungri$', 'veney$', 'sackerson$', 'laundri$', 'washer$', 'wringer$', 'pippin$', 'bullyrook$', 'keiser$', 'pheazar$', 'hungarian$', 'spigot$', 'tinderbox$', 'filch$', 'fico$', 'constru$', 'hardest$', 'oeillad$', 'guiana$', 'cheater$', 'pinnac$', 'hailston$', 'plod$', 'gourd$', 'fullam$', 'tester$', 'discuss$', 'malcont$', 'anybodi$', 'seacoal$', 'glover$', 'wee$', 'warren$', 'adown$', 'vat$', 'dese$', 'un$', 'boitier$', 'vert$', 'fe$', 'foi$', 'il$', 'fait$', 'chaud$', 'je$', 'vai$', 'cour$', 'mon$', 'depech$', 'vere$', 'dat$', 'qu$', 'ai$', 'j$', 'oubli$', 'dere$', 'vill$', 'varld$', 'diabl$', 'larron$', 'phlegmat$', 'vell$', 'baill$', 'nape$', 'gar$', 'shalleng$', 'troat$', 'jackanap$', 'ver$', 'jarteer$', 'goodyear$', 'nan$', 'allicholi$', 'precisian$', 'unweigh$', 'flemish$', 'frugal$', 'exhibit$', 'dispens$', 'uncomeli$', 'hundredth$', 'greensleev$', 'tun$', 'giantess$', 'chari$', 'unmeasur$', 'acteon$', 'ringwood$', 'cuckoo$', 'drawl$', 'cataian$', 'cavaleiro$', 'cavali$', 'pottl$', 'egress$', 'regress$', 'ameer$', 'stoccado$', 'repriev$', 'gemini$', 'bridget$', 'endang$', 'pickt$', 'unconfin$', 'lurch$', 'ensconc$', 'lattic$', 'goodwif$', 'canari$', 'musk$', 'rushl$', 'pension$', 'notifi$', 'frampold$', 'fartuous$', 'nayword$', 'punk$', 'carrier$', 'whelm$', 'gainer$', 'via$', 'edific$', 'enlargeth$', 'courtlik$', 'wittolli$', 'mechan$', 'epicurean$', 'improvid$', 'gnawn$', 'amaimon$', 'barbason$', 'wittol$', 'fleme$', 'irishman$', 'aquavita$', 'pibl$', 'foin$', 'puncto$', 'montant$', 'galien$', 'vorld$', 'castalion$', 'mockwat$', 'mockvat$', 'tank$', 'frogmor$', 'farmhous$', 'vor$', 'fehement$', 'trempl$', 'knog$', 'madrig$', 'ped$', 'fragrant$', 'whena$', 'pabylon$', 'vagram$', 'rheumat$', 'hibbocr$', 'galen$', 'verefor$', 'jeshu$', 'cogscomb$', 'gallia$', 'gaul$', 'machiavel$', 'verb$', 'vloutingstog$', 'scall$', 'noddl$', 'weathercock$', 'dicken$', 'nursh$', 'mush$', 'poin$', 'brewhous$', 'whitster$', 'datchet$', 'thame$', 'eya$', 'musket$', 'humid$', 'pumpion$', 'venetian$', 'kerchief$', 'farthingal$', 'bucklersburi$', 'cowlstaff$', 'drumbl$', 'laundress$', 'uncap$', 'anypodi$', 'pad$', 'turd$', 'slid$', 'longtail$', 'heartl$', 'turnip$', 'specious$', 'barrow$', 'bitch$', 'shelvi$', 'pullet$', 'sperm$', 'brewag$', 'yearn$', 'cornuto$', 'larum$', 'sock$', 'intoler$', 'bellweth$', 'kidney$', 'dutch$', 'horsesho$', 'etna$', 'noun$', 'pulcher$', 'polecat$', 'lapi$', 'pronoun$', 'singularit$', 'nominativo$', 'haec$', 'hoc$', 'hig$', 'haeg$', 'genitivo$', 'huius$', 'accusativo$', 'hinc$', 'bacon$', 'focat$', 'vocativo$', 'caret$', 'genit$', 'plural$', 'horum$', 'harum$', 'ginni$', 'hick$', 'whorum$', 'quae$', 'quod$', 'preech$', 'sprag$', 'accoutr$', 'muffler$', 'brentford$', 'thrum$', 'forbad$', 'draff$', 'unfool$', 'gang$', 'flea$', 'fidel$', 'walnut$', 'leman$', 'refil$', 'dauberi$', 'pratt$', 'peard$', 'unvirtu$', 'peaten$', 'hern$', 'wintertim$', 'kine$', 'auf$', 'sawpit$', 'diffus$', 'encircl$', 'taber$', 'eton$', 'thickskin$', 'snap$', 'anthropophaginian$', 'militari$', 'ephesian$', 'varletto$', 'slough$', 'faustus$', 'colnbrook$', 'vlout$', 'dilemma$', 'jamani$', 'chooser$', 'dean$', 'enrob$', 'pendent$', 'flare$', 'finest$', 'goliath$', 'shuttl$', 'deciph$', 'deaneri$', 'heartbreak$', 'lewdster$', 'trib$', 'pold$', 'pid$', 'europa$', 'leda$', 'fowl$', 'fattest$', 'scut$', 'comfit$', 'eryngo$', 'provoc$', 'woodman$', 'restitut$', 'hobgoblin$', 'oye$', 'unrak$', 'hearth$', 'unswept$', 'bilberri$', 'slutteri$', 'ral$', 'meadow$', 'honi$', 'soit$', 'mal$', 'pens$', 'rald$', 'sapphir$', 'embroideri$', 'characteri$', 'unchast$', 'starlight$', 'fopperi$', 'pins$', 'coxcomb$', 'sees$', 'fritter$', 'hodg$', 'satan$', 'job$', 'metheglin$', 'flannel$', 'garcon$', 'paysan$', 'undut$', 'evit$', 'irreligi$', 'eschew$', 'minola$', 'bianca$', 'gremio$', 'hortensio$', 'litio$', 'cambio$', 'vincentio$', 'tranio$', 'imperson$', 'biondello$', 'grumio$', 'curti$', 'nathaniel$', 'phillip$', 'joseph$', 'slys$', 'pallabri$', 'sessa$', 'jeronimi$', 'headborough$', 'borough$', 'merriman$', 'clowder$', 'coldest$', 'merest$', 'worthless$', 'basin$', 'rosewat$', 'ewer$', 'diaper$', 'soto$', 'veriest$', 'butteri$', 'bartholomew$', 'obeis$', 'onion$', 'conserv$', 'raiment$', 'christophero$', 'drank$', 'burton$', 'cardmak$', 'transmut$', 'bearherd$', 'hacket$', 'alewif$', 'wincot$', 'bestraught$', 'semirami$', 'stud$', 'fleeter$', 'adoni$', 'io$', 'workman$', 'leet$', 'jug$', 'cice$', 'turph$', 'pimpernel$', 'undress$', 'comonti$', 'christma$', 'gambold$', 'padua$', 'lombardi$', 'institut$', 'pisa$', 'bentivolii$', 'florenc$', 'plash$', 'satieti$', 'mi$', 'perdonato$', 'stoic$', 'outcast$', 'balk$', 'poesi$', 'mathemat$', 'milder$', 'comb$', 'froward$', 'sobrieti$', 'minerva$', 'taketh$', 'dough$', 'fastest$', 'thorough$', 'onstag$', 'anna$', 'redim$', 'captum$', 'quam$', 'quea$', 'minimo$', 'agenor$', 'cretan$', 'tranc$', 'basta$', 'florentin$', 'uncas$', 'sufficeth$', 'rebus$', 'rap$', 'tutto$', 'cuor$', 'ben$', 'trovato$', 'nostra$', 'casa$', 'venuto$', 'molto$', 'honorato$', 'signor$', 'mio$', 'lege$', 'pip$', 'florentius$', 'sibyl$', 'socrat$', 'xanthipp$', 'adriat$', 'wealthili$', 'aglet$', 'affabl$', 'katherina$', 'patron$', 'agreement$', 'wildcat$', 'daunt$', 'neigh$', 'clang$', 'contributor$', 'chider$', 'quaff$', 'bondmaid$', 'scienc$', 'bacar$', 'rheim$', 'asketh$', 'widowhood$', 'surviv$', 'pillori$', 'discomfit$', 'volubl$', 'uttereth$', 'bann$', 'super$', 'consol$', 'combless$', 'gamesom$', 'askanc$', 'greed$', 'grissel$', 'lucrec$', 'incred$', 'kindest$', 'meacock$', 'curstest$', 'youngl$', 'graybeard$', 'skipper$', 'nourisheth$', 'flourisheth$', 'tapestri$', 'ivori$', 'counterpoint$', 'turkey$', 'boss$', 'needlework$', 'pewter$', 'amount$', 'argosi$', 'galliass$', 'galley$', 'outvi$', 'cavil$', 'pedant$', 'resteth$', 'ibat$', 'simoi$', 'sigeia$', 'steterat$', 'priami$', 'regia$', 'celsa$', 'seni$', 'conster$', 'pedascul$', 'aeacid$', 'grandfath$', 'groweth$', 'gamut$', 'briefer$', 'pithi$', 'effectu$', 'c$', 'ut$', 'rudesbi$', 'armori$', 'chapeless$', 'hip$', 'mothi$', 'stirrup$', 'glander$', 'mose$', 'lampass$', 'windgal$', 'begnawn$', 'shotten$', 'headstal$', 'girth$', 'crupper$', 'velour$', 'kersey$', 'jami$', 'sadder$', 'eyesor$', 'concerneth$', 'overreach$', 'curster$', 'gog$', 'woun$', 'quaf$', 'muscatel$', 'beset$', 'junket$', 'taller$', 'cobweb$', 'swept$', 'fustian$', 'jill$', 'slap$', 'imprimi$', 'miri$', 'bemoil$', 'bridl$', 'unexperienc$', 'sugarsop$', 'slick$', 'spruce$', 'alight$', 'unpolish$', 'malt$', 'gabriel$', 'unpink$', 'rafe$', 'soud$', 'dresser$', 'heedless$', 'jolthead$', 'disquiet$', 'planteth$', 'haggard$', 'bolster$', 'coverlet$', 'amid$', 'shew$', 'womankind$', 'cullion$', 'wealthi$', 'longeth$', 'marcant$', 'tripoli$', 'sy$', 'tripe$', 'delud$', 'amort$', 'lovest$', 'scarv$', 'brav$', 'knav$', 'ruffl$', 'custard$', 'lik$', 'tart$', 'snip$', 'slish$', 'slash$', 'censer$', 'nit$', 'mete$', 'ergo$', 'peereth$', 'frolic$', 'genoa$', 'lodger$', 'pegasus$', 'beareth$', 'affi$', 'heark$', 'pittanc$', 'luke$', 'imprimendum$', 'solum$', 'parsley$', 'rabbit$', 'appendix$', 'moonlight$', 'spangl$', 'allot$', 'bedazzl$', 'travelest$', 'spous$', 'joyous$', 'frivol$', 'cosen$', 'hemp$', 'copatain$', 'cern$', 'sailmak$', 'bergamo$', 'jail$', 'forthcom$', 'blear$', 'slit$', 'currish$', 'gird$', 'outright$', 'halv$', 'parlor$', 'underfoot$', 'unknit$', 'mainten$', 'oweth$', 'unapt$', 'shrow$', 'humphrey$', 'beaufort$', 'somerset$', 'cade$', 'kentish$', 'holland$', 'dick$', 'hume$', 'southwel$', 'jourdain$', 'roger$', 'custodian$', 'horner$', 'prentic$', 'sander$', 'simpcox$', 'recipi$', 'whitmor$', 'chartham$', 'iden$', 'drummer$', 'sawyer$', 'matthew$', 'gough$', 'tour$', 'sicil$', 'orleanc$', 'calab$', 'britaign$', 'alanson$', 'kinder$', 'replet$', 'alderliefest$', 'yclad$', 'reignier$', 'thirtieth$', 'duchi$', 'qualm$', 'girt$', 'unload$', 'bedford$', 'fro$', 'peror$', 'dieu$', 'fifteenth$', 'mislik$', 'bicker$', 'demean$', 'ruler$', 'commonw$', 'pillag$', 'whilea$', 'hapless$', 'althaea$', 'calydon$', 'nevill$', 'churchlik$', 'enchas$', 'presumpt$', 'cathedr$', 'presumptu$', 'headless$', 'jesus$', 'underground$', 'propound$', 'attaintur$', 'supplic$', 'melford$', 'township$', 'anew$', 'albion$', 'rann$', 'atilt$', 'ave$', 'tiltyard$', 'tripl$', 'empress$', 'baseborn$', 'regentship$', 'bondmen$', 'sumptuous$', 'frenchwoman$', 'hamper$', 'dandl$', 'unreveng$', 'quadrangl$', 'unmeet$', 'garret$', 'prevaileth$', 'exorc$', 'invinc$', 'bandog$', 'conjuro$', 'adsum$', 'asmath$', 'tremblest$', 'await$', 'accomplic$', 'indebt$', 'guerdon$', 'threatest$', 'aio$', 'aeacida$', 'vincer$', 'poss$', 'priesthood$', 'tantaen$', 'animi$', 'caelestibus$', 'ira$', 'protectorship$', 'shave$', 'medic$', 'teipsum$', 'berwick$', 'damson$', 'ringlead$', 'taintur$', 'hatfield$', 'lionel$', 'langley$', 'philippa$', 'mortim$', 'owen$', 'cambridg$', 'adjudg$', 'smithfield$', 'despoil$', 'raught$', 'bestead$', 'sandbag$', 'charneco$', 'tom$', 'uneath$', 'abrook$', 'tearstain$', 'trowest$', 'hateth$', 'aimest$', 'crimeless$', 'holden$', 'richest$', 'passeth$', 'ergrow$', 'unsound$', 'affianc$', 'welfar$', 'fraud$', 'dispurs$', 'defam$', 'condign$', 'suspens$', 'willing$', 'unburden$', 'causeless$', 'liefest$', 'conventicl$', 'twit$', 'ignomini$', 'engirt$', 'subvers$', 'unhelp$', 'checker$', 'quillet$', 'accordeth$', 'impugn$', 'uncur$', 'irishmen$', 'circuit$', 'kentishman$', 'ashford$', 'morisco$', 'straiter$', 'culpabl$', 'vital$', 'chirp$', 'leper$', 'aeolus$', 'chalki$', 'ascanius$', 'judgest$', 'ashi$', 'aidanc$', 'uprear$', 'partridg$', 'unbloodi$', 'warwickshir$', 'contumeli$', 'demeanor$', 'deathsman$', 'breastplat$', 'trait$', 'loather$', 'elysium$', 'corros$', 'cask$', 'mover$', 'around$', 'down$', 'counterpois$', 'calcul$', 'gualtier$', 'merchantlik$', 'footcloth$', 'crestfal$', 'longboat$', 'puddl$', 'smiledst$', 'sylla$', 'overgorg$', 'gobbet$', 'picardi$', 'encroach$', 'inviti$', 'nubibus$', 'bargulus$', 'illyrian$', 'beehiv$', 'paen$', 'gelidus$', 'occupat$', 'artus$', 'bezonian$', 'sworder$', 'banditto$', 'tulli$', 'pompey$', 'threadbar$', 'handicraftsmen$', 'vocat$', 'wingham$', 'argo$', 'spun$', 'bricklay$', 'laci$', 'loav$', 'cheapsid$', 'palfrey$', 'beeswax$', 'h$', 'emmanuel$', 'inkhorn$', 'shearman$', 'eunuch$', 'southwark$', 'killingworth$', 'withstand$', 'essay$', 'claret$', 'savoy$', 'subsidi$', 'serg$', 'buckram$', 'basimecu$', 'besom$', 'grammar$', 'talli$', 'oughtst$', 'terra$', 'mala$', 'gen$', 'behoof$', 'hempen$', 'caudl$', 'hatchet$', 'steadier$', 'cromer$', 'rabblement$', 'magnus$', 'whil$', 'villiago$', 'middest$', 'terrac$', 'halter$', 'proclaimeth$', 'redound$', 'brainpan$', 'turmoil$', 'contenteth$', 'ostrich$', 'doornail$', 'steadfast$', 'hobnail$', 'unconqu$', 'emblaz$', 'sancta$', 'maiesta$', 'fleur$', 'telamonius$', 'sediti$', 'marcheth$', 'bail$', 'bespot$', 'astonish$', 'mislead$', 'reav$', 'sophist$', 'burgonet$', 'rampant$', 'stigmat$', 'unassail$', 'courron$', 'les$', 'oeuvr$', 'medea$', 'absyrti$', 'onto$', 'readili$', 'contus$', 'vilia$', 'miretur$', 'vulgus$', 'flavus$', 'pocula$', 'castalia$', 'plena$', 'ministret$', 'wriothesley$', 'southampton$', 'titchfield$', 'saddlebow$', 'varieti$', 'seizeth$', 'salv$', 'breatheth$', 'steam$', 'moistur$', 'divedapp$', 'gan$', 'unask$', 'overrul$', 'oversway$', 'plump$', 'dishevel$', 'sturdi$', 'strengthless$', 'reject$', 'narcissus$', 'sappi$', 'breedeth$', 'lovesick$', 'midday$', 'relenteth$', 'tormenteth$', 'liveless$', 'gazeth$', 'fondl$', 'hillock$', 'twine$', 'hasteth$', 'cops$', 'jennet$', 'snort$', 'breaketh$', 'crusheth$', 'recketh$', 'workmanship$', 'fetlock$', 'buttock$', 'scud$', 'assuag$', 'goeth$', 'overfli$', 'swollen$', 'swelleth$', 'wist$', 'heaveth$', 'rer$', 'dint$', 'choruslik$', 'mare$', 'thong$', 'truelov$', 'glutton$', 'loseth$', 'waxeth$', 'unyield$', 'stillatori$', 'herdmen$', 'marketh$', 'raineth$', 'barketh$', 'staineth$', 'falleth$', 'reviveth$', 'thriveth$', 'wittili$', 'upheaveth$', 'relieveth$', 'illumin$', 'imprint$', 'ungrown$', 'glu$', 'gluttonlik$', 'filleth$', 'willeth$', 'resisteth$', 'listeth$', 'prickl$', 'sinketh$', 'tantalus$', 'languisheth$', 'mishap$', 'toldst$', 'javelin$', 'whetteth$', 'brist$', 'snout$', 'brawni$', 'venter$', 'sawest$', 'suggesteth$', 'presenteth$', 'uncoupl$', 'overshoot$', 'crank$', 'muset$', 'pursuer$', 'sorteth$', 'deviseth$', 'snuf$', 'bedabbl$', 'mould$', 'defeatur$', 'cank$', 'adon$', 'leadeth$', 'comforteth$', 'laund$', 'shooteth$', 'pitchi$', 'verbal$', 'anthem$', 'outwor$', 'cabinet$', 'ariseth$', 'burnish$', 'myrtl$', 'lustili$', 'coasteth$', 'shudder$', 'yelp$', 'remaineth$', 'frothi$', 'flapmouth$', 'random$', 'ebon$', 'unweav$', 'laden$', 'shelli$', 'flank$', 'noteth$', 'doteth$', 'dazzl$', 'mulberri$', 'looketh$', 'tusk$', 'groin$', 'erstraw$', 'decrepit$', 'dissens$', 'combusti$', 'fini$', 'portia$', 'heiress$', 'belmont$', 'nerissa$', 'balthazar$', 'morocco$', 'arragon$', 'bassanio$', 'solanio$', 'salarino$', 'gratiano$', 'lorenzo$', 'leonardo$', 'shylock$', 'jewish$', 'moneylend$', 'jessica$', 'tubal$', 'lancelet$', 'gobbo$', 'salerio$', 'magnifico$', 'traffick$', 'pire$', 'pier$', 'hourglass$', 'andrew$', 'bechanc$', 'janus$', 'vinegar$', 'laughabl$', 'gudgeon$', 'vendibl$', 'bushel$', 'undervalu$', 'cato$', 'sunni$', 'colcho$', 'strond$', 'jason$', 'mesh$', 'lotteri$', 'overnam$', 'namest$', 'appropri$', 'palatin$', 'bon$', 'throstl$', 'falconbridg$', 'saxoni$', 'sibylla$', 'montferrat$', 'supposit$', 'rialto$', 'mexico$', 'squander$', 'pork$', 'nazarit$', 'publican$', 'usanc$', 'tribe$', 'hebrew$', 'jacob$', 'laban$', 'eanl$', 'woolli$', 'ean$', 'misbeliev$', 'spet$', 'threshold$', 'bondman$', 'notari$', 'forfeitur$', 'northward$', 'icicl$', 'reddest$', 'sophi$', 'persian$', 'sultan$', 'solyman$', 'erstar$', 'sternest$', 'outbrav$', 'cub$', 'lycha$', 'fia$', 'incarn$', 'sandblind$', 'gravelblind$', 'sonti$', 'mastership$', 'hovel$', 'dobbin$', 'gree$', 'specifi$', 'frutifi$', 'featherb$', 'gaug$', 'boldest$', 'gormand$', 'squeal$', 'wri$', 'clamber$', 'fopp$', 'jewess$', 'hagar$', 'outdwel$', 'unforfeit$', 'overweath$', 'inscript$', 'chooseth$', 'vasti$', 'throughfar$', 'cerecloth$', 'insculp$', 'infold$', 'enscrol$', 'slubber$', 'peasantri$', 'portrait$', 'blink$', 'wroth$', 'moth$', 'bringeth$', 'spurrer$', 'uncheck$', 'knap$', 'fledg$', 'smug$', 'dimens$', 'frankfurt$', 'torturest$', 'turquois$', 'leah$', 'synagogu$', 'peiz$', 'swanlik$', 'dardanian$', 'snaki$', 'maketh$', 'mida$', 'shudd$', 'demigod$', 'underpr$', 'summari$', 'unlesson$', 'blent$', 'int$', 'constitut$', 'lisbon$', 'chus$', 'unweari$', 'intercessor$', 'impenetr$', 'consisteth$', 'monasteri$', 'bellario$', 'traject$', 'ferri$', 'accout$', 'prettier$', 'discontinu$', 'scylla$', 'charybdi$', 'enow$', 'rasher$', 'negro$', 'howsom$', 'leadest$', 'moi$', 'ty$', 'huddl$', 'commiser$', 'brassi$', 'woolen$', 'inevit$', 'beach$', 'fretten$', 'inexecr$', 'layest$', 'wolfish$', 'cureless$', 'attendeth$', 'droppeth$', 'blesseth$', 'likest$', 'daniel$', 'barabba$', 'confisc$', 'alien$', 'mercenari$', 'scuse$', 'madwoman$', 'erta$', 'outswear$', 'ertrip$', 'aeson$', 'forgav$', 'sola$', 'wo$', 'holloa$', 'floor$', 'inlaid$', 'paten$', 'vestur$', 'stockish$', 'erebus$', 'cackl$', 'endymion$', 'gelt$', 'cutler$', 'scrub$', 'manna$', 'gatori$', 'twelfth$', 'viola$', 'messalin$', 'shipwreck$', 'illyria$', 'cesario$', 'olivia$', 'tobi$', 'aguecheek$', 'malvolio$', 'fabian$', 'orsino$', 'curio$', 'receiveth$', 'cloistress$', 'arion$', 'dolphin$', 'unfoldeth$', 'strap$', 'gamboy$', 'scoundrel$', 'substractor$', 'castiliano$', 'vulgo$', 'aguefac$', 'metaphor$', 'pourquoi$', 'spin$', 'kickshaws$', 'galliard$', 'coranto$', 'taurus$', 'nuncio$', 'rubious$', 'semblat$', 'constel$', 'talent$', 'gaskin$', 'quinapalus$', 'madonna$', 'botcher$', 'syllog$', 'mispris$', 'cucullus$', 'facit$', 'monachum$', 'dexteri$', 'gag$', 'zani$', 'foreknowledg$', 'codl$', 'shrewish$', 'comptibl$', 'comedian$', 'mollif$', 'chapter$', 'particl$', 'canton$', 'fivefold$', 'roderigo$', 'overfar$', 'fadg$', 'diluculo$', 'surger$', 'unfil$', 'pigrogromitus$', 'vapian$', 'equinocti$', 'queubus$', 'impetico$', 'gratil$', 'testril$', 'melliflu$', 'caterwaul$', 'ramsey$', 'tillyv$', 'babylon$', 'cozier$', 'sneck$', 'misdemeanor$', 'crumb$', 'pleaser$', 'epistl$', 'penthesilea$', 'beagl$', 'knitter$', 'strown$', 'taffeta$', 'opal$', 'giddili$', 'retent$', 'cloyment$', 'denay$', 'biter$', 'boxtre$', 'trout$', 'exalt$', 'turkeycock$', 'strachi$', 'jezebel$', 'dayb$', 'brimston$', 'shackl$', 'intim$', 'u$', 'p$', 'brock$', 'staniel$', 'obstruct$', 'alphabet$', 'portend$', 'sowter$', 'simul$', 'prose$', 'inur$', 'champian$', 'catcher$', 'tray$', 'unsuit$', 'chev$', 'ril$', 'overworn$', 'vous$', 'aussi$', 'votr$', 'serviteur$', 'grize$', 'maidhood$', 'maugr$', 'claus$', 'unsought$', 'deplor$', 'jurymen$', 'noah$', 'dormous$', 'bang$', 'dutchman$', 'brownist$', 'cubiculo$', 'manikin$', 'wainrop$', 'renegado$', 'unguid$', 'unhospit$', 'incredul$', 'aha$', 'wisewoman$', 'biddi$', 'minx$', 'godli$', 'improb$', 'quieter$', 'waylay$', 'bum$', 'baili$', 'twang$', 'impetuos$', 'unchari$', 'dismount$', 'tuck$', 'unhatch$', 'implac$', 'hob$', 'firago$', 'scabbard$', 'fencer$', 'pacifi$', 'capilet$', 'duello$', 'erflourish$', 'cowardship$', 'somewher$', 'cockney$', 'ungird$', 'topa$', 'curat$', 'bono$', 'pragu$', 'gorboduc$', 'vexest$', 'clerestori$', 'lustrous$', 'eboni$', 'complainest$', 'errest$', 'wildfowl$', 'thinkst$', 'bibbl$', 'enwrap$', 'chantri$', 'affirm$', 'dealer$', 'primo$', 'secundo$', 'tertio$', 'triplex$', 'unpriz$', 'titus$', 'brabbl$', 'saltwat$', 'foami$', 'rim$', 'unauspici$', 'nonregard$', 'more$', 'proprieti$', 'joinder$', 'incardin$', 'lifel$', 'otherg$', 'agon$', 'passi$', 'pavin$', 'particip$', 'coher$', 'overswear$', 'duranc$', 'vox$', 'geck$', 'presuppos$', 'plaintiff$', 'uncourt$', 'interlud$', 'whirligig$', 'tini$', 'tosspot$', 'v$', 'westmoreland$', 'huntington$', 'masham$', 'fluellen$', 'macmorri$', 'isabel$', 'bourbon$', 'grandpr$', 'rambur$', 'montjoy$', 'fer$', 'harfleur$', 'unrais$', 'cockpit$', 'agincourt$', 'eleventh$', 'indig$', 'almshous$', 'envelop$', 'headi$', 'curranc$', 'hydra$', 'gordian$', 'lurketh$', 'theoric$', 'unlett$', 'sequestr$', 'cresciv$', 'exhibitor$', 'unhidden$', 'salic$', 'miscreat$', 'pharamond$', 'terram$', 'salicam$', 'mulier$', 'succed$', 'sala$', 'elb$', 'saxon$', 'inheritrix$', 'meissen$', 'defunct$', 'childer$', 'blithild$', 'clothair$', 'capet$', 'lorrain$', 'lingar$', 'charlemagn$', 'lewi$', 'ermengar$', 'reunit$', 'howbeit$', 'imbar$', 'progenitor$', 'unwind$', 'invok$', 'spiritualti$', 'invad$', 'scot$', 'pilfer$', 'border$', 'snatcher$', 'neighborhood$', 'impound$', 'sumless$', 'congre$', 'honeybe$', 'urn$', 'tombless$', 'turkish$', 'uncurb$', 'meeter$', 'racket$', 'merriest$', 'ungotten$', 'sender$', 'furth$', 'tyke$', 'hewn$', 'pish$', 'iceland$', 'shog$', 'solus$', 'egregi$', 'forefoot$', 'crete$', 'spital$', 'powd$', 'tub$', 'doll$', 'tearsheet$', 'pan$', 'sutler$', 'accru$', 'cash$', 'tertian$', 'fract$', 'corrobor$', 'lambkin$', 'commission$', 'hampton$', 'bungl$', 'demon$', 'famili$', 'complement$', 'wheresom$', 'christom$', 'wafer$', 'holdfast$', 'caveto$', 'leech$', 'huswiferi$', 'brabant$', 'morri$', 'foresp$', 'ordur$', 'cressi$', 'stem$', 'divest$', 'wormhol$', 'pedigre$', 'prive$', 'misbecom$', 'wombi$', 'vaultag$', 'greener$', 'streamer$', 'threaden$', 'rivag$', 'sternag$', 'linstock$', 'stiffen$', 'swasher$', 'athversari$', 'digt$', 'countermin$', 'cheshu$', 'falor$', 'aunchient$', 'gudday$', 'godden$', 'chrish$', 'tish$', 'ish$', 'trompet$', 'voutsaf$', 'sall$', 'gud$', 'feith$', 'capten$', 'leve$', 'sa$', 'theis$', 'slomber$', 'lig$', 'grund$', 'suer$', 'breff$', 'wad$', 'tway$', 'basterd$', 'enlink$', 'leviathan$', 'erblow$', 'slaughtermen$', 'tu$', 'ete$', 'angleterr$', 'bien$', 'langag$', 'peu$', 'prie$', 'enseignez$', 'faut$', 'que$', 'apprenn$', 'parler$', 'appelez$', 'anglai$', 'appele$', 'doigt$', 'mai$', 'souviendrai$', 'sont$', 'fingr$', 'sui$', 'ecoli$', 'gagn$', 'deux$', 'mot$', 'vitement$', 'ongl$', 'appelon$', 'ecoutez$', 'dite$', 'si$', 'dit$', 'l$', 'bras$', 'coud$', 'fai$', 'tous$', 'avez$', 'appri$', 'des$', 'trop$', 'difficil$', 'comm$', 'excusez$', 'arma$', 'bilbow$', 'seigneur$', 'col$', 'nick$', 'menton$', 'sauf$', 'honneur$', 'verit$', 'prononcez$', 'droit$', 'natif$', 'dout$', 'apprendr$', 'par$', 'pas$', 'deja$', 'ce$', 'enseign$', 'reciterai$', 'promptement$', 'ilbow$', 'ainsi$', 'mauvai$', 'gros$', 'impudiqu$', 'user$', 'voudrai$', 'prononc$', 'ces$', 'devant$', 'tout$', 'mond$', 'neanmoin$', 'une$', 'autr$', 'lecon$', 'ensembl$', 'assez$', 'allon$', 'diner$', 'somm$', 'vivant$', 'spurt$', 'grafter$', 'unfought$', 'slobb$', 'bataill$', 'decoct$', 'lavolta$', 'delabreth$', 'jacqu$', 'chatillon$', 'vaudemont$', 'roussi$', 'foix$', 'lestral$', 'bouciquault$', 'charoloi$', 'pennon$', 'rouen$', 'pridg$', 'mutabl$', 'variat$', 'spheric$', 'pax$', 'windpip$', 'figo$', 'prave$', 'bubukl$', 'whelk$', 'knob$', 'plue$', 'reanswer$', 'enfeebl$', 'pastern$', 'cheval$', 'volant$', 'narin$', 'feu$', 'herm$', 'fluent$', 'strosser$', 'horsemanship$', 'warili$', 'chien$', 'retourn$', 'propr$', 'vomiss$', 'truie$', 'au$', 'bourbier$', 'overshot$', 'expert$', 'intellectu$', 'pore$', 'stilli$', 'overlusti$', 'enround$', 'rie$', 'stirrer$', 'preacher$', 'leger$', 'heartstr$', 'roy$', 'cornish$', 'leek$', 'davi$', 'fewer$', 'prerogatif$', 'tiddl$', 'taddl$', 'naked$', 'rawli$', 'irreconcil$', 'premedit$', 'robberi$', 'impieti$', 'clipper$', 'adul$', 'intertissu$', 'farc$', 'contrit$', 'montez$', 'eaux$', 'terr$', 'rien$', 'pui$', 'cieux$', 'shale$', 'erturn$', 'unnecessari$', 'sonanc$', 'horsemen$', 'candlestick$', 'lob$', 'gemel$', 'chaw$', 'motionless$', 'provend$', 'outwear$', 'crispian$', 'crispin$', 'unwish$', 'englut$', 'slovenri$', 'vaward$', 'pleasest$', 'gentilhomm$', 'bonn$', 'qualit$', 'qualtiti$', 'calmi$', 'custur$', 'prenez$', 'misericord$', 'ayez$', 'echapp$', 'ton$', 'pardonnez$', 'firk$', 'ferret$', 'pret$', 'soldat$', 'cett$', 'heur$', 'couper$', 'owi$', 'cuppel$', 'permafoy$', 'amour$', 'maison$', 'gardez$', 'donnerai$', 'cent$', 'ecus$', 'encor$', 'contr$', 'jurement$', 'aucun$', 'prisonni$', 'lui$', 'promi$', 'donner$', 'libert$', 'mes$', 'genoux$', 'donn$', 'remerci$', 'heureux$', 'entr$', 'plus$', 'vaillant$', 'tres$', 'distingu$', 'suivez$', 'capitain$', 'jour$', 'perdu$', 'mechant$', 'perdur$', 'haggl$', 'insteep$', 'foughten$', 'poy$', 'offert$', 'porn$', 'monmouth$', 'situat$', 'wye$', 'salmon$', 'intox$', 'cleitus$', 'gipe$', 'assyrian$', 'humbler$', 'yerk$', 'crispianus$', 'plack$', 'pattl$', 'tavi$', 'plood$', 'podi$', 'literatur$', 'aggrief$', 'gunpowd$', 'twelvep$', 'prawl$', 'sill$', 'bouciqualt$', 'crossbow$', 'guichard$', 'marl$', 'ket$', 'gam$', 'nobi$', 'outvoic$', 'whiffler$', 'blackheath$', 'workinghous$', 'plebeian$', 'conqu$', 'prag$', 'pread$', 'parca$', 'qualmish$', 'peseech$', 'disgest$', 'cadwallad$', 'ploodi$', 'woodmong$', 'predeceas$', 'congreet$', 'cheerer$', 'pleach$', 'overgrown$', 'darnel$', 'fumitori$', 'coulter$', 'burnet$', 'clover$', 'scyth$', 'uncorrect$', 'thistl$', 'kecksi$', 'util$', 'enschedul$', 'cursitori$', 'erglanc$', 'resurvey$', 'forerank$', 'ang$', 'vraiment$', 'langu$', 'homm$', 'plein$', 'tromperi$', 'englishwoman$', 'undid$', 'leapfrog$', 'uncoin$', 'prater$', 'sould$', 'quand$', 'donc$', 'mienn$', 'francai$', 'parlez$', 'meilleur$', 'lequel$', 'constantinopl$', 'du$', 'cher$', 'deess$', 'fauss$', 'demoisell$', 'untemp$', 'layer$', 'pere$', 'laissez$', 'veux$', 'abaissiez$', 'grandeur$', 'baisant$', 'notr$', 'etr$', 'baise$', 'leur$', 'noce$', 'coutum$', 'baiser$', 'anglish$', 'entendr$', 'bettr$', 'fil$', 'heriti$', 'praeclarissimus$', 'filius$', 'noster$', 'henricus$', 'anglia$', 'hoer$', 'francia$', 'spousal$', 'paction$', 'prosp$', 'triumvir$', 'octavius$', 'octavia$', 'lepidus$', 'enobarbus$', 'domitius$', 'ventidius$', 'silius$', 'ero$', 'canidius$', 'scarus$', 'dercetus$', 'demetrius$', 'philo$', 'charmian$', 'alexa$', 'mardian$', 'seleucus$', 'maecena$', 'agrippa$', 'thidia$', 'dolabella$', 'gallus$', 'proculeius$', 'sextus$', 'pompeius$', 'mena$', 'menecr$', 'varrius$', 'sentri$', 'guardsmen$', 'lamprius$', 'rannius$', 'lucillius$', 'dotag$', 'reneg$', 'fulvia$', 'blushest$', 'tiber$', 'weet$', 'antonius$', 'forenoon$', 'nilus$', 'presageth$', 'workaday$', 'isi$', 'fiftyfold$', 'uncuckold$', 'decorum$', 'lucius$', 'teller$', 'labienus$', 'parthian$', 'asia$', 'euphrat$', 'lydia$', 'ionia$', 'sicyon$', 'importeth$', 'poorer$', 'entangl$', 'scrupul$', 'garboil$', 'slime$', 'herculean$', 'alexandria$', 'manlik$', 'ptolemi$', 'tippl$', 'dryness$', 'inroad$', 'maritim$', 'modena$', 'hirsius$', 'pansa$', 'consul$', 'daintili$', 'rudest$', 'mandragora$', 'unseminar$', 'mov$', 'atlas$', 'opul$', 'salad$', 'justest$', 'cloyless$', 'cement$', 'parthia$', 'leaner$', 'derog$', 'contest$', 'snaffl$', 'diff$', 'staunch$', 'unslip$', 'misena$', 'cydnus$', 'flute$', 'tissu$', 'erpictur$', 'outwork$', 'nereid$', 'plough$', 'riggish$', 'daemon$', 'erpow$', 'inhoop$', 'shorter$', 'billiard$', 'fervenc$', 'philippan$', 'bluest$', 'malefactor$', 'unhair$', 'wire$', 'submerg$', 'philippi$', 'cassius$', 'ercount$', 'sardinia$', 'unhack$', 'targ$', 'undint$', 'timeli$', 'cookeri$', 'apollodorus$', 'mattress$', 'whatsom$', 'marcus$', 'strangler$', 'varianc$', 'seedsman$', 'pyramis$', 'transmigr$', 'quicksand$', 'inclip$', 'sharer$', 'alexandrian$', 'bacchan$', 'plumpi$', 'bacchus$', 'enobarb$', 'antick$', 'hoo$', 'pacorus$', 'crassus$', 'orod$', 'fugit$', 'media$', 'mesopotamia$', 'sossius$', 'purposeth$', 'arabian$', 'approof$', 'branchless$', 'solder$', 'tribun$', 'caesarion$', 'stablish$', 'cyprus$', 'showplac$', 'armenia$', 'cilicia$', 'phoenicia$', 'queasi$', 'unrestor$', 'unshown$', 'unlov$', 'bocchus$', 'archelaus$', 'cappadocia$', 'philadelpho$', 'paphlagonia$', 'thracian$', 'adalla$', 'manchus$', 'pont$', 'mithrid$', 'comagen$', 'polemon$', 'amynta$', 'mede$', 'lycaonia$', 'unbewail$', 'trull$', 'forspok$', 'photinus$', 'presid$', 'tarentum$', 'brundusium$', 'ionian$', 'toryn$', 'pharsalia$', 'mulet$', 'footmen$', 'unexecut$', 'overplus$', 'actium$', 'phoenician$', 'justeius$', 'publicola$', 'caelius$', 'squadron$', 'antoniad$', 'rudder$', 'cantl$', 'ribaudr$', 'nag$', 'leprosi$', 'breez$', 'june$', 'loof$', 'mallard$', 'peloponnesus$', 'dancer$', 'lieutenantri$', 'unqual$', 'unnobl$', 'stroy$', 'dodg$', 'captainship$', 'unstat$', 'fullest$', 'muss$', 'cring$', 'unpress$', 'forborn$', 'boggler$', 'gneius$', 'unregist$', 'plighter$', 'basan$', 'outroar$', 'civilli$', 'hipparchus$', 'enfranch$', 'terren$', 'coldheart$', 'discandi$', 'pellet$', 'graveless$', 'sealik$', 'estridg$', 'landmen$', 'daff$', 'fumblest$', 'adieus$', 'vant$', 'bringer$', 'outstrik$', 'droven$', 'scotch$', 'runner$', 'tenfold$', 'doughti$', 'uncaught$', 'shini$', 'damp$', 'dispung$', 'infam$', 'leaver$', 'upris$', 'nessus$', 'licha$', 'telamon$', 'thessali$', 'dragonish$', 'citadel$', 'vesper$', 'dislimn$', 'indistinct$', 'sevenfold$', 'exig$', 'corrig$', 'unpurpos$', 'darkl$', 'wisher$', 'chare$', 'sottish$', 'briefest$', 'hater$', 'unreconcili$', 'speediest$', 'dung$', 'varletri$', 'rebound$', 'scutcheon$', 'soulless$', 'lordli$', 'immoment$', 'mediat$', 'cinder$', 'misthought$', 'encloud$', 'lictor$', 'rhymer$', 'guardsman$', 'falliabl$', 'regalia$', 'aspic$', 'vanishest$', 'asp$', 'intrins$', 'unpolici$', 'rustl$', 'bravest$', 'lodowick$', 'provost$', 'abhorson$', 'angelo$', 'mariana$', 'isabella$', 'clare$', 'francisca$', 'barnardin$', 'unquest$', 'hungari$', 'thanksgiv$', 'healthi$', 'julietta$', 'denunci$', 'unscour$', 'zodiac$', 'milkmaid$', 'dialect$', 'tack$', 'dribbl$', 'strictur$', 'birch$', 'permiss$', 'seemer$', 'votarist$', 'unsworn$', 'prioress$', 'enski$', 'few$', 'expresseth$', 'schoolmaid$', 'rebat$', 'mice$', 'scarecrow$', 'guiltier$', 'benefactor$', 'hothous$', 'uncleanli$', 'china$', 'hallond$', 'hannib$', 'taphous$', 'beastliest$', 'splay$', 'carman$', 'fornicatress$', 'sulphur$', 'unwedg$', 'essenc$', 'sicl$', 'tempter$', 'remit$', 'pose$', 'enshield$', 'cheaper$', 'fedari$', 'unsoil$', 'overweigh$', 'niceti$', 'prolixi$', 'promptur$', 'skyey$', 'accommod$', 'exist$', 'striv$', 'ingot$', 'leiger$', 'vastid$', 'floweri$', 'enew$', 'prenzi$', 'viewless$', 'weariest$', 'fallibl$', 'forenam$', 'plausibl$', 'usuri$', 'lambskin$', 'picklock$', 'causest$', 'whoremong$', 'pygmalion$', 'unshun$', 'wheresoev$', 'spawn$', 'clack$', 'crotchet$', 'shi$', 'unhurt$', 'tundish$', 'ungenitur$', 'untruss$', 'whitest$', 'keepdown$', 'circummur$', 'planch$', 'precontract$', 'unsist$', 'insens$', 'overread$', 'ninescor$', 'mercer$', 'peach$', 'billet$', 'ragozin$', 'reprob$', 'journal$', 'gradat$', 'wend$', 'pervert$', 'disvouch$', 'flavius$', 'valencius$', 'gravest$', 'inquiri$', 'razur$', 'believest$', 'caract$', 'archvillain$', 'oddest$', 'inequ$', 'refel$', 'concupisc$', 'confut$', 'unbeliev$', 'ungot$', 'temporari$', 'misreport$', 'disprov$', 'belock$', 'disvalu$', 'confix$', 'unreverend$', 'countenanc$', 'baldpat$', 'fleshmong$', 'giglet$', 'undiscern$', 'remonstr$', 'audibl$', 'instat$', 'unmuffl$', 'leonato$', 'messina$', 'beatric$', 'ursula$', 'pedro$', 'aragon$', 'benedick$', 'borachio$', 'conrad$', 'dogberri$', 'mountanto$', 'trencherman$', 'skirmish$', 'squarer$', 'turncoat$', 'predestin$', 'recheat$', 'baldrick$', 'tuition$', 'onward$', 'rougher$', 'broader$', 'saturn$', 'heartburn$', 'overmast$', 'cinquepac$', 'waggl$', 'withdrawn$', 'melteth$', 'drover$', 'bullock$', 'termin$', 'infern$', 'prester$', 'cham$', 'pygmi$', 'orang$', 'perfectest$', 'sevennight$', 'dulli$', 'unhopefullest$', 'disloyalti$', 'orthographi$', 'arbor$', 'kid$', 'mo$', 'leavi$', 'overborn$', 'afear$', 'daf$', 'christianlik$', 'necessarili$', 'overheardst$', 'honeysuckl$', 'hearsay$', 'greedili$', 'woodbin$', 'covertur$', 'vane$', 'purchaseth$', 'empoison$', 'foremost$', 'bowstr$', 'toothach$', 'compartn$', 'desartless$', 'oatcak$', 'comprehend$', 'vagrom$', 'bidden$', 'toler$', 'baa$', 'vigit$', 'unconfirm$', 'pharaoh$', 'bel$', 'shaven$', 'ernight$', 'rebato$', 'underborn$', 'bluish$', 'tinsel$', 'carduus$', 'benedictus$', 'decern$', 'palabra$', 'aspici$', 'suffig$', 'noncom$', 'interject$', 'unconstrain$', 'experiment$', 'reclus$', 'comfect$', 'eftest$', 'burglari$', 'profitless$', 'waster$', 'precepti$', 'fashionmong$', 'dang$', 'transshap$', 'lackbeard$', 'secondarili$', 'wronger$', 'beliest$', 'overkind$', 'hardheart$', 'prohibit$', 'deservest$', 'carpetmong$', 'intermingl$', 'epithet$', 'praiseworthi$', 'luckier$', 'enigmat$', 'februari$', 'consumpt$', 'epigram$', 'piper$', 'hal$', 'traver$', 'colevil$', 'harcourt$', 'peto$', 'mouldi$', 'bullcalf$', 'uncount$', 'wav$', 'shrewsburi$', 'dougla$', 'overrod$', 'umfrevil$', 'outrod$', 'forspent$', 'chester$', 'rowel$', 'coldspur$', 'baroni$', 'ugliest$', 'spiritless$', 'woebegon$', 'gainsaid$', 'outbreath$', 'scali$', 'firstborn$', 'burier$', 'presurmis$', 'erset$', 'froze$', 'insurrect$', 'aptest$', 'inset$', 'juven$', 'dommelton$', 'achitophel$', 'smoothi$', 'ratsban$', 'gett$', 'apoplexi$', 'tingl$', 'erpost$', 'gravi$', 'costermong$', 'pregnanc$', 'gooseberri$', 'extraordinarili$', 'outweigh$', 'stillborn$', 'criest$', 'lumbert$', 'silkman$', 'exion$', 'fub$', 'honeyse$', 'hempse$', 'scullion$', 'rampallian$', 'fustilarian$', 'catastroph$', 'eastcheap$', 'wheeson$', 'prawn$', 'downstair$', 'unpay$', 'waterwork$', 'basingstok$', 'loiter$', 'keepest$', 'midwiv$', 'obduraci$', 'roadway$', 'accit$', 'engraf$', 'althea$', 'martlema$', 'bodili$', 'wen$', 'superscript$', 'japheth$', 'certif$', 'descens$', 'brighten$', 'tardili$', 'unsecond$', 'disadvantag$', 'oversight$', 'sprout$', 'applejohn$', 'uti$', 'pulsidg$', 'jordan$', 'gluttoni$', 'ouch$', 'conger$', 'tilli$', 'valli$', 'tisick$', 'debuti$', 'aspen$', 'dorothi$', 'bung$', 'cuttl$', 'juggler$', 'hiren$', 'peesel$', 'beseek$', 'cannib$', 'troyant$', 'calipoli$', 'sperato$', 'contento$', 'broadsid$', 'etcetera$', 'neaf$', 'galloway$', 'quoit$', 'imbru$', 'untwind$', 'atropo$', 'tirrit$', 'canvass$', 'tidi$', 'mallet$', 'avoirdupoi$', 'trigon$', 'kirtl$', 'wilful$', 'chipper$', 'elm$', 'irrecover$', 'vitlar$', 'overtook$', 'unpick$', 'peasecod$', 'blubber$', 'erread$', 'pallet$', 'lull$', 'leavest$', 'calmest$', 'stillest$', 'beachi$', 'nevil$', 'intreasur$', 'goddaught$', 'ellen$', 'ousel$', 'clement$', 'staffordshir$', 'pickbon$', 'squel$', 'cotswold$', 'roba$', 'scoggin$', 'fruiter$', 'psalmist$', 'stamford$', 'doobl$', 'thereaft$', 'backsword$', 'accommodo$', 'soldierlik$', 'drudgeri$', 'windmil$', 'nightwork$', 'watchword$', 'likeliest$', 'brewer$', 'foeman$', 'penknif$', 'caliv$', 'thas$', 'dagonet$', 'rah$', 'tah$', 'turnbul$', 'duer$', 'radish$', 'overscutch$', 'huswiv$', 'carmen$', 'dace$', 'gaultre$', 'discover$', 'sortanc$', 'overl$', 'insinew$', 'decid$', 'valuat$', 'partit$', 'enroot$', 'unfasten$', 'fangless$', 'misord$', 'shallowli$', 'yielder$', 'ershin$', 'overcool$', 'inflamm$', 'sherri$', 'crudi$', 'pusillanim$', 'illumineth$', 'retinu$', 'potat$', 'bleedeth$', 'leak$', 'aconitum$', 'overspread$', 'counsellor$', 'unsheath$', 'shriev$', 'mure$', 'unfath$', 'polish$', 'biggen$', 'weightless$', 'rigol$', 'overcar$', 'eyedrop$', 'oldest$', 'carat$', 'potabl$', 'bypath$', 'hade$', 'hinckley$', 'kickshaw$', 'backbit$', 'woncot$', 'curri$', 'intervallum$', 'overturn$', 'sorrier$', 'amurath$', 'administr$', 'nought$', 'misbecam$', 'graf$', 'caraway$', 'profac$', 'shrovetid$', 'cabilero$', 'liggen$', 'samingo$', 'barson$', 'helter$', 'skelter$', 'foutr$', 'africa$', 'helicon$', 'besonian$', 'bluebottl$', 'correction$', 'bloodhound$', 'semper$', 'idem$', 'obsqu$', 'nihil$', 'alecto$', 'clangor$', 'fortuna$', 'tormenta$', 'spero$', 'contenta$', 'oldcastl$', 'loudest$', 'precurr$', 'obsequy$', 'surplic$', 'threne$', 'threno$', 'proteus$', 'pantino$', 'julia$', 'lucetta$', 'sylvia$', 'thurio$', 'eglamour$', 'proprietor$', 'noteworthi$', 'beadsman$', 'votari$', 'betideth$', 'metamorphos$', 'fodder$', 'followest$', 'astray$', 'pinfold$', 'noddi$', 'unheed$', 'mercatio$', 'closest$', 'fing$', 'studious$', 'tournament$', 'alphonso$', 'valentinus$', 'resembleth$', 'redbreast$', 'abc$', 'inscrut$', 'spokesman$', 'dinnertim$', 'erslip$', 'wold$', 'unkindest$', 'unmellow$', 'penitenti$', 'heartsor$', 'disembark$', 'reasonless$', 'parabl$', 'reportest$', 'swarthi$', 'meaneth$', 'damm$', 'enamel$', 'overtaketh$', 'tarrianc$', 'unprev$', 'unworthili$', 'childlik$', 'merop$', 'unrevers$', 'uncompassion$', 'catalog$', 'jolt$', 'illiter$', 'legaci$', 'esteemeth$', 'lumpish$', 'strung$', 'rifl$', 'thieveri$', 'linguist$', 'fawneth$', 'allycholli$', 'conceitless$', 'importunaci$', 'befortun$', 'stayest$', 'despiseth$', 'agood$', 'ariadn$', 'theseus$', 'auburn$', 'unse$', 'rounder$', 'moys$', 'valerius$', 'shadowi$', 'unfrequ$', 'approacheth$', 'unriv$', 'calphurnia$', 'patrician$', 'casca$', 'cinna$', 'decius$', 'ligarius$', 'metellus$', 'cimber$', 'trebonius$', 'cicero$', 'publius$', 'popilius$', 'lena$', 'marullus$', 'lucilius$', 'titinius$', 'messala$', 'varro$', 'strato$', 'volumnius$', 'labeo$', 'dardanus$', 'clitus$', 'cobbler$', 'artemidorus$', 'pindarus$', 'mender$', 'cobbl$', 'awl$', 'tradesman$', 'intermit$', 'luperc$', 'shriller$', 'ide$', 'gusti$', 'underl$', 'fatter$', 'nightcap$', 'tag$', 'unscorch$', 'noonday$', 'preform$', 'airless$', 'praetor$', 'alchemi$', 'upmost$', 'whizz$', 'receivest$', 'phantasma$', 'sham$', 'insuppress$', 'improv$', 'purger$', 'engraft$', 'stricken$', 'insist$', 'waftur$', 'rheumi$', 'unpurg$', 'exorcist$', 'cogniz$', 'preordin$', 'unnumb$', 'unshak$', 'pulpit$', 'untrod$', 'cumber$', 'freemen$', 'ershot$', 'nervii$', 'seventi$', 'drachma$', 'proscript$', 'useth$', 'sardi$', 'pella$', 'sardian$', 'abler$', 'lovedst$', 'vexeth$', 'insupport$', 'outlawri$', 'brutusnoth$', 'afloat$', 'drowsili$', 'erwatch$', 'criedst$', 'hybla$', 'honeyless$', 'stingless$', 'soundless$', 'redder$', 'epicurus$', 'freeman$', 'disconsol$', 'misconstru$', 'thaso$', 'statilius$', 'torchlight$', 'smatch$', 'lear$', 'goneril$', 'albani$', 'oswald$', 'regan$', 'cornwal$', 'cordelia$', 'edgar$', 'curan$', 'curios$', 'saucili$', 'largest$', 'champain$', 'felicit$', 'interess$', 'untend$', 'radianc$', 'patern$', 'propinqu$', 'scythian$', 'preemin$', 'avert$', 'forevouch$', 'unspok$', 'enflam$', 'dowerless$', 'rish$', 'derid$', 'fop$', 'justif$', 'suspend$', 'auricular$', 'planetari$', 'goatish$', 'ursa$', 'fut$', 'maidenliest$', 'maledict$', 'dissip$', 'cohort$', 'rageth$', 'clotpol$', 'roundest$', 'remembrest$', 'footbal$', 'nuncl$', 'throwest$', 'unfe$', 'monopoli$', 'clovest$', 'bor$', 'foppish$', 'bo$', 'frontlet$', 'disquant$', 'besort$', 'disnatur$', 'cadent$', 'thankless$', 'resum$', 'enguard$', 'slipshod$', 'hoa$', 'pight$', 'dullard$', 'potenti$', 'godson$', 'bewray$', 'lipsburi$', 'superservic$', 'finic$', 'barbermong$', 'stonecutt$', 'zed$', 'jake$', 'wagtail$', 'atwain$', 'halcyon$', 'epilept$', 'sarum$', 'camelot$', 'antipathi$', 'flick$', 'discommend$', 'misconstruct$', 'fleshment$', 'pilf$', 'enorm$', 'grime$', 'elf$', 'persecut$', 'sprig$', 'turlygod$', 'netherstock$', 'kentbi$', 'meini$', 'hysterica$', 'passio$', 'ant$', 'unremov$', 'headier$', 'indispos$', 'unsight$', 'serpentlik$', 'gratitud$', 'tough$', 'comrad$', 'sumpter$', 'depositari$', 'impetu$', 'outscorn$', 'unbonnet$', 'outjest$', 'bemad$', 'outwal$', 'cataract$', 'sulph$', 'rotund$', 'rainwat$', 'rumbl$', 'belly$', 'subscript$', 'pudder$', 'unwhip$', 'simular$', 'merlin$', 'houseless$', 'unf$', 'loop$', 'ragged$', 'superflux$', 'whirlpool$', 'quagmir$', 'pendul$', 'pillicock$', 'alow$', 'creak$', 'suum$', 'mun$', 'unaccommod$', 'flibbertigibbet$', 'squint$', 'harelip$', 'swithold$', 'nightmar$', 'ninefold$', 'tadpol$', 'smulkin$', 'modo$', 'mahu$', 'theban$', 'vermin$', 'learcom$', 'fum$', 'british$', 'awork$', 'detector$', 'frateretto$', 'angler$', 'sapient$', 'bessi$', 'hopped$', 'yokefellow$', 'wakest$', 'minikin$', 'purr$', 'lym$', 'bobtail$', 'tike$', 'trundl$', 'erskip$', 'festin$', 'questrist$', 'corki$', 'unmerci$', 'boarish$', 'buoy$', 'stell$', 'roguish$', 'mutat$', 'parel$', 'horseway$', 'obidicut$', 'hobbidid$', 'cowish$', 'disbranch$', 'noiseless$', 'bemonst$', 'disloc$', 'nether$', 'trill$', 'smilet$', 'moisten$', 'fumit$', 'hardock$', 'cuckooflow$', 'unpublish$', 'aidant$', 'eliad$', 'samphir$', 'defici$', 'opposeless$', 'precipit$', 'perpendicular$', 'clearest$', 'hewgh$', 'simp$', 'centaur$', 'squinni$', 'handi$', 'dandi$', 'whipp$', 'hurtless$', 'wawl$', 'waterpot$', 'zir$', 'vurther$', 'casion$', 'volk$', 'chud$', 'bin$', 'zwagger$', 'zo$', 'vortnight$', 'che$', 'ise$', 'ballow$', 'erpaid$', 'flake$', 'molten$', 'pinprick$', 'conductor$', 'loosen$', 'bemet$', 'outfrown$', 'immediaci$', 'compeer$', 'asquint$', 'subcontract$', 'bespok$', 'stoppl$', 'amplifi$', 'improp$', 'fordid$', 'mist$', 'cheerless$', 'fordon$', 'pamphlet$', 'tarquinius$', 'surnam$', 'superbus$', 'servius$', 'tullius$', 'ardea$', 'collatinus$', 'disport$', 'collatium$', 'stealeth$', 'speedeth$', 'dispatcheth$', 'collatin$', 'junius$', 'acclam$', 'trustless$', 'lightless$', 'unhapp$', 'bateless$', 'priceless$', 'needeth$', 'sov$', 'reignti$', 'entitul$', 'suspecteth$', 'pleat$', 'inordin$', 'pineth$', 'wordless$', 'feareth$', 'smiteth$', 'lighteth$', 'lodestar$', 'excelleth$', 'engraven$', 'cowardlik$', 'quittal$', 'pleadeth$', 'dreadeth$', 'unresist$', 'hearten$', 'cranni$', 'extinguish$', 'incom$', 'unfruit$', 'dazzleth$', 'darksom$', 'rosi$', 'slake$', 'straggl$', 'turret$', 'gover$', 'urgeth$', 'ensnar$', 'coucheth$', 'obloquy$', 'unact$', 'purifi$', 'rouseth$', 'panteth$', 'granteth$', 'weakl$', 'relier$', 'chastest$', 'foresight$', 'healeth$', 'copartn$', 'gloomi$', 'breaker$', 'makest$', 'abettor$', 'plantest$', 'displacest$', 'apaid$', 'copesm$', 'grisli$', 'nursest$', 'enchain$', 'ruinat$', 'ceaseless$', 'unrecal$', 'unperceiv$', 'unnot$', 'uncheer$', 'affeard$', 'betumbl$', 'imparteth$', 'vanisheth$', 'graff$', 'gush$', 'philomel$', 'diapason$', 'tereus$', 'overse$', 'overseen$', 'brinish$', 'champaign$', 'inveigh$', 'greeteth$', 'audac$', 'ilion$', 'gleam$', 'pioneer$', 'begrim$', 'interlac$', 'physiognomi$', 'purl$', 'boll$', 'reedi$', 'moe$', 'unbent$', 'sinon$', 'wildfir$', 'sheed$', 'quenchless$', 'overslip$', 'detriment$', 'easeth$', 'sod$', 'purloin$', 'eddi$', 'awaketh$', 'lendeth$', 'slaketh$', 'lucretius$', 'unliv$', 'outworn$', 'falt$', 'jeer$', 'glansdal$', 'gargrav$', 'fastolf$', 'woodvill$', 'vernon$', 'basset$', 'pucell$', 'arc$', 'auvergn$', 'overaw$', 'discomfitur$', 'guyen$', 'gisor$', 'mutter$', 'flieth$', 'enrank$', 'agaz$', 'walloon$', 'foemen$', 'hungerford$', 'craveth$', 'eltham$', 'otherwhil$', 'beev$', 'killeth$', 'fighteth$', 'froissart$', 'roland$', 'golias$', 'sendeth$', 'rawbon$', 'gimmer$', 'unfal$', 'untrain$', 'unpremedit$', 'vanquishest$', 'fightest$', 'deborah$', 'sueth$', 'martin$', 'ceaseth$', 'mahomet$', 'constantin$', 'faintheart$', 'prizest$', 'peel$', 'proditor$', 'damascus$', 'heartblood$', 'entrench$', 'gott$', 'ponton$', 'santraill$', 'barter$', 'ercam$', 'vieweth$', 'lifteth$', 'puzel$', 'dogfish$', 'pursueth$', 'chaseth$', 'potter$', 'astraea$', 'stateli$', 'pyrami$', 'rhodoph$', 'memphi$', 'darius$', 'artoi$', 'unreadi$', 'default$', 'precinct$', 'turtledov$', 'unbidden$', 'welcomest$', 'tamyri$', 'cyrus$', 'writhl$', 'shrimp$', 'bloodthirsti$', 'laughest$', 'contrarieti$', 'yoketh$', 'razeth$', 'subvert$', 'signific$', 'fewest$', 'crestless$', 'pithless$', 'sapless$', 'giveth$', 'overpass$', 'verbatim$', 'pestifer$', 'preferreth$', 'patronag$', 'slaught$', 'serveth$', 'reguerdon$', 'disanim$', 'pauvr$', 'practis$', 'joineth$', 'talbonit$', 'sorceress$', 'shameless$', 'damsel$', 'goodby$', 'crazi$', 'pendragon$', 'enshrin$', 'exequi$', 'reverenc$', 'expuls$', 'progeni$', 'stouter$', 'callic$', 'patay$', 'degrad$', 'sanguin$', 'disagre$', 'fabl$', 'bloi$', 'poictier$', 'sedit$', 'overdar$', 'perisheth$', 'lifeblood$', 'icarus$', 'guardant$', 'lither$', 'giglot$', 'inhears$', 'nurser$', 'askst$', 'washford$', 'waterford$', 'valenc$', 'goodrich$', 'urchinfield$', 'blackmer$', 'verdon$', 'alton$', 'wingfield$', 'furniv$', 'sheffield$', 'magnifi$', 'flyblown$', 'nemesi$', 'armagnac$', 'imman$', 'surer$', 'coequal$', 'inship$', 'parisian$', 'periapt$', 'overlong$', 'condescend$', 'incant$', 'droopeth$', 'captur$', 'unchain$', 'circ$', 'enchantress$', 'quid$', 'minotaur$', 'liveth$', 'bach$', 'lorship$', 'misconceiv$', 'faggot$', 'unrel$', 'warranteth$', 'gallian$', 'lucr$', 'unvanquish$', 'obstinaci$', 'fruition$', 'prefac$', 'forsaketh$', 'attorneyship$', 'bindeth$', 'all$', 'rossillion$', 'bertram$', 'paroll$', 'lafew$', 'astring$', 'gerard$', 'narbon$', 'fistula$', 'idolatr$', 'steeli$', 'blower$', 'quicklier$', 'ration$', 'offendress$', 'dryli$', 'traitress$', 'adopti$', 'acut$', 'senoy$', 'credibl$', 'prejud$', 'amplest$', 'tuscan$', 'haggish$', 'applic$', 'isbel$', 'charbon$', 'poysam$', 'papist$', 'sithenc$', 'foregon$', 'enwomb$', 'clew$', 'captious$', 'inten$', 'heedful$', 'unlearn$', 'luckiest$', 'questant$', 'forehors$', 'masonri$', 'spinii$', 'spurio$', 'swordmen$', 'arais$', 'pippen$', 'inaid$', 'torcher$', 'diurnal$', 'murk$', 'occident$', 'hesperus$', 'quatch$', 'taffeti$', 'shrove$', 'relinquish$', 'paracelsus$', 'facinor$', 'lustig$', 'vinaigr$', 'wealthiest$', 'amb$', 'ace$', 'forego$', 'banneret$', 'kicki$', 'wicki$', 'capriccio$', 'bunt$', 'ministr$', 'fundament$', 'thitherward$', 'engrossest$', 'robb$', 'mildest$', 'rinaldo$', 'overnight$', 'honestest$', 'leaguer$', 'jacet$', 'sprat$', 'overpay$', 'linsey$', 'woolsey$', 'bajazeth$', 'throca$', 'movousus$', 'cargo$', 'villianda$', 'corbo$', 'bosko$', 'thromuldo$', 'musko$', 'vauvado$', 'kerelybonto$', 'manka$', 'reuania$', 'dulch$', 'oscorbidulcho$', 'voliuorco$', 'acordo$', 'linta$', 'fontibel$', 'rector$', 'yarn$', 'nicer$', 'morgan$', 'portotartarossa$', 'chimurcho$', 'boblibindo$', 'chicurmurco$', 'unservic$', 'militarist$', 'chape$', 'corambus$', 'guiltian$', 'cosmo$', 'gratii$', 'chitoph$', 'vaumond$', 'bentii$', 'cassock$', 'dumain$', 'tile$', 'ruttish$', 'armipot$', 'bedcloth$', 'cardecu$', 'entail$', 'headsman$', 'marseill$', 'unbak$', 'doughi$', 'partaken$', 'nebuchadnezzar$', 'phys$', 'nomi$', 'woodland$', 'unroot$', 'lavatch$', 'fishpond$', 'inaud$', 'maudlin$', 'ungag$', 'plutus$', 'forepast$', 'embodi$', 'boggl$', 'real$', 'uncrop$', 'strift$', 'timon$', 'flaminius$', 'servilius$', 'apemantus$', 'alcibiad$', 'concubin$', 'phrynia$', 'timandra$', 'lucullus$', 'sempronius$', 'caphi$', 'isidor$', 'hortensius$', 'philotus$', 'hostilius$', 'banditti$', 'theiv$', 'liveli$', 'confluenc$', 'steepi$', 'sacrifici$', 'unclew$', 'companionship$', 'unpeac$', 'furor$', 'brevi$', 'apperil$', 'respond$', 'dich$', 'hoy$', 'madwomen$', 'foal$', 'relianc$', 'smit$', 'detent$', 'unagre$', 'corinth$', 'outrunn$', 'indisposit$', 'lacedaemon$', 'exactest$', 'auditor$', 'spilth$', 'humh$', 'solidar$', 'nutriment$', 'ardent$', 'recover$', 'glutt$', 'manslaught$', 'misbegot$', 'byzantium$', 'briber$', 'rioter$', 'balsam$', 'suitabl$', 'lukewarm$', 'blain$', 'procreat$', 'grise$', 'obliquy$', 'wappen$', 'misanthropo$', 'trenchant$', 'pap$', 'exhaust$', 'vestment$', 'mountant$', 'oathabl$', 'shrilli$', 'flamen$', 'ensear$', 'concepti$', 'liquorish$', 'unctuous$', 'slavelik$', 'carper$', 'unhous$', 'castig$', 'contentless$', 'passiv$', 'confectionari$', 'knewest$', 'mangi$', 'graveston$', 'killer$', 'bandit$', 'briar$', 'compostur$', 'flail$', 'viler$', 'exceptless$', 'rigg$', 'settlest$', 'cauter$', 'brink$', 'whittl$', 'triumpher$', 'fragil$', 'decim$', 'rampir$', 'regular$', 'tablet$', 'insculptur$', 'droplet$', 'buriest$', 'viewest$', 'renewest$', 'unbless$', 'unear$', 'tillag$', 'bequest$', 'unfair$', 'lees$', 'refigur$', 'reeleth$', 'makeless$', 'departest$', 'convertest$', 'featureless$', 'sheav$', 'astronomi$', 'debateth$', 'unset$', 'amazeth$', 'couplement$', 'rondur$', 'unperfect$', 'wherethrough$', 'debar$', 'twire$', 'bemoan$', 'bett$', 'equipag$', 'disdaineth$', 'accessari$', 'undivid$', 'deceivest$', 'refusest$', 'quicker$', 'cide$', 'impanel$', 'carcanet$', 'unwoo$', 'vade$', 'blunter$', 'transfix$', 'yore$', 'matcheth$', 'sang$', 'twilight$', 'fadeth$', 'reviewest$', 'review$', 'compil$', 'shallowest$', 'counterpart$', 'afterloss$', 'unmov$', 'vermilion$', 'graven$', 'merchand$', 'unbr$', 'prefigur$', 'balmi$', 'dyer$', 'ergreen$', 'rud$', 'shaken$', 'sickl$', 'siren$', 'frailer$', 'bevel$', 'subsist$', 'novel$', 'foist$', 'dweller$', 'thriver$', 'mortgag$', 'addeth$', 'overparti$', 'transfer$', 'tempteth$', 'nurseth$', 'warrantis$', 'enlighten$', 'w$', 'iaggard$', 'sig$', 'lancastrian$', 'westmorland$', 'somervill$', 'yorkist$', 'montgomeri$', 'gamekeep$', 'dai$', 'byword$', 'poltroon$', 'shambl$', 'honorest$', 'prejudici$', 'lifetim$', 'preferr$', 'kentishmen$', 'di$', 'faciant$', 'laudi$', 'summa$', 'ista$', 'tuae$', 'hardiest$', 'coney$', 'ermatch$', 'molehil$', 'promin$', 'preachment$', 'crookback$', 'dicki$', 'unpardon$', 'amazonian$', 'unchang$', 'septentrion$', 'hyrcania$', 'slaughterman$', 'thickest$', 'younker$', 'pranc$', 'saddest$', 'wakefield$', 'thresher$', 'deraign$', 'extraught$', 'wisp$', 'plucker$', 'forslow$', 'embroid$', 'unwar$', 'misthink$', 'ru$', 'overgon$', 'commixtur$', 'misproud$', 'luckless$', 'unstaunch$', 'inferreth$', 'repossess$', 'closer$', 'cursi$', 'bluntest$', 'shriver$', 'unlick$', 'misshap$', 'impal$', 'waiteth$', 'ns$', 'suppresseth$', 'disannul$', 'aubrey$', 'puller$', 'unhop$', 'proveth$', 'replant$', 'uncrown$', 'bonvill$', 'rhesus$', 'embassad$', 'requireth$', 'lynn$', 'speaketh$', 'horizon$', 'belgia$', 'leicestershir$', 'oxfordshir$', 'dunsmor$', 'daintri$', 'southam$', 'unbid$', 'forecast$', 'barnet$', 'pow$', 'rful$', 'liken$', 'mought$', 'hame$', 'aesop$', 'unduti$', 'railer$', 'sprawl$', 'deathsmen$', 'putt$', 'misdoubteth$', 'daedalus$', 'mino$', 'persecutor$', 'chatt$', 'repurchas$', 'footstool$', 'bess$', 'sprang$', 'andronicus$', 'lavinia$', 'mutius$', 'martius$', 'quintus$', 'grandson$', 'saturninus$', 'bassianus$', 'tamora$', 'aaron$', 'alarbus$', 'chiron$', 'aemilius$', 'pius$', 'anchorag$', 'resalut$', 'unburi$', 'fratrum$', 'unappeas$', 'scythia$', 'solon$', 'palliament$', 'candidatus$', 'saturnin$', 'pantheon$', 'ransomless$', 'cuiqu$', 'barr$', 'emperess$', 'hymenaeus$', 'reedifi$', 'dreari$', 'panther$', 'climbeth$', 'prometheus$', 'glideth$', 'loaf$', 'shive$', 'fas$', 'aut$', 'nefa$', 'stygia$', 'vehor$', 'gleeful$', 'uncurl$', 'cimmerian$', 'tice$', 'mistleto$', 'adulteress$', 'bitterest$', 'begg$', 'andronici$', 'bloodstain$', 'beray$', 'pyramus$', 'cocytus$', 'overshad$', 'scrowl$', 'philomela$', 'sampler$', 'craftier$', 'languor$', 'stanch$', 'drought$', 'offendeth$', 'unrecur$', 'honeydew$', 'bewet$', 'battleax$', 'everburn$', 'tofor$', 'wreathen$', 'mash$', 'somewhith$', 'cornelia$', 'tosseth$', 'metamorphosi$', 'busili$', 'slunk$', 'palla$', 'stuprum$', 'magni$', 'poli$', 'lentus$', 'audi$', 'scelera$', 'vide$', 'fere$', 'bearwhelp$', 'playeth$', 'integ$', 'scelerisqu$', 'purus$', 'eget$', 'mauri$', 'iaculi$', 'nec$', 'arcu$', 'horac$', 'blows$', 'enceladus$', 'wheak$', 'muliteus$', 'archeri$', 'reliquit$', 'unsearch$', 'jovem$', 'apollinem$', 'martem$', 'virgo$', 'ari$', 'jubit$', 'pleb$', 'emper$', 'unjustic$', 'mistresship$', 'nuntius$', 'coriolanus$', 'fiendlik$', 'popish$', 'adorest$', 'crevic$', 'haystalk$', 'suranc$', 'rapin$', 'findst$', 'procn$', 'sust$', 'virginius$', 'auditori$', 'vaunter$', 'architect$', 'plotter$', 'devoid$', 'othello$', 'moorish$', 'desdemona$', 'brabantio$', 'iago$', 'cassio$', 'lodovico$', 'montano$', 'evad$', 'bombast$', 'nonsuit$', 'arithmetician$', 'toge$', 'rhode$', 'bele$', 'debitor$', 'countercast$', 'moorship$', 'tup$', 'gondoli$', 'tinder$', 'product$', 'signiori$', 'promulg$', 'circumscript$', 'carrack$', 'guardag$', 'sooti$', 'statesmen$', 'facil$', 'ottomit$', 'injoint$', 'restem$', 'luccico$', 'ottoman$', 'floodgat$', 'prepost$', 'rousli$', 'unvarnish$', 'overt$', 'affordeth$', 'disastr$', 'hairbreadth$', 'portanc$', 'antr$', 'anthropophagi$', 'pliant$', 'agniz$', 'housew$', 'skillet$', 'guinea$', 'lettuc$', 'hyssop$', 'thyme$', 'unbit$', 'luscious$', 'locust$', 'coloquintida$', 'supersubtl$', 'retel$', 'snipe$', 'segreg$', 'enchaf$', 'enshelt$', 'embay$', 'veronesa$', 'aerial$', 'ingen$', 'gutter$', 'ensteep$', 'sennight$', 'enwheel$', 'birdlim$', 'praisest$', 'suckl$', 'clyster$', 'disrelish$', 'conscion$', 'qualif$', 'outsport$', 'craftili$', 'fluster$', 'pint$', 'cannikin$', 'clink$', 'swag$', 'almain$', 'auld$', 'equinox$', 'horolog$', 'twiggen$', 'diablo$', 'unlac$', 'brawler$', 'colli$', 'outran$', 'offenseless$', 'indiscreet$', 'squabbl$', 'pleasanc$', 'probal$', 'symbol$', 'enfett$', 'enmesh$', 'desdemon$', 'fortif$', 'waterish$', 'solicitor$', 'guiltylik$', 'reconcili$', 'mamm$', 'difficult$', 'whereinto$', 'custodi$', 'fineless$', 'exsuffl$', 'franker$', 'jess$', 'prerogativ$', 'unshunn$', 'acknown$', 'poppi$', 'syrup$', 'owedst$', 'tranquil$', 'ocular$', 'supervisor$', 'pontic$', 'propont$', 'crusado$', 'charmer$', 'sybil$', 'othelloth$', 'eightscor$', 'circumstanc$', 'unauthor$', 'venial$', 'protectress$', 'saidst$', 'epilepsi$', 'unprop$', 'encav$', 'unbookish$', 'hobbyhors$', 'bewhor$', 'seami$', 'suppliest$', 'mauritania$', 'unpin$', 'ud$', 'quat$', 'unblest$', 'gast$', 'faugh$', 'promethean$', 'relum$', 'unreconcil$', 'chrysolit$', 'hah$', 'whipster$', 'heathenish$', 'judean$', 'turban$', 'circumcis$', 'navarr$', 'berown$', 'longavill$', 'boyet$', 'armado$', 'adriano$', 'jaquenetta$', 'holofern$', 'marcad$', 'academ$', 'plodder$', 'fangl$', 'strictest$', 'aquitain$', 'hunteth$', 'farborough$', 'sinplic$', 'viceger$', 'fost$', 'yclept$', 'draweth$', 'beholdest$', 'surveyest$', 'minnow$', 'congruent$', 'epitheton$', 'deuc$', 'hereupon$', 'dey$', 'solomon$', 'folio$', 'tasker$', 'perigort$', 'expositor$', 'beseemeth$', 'unpaid$', 'bookmen$', 'lovemong$', 'concolinel$', 'hackney$', 'enigma$', 'envoi$', 'egma$', 'enforcest$', 'sain$', 'enfreedom$', 'inconi$', 'gardon$', 'levenp$', 'nightwatch$', 'wimpl$', 'junior$', 'dan$', 'imper$', 'paritor$', 'tumbler$', 'coppic$', 'speakst$', 'tallest$', 'indubit$', 'zenelophon$', 'veni$', 'vidi$', 'vici$', 'annothan$', 'witnesseth$', 'standest$', 'repastur$', 'monarcho$', 'bookmat$', 'shooter$', 'guinov$', 'upshoot$', 'greasili$', 'sangui$', 'pomewat$', 'caelo$', 'haud$', 'credo$', 'pricket$', 'explic$', 'facer$', 'ostentar$', 'uneduc$', 'ratherest$', 'bis$', 'coctus$', 'fructifi$', 'omn$', 'bene$', 'dictynna$', 'dictima$', 'luna$', 'fivescor$', 'allus$', 'collus$', 'perg$', 'abrog$', 'sorel$', 'ventricl$', 'mehercl$', 'vir$', 'sapi$', 'loquitur$', 'feminin$', 'quasi$', 'precor$', 'gelida$', 'quando$', 'pecca$', 'omnia$', 'sub$', 'umbra$', 'ruminat$', 'mantuan$', 'venetia$', 'chi$', 'ti$', 'vede$', 'pretia$', 'understandeth$', 'stanza$', 'apostrophus$', 'canzonet$', 'eleg$', 'cadenc$', 'ovidius$', 'naso$', 'jerk$', 'imitari$', 'damosella$', 'overgl$', 'entereth$', 'birdbolt$', 'eyebeam$', 'ridest$', 'triumviri$', 'tyburn$', 'erey$', 'saucer$', 'gig$', 'pushpin$', 'overview$', 'adramadio$', 'op$', 'seller$', 'doter$', 'sweeper$', 'overhead$', 'sphinx$', 'sati$', 'sufficit$', 'intitul$', 'novi$', 'hominem$', 'tanquam$', 'peregrin$', 'verbos$', 'fanat$', 'insoci$', 'racker$', 'det$', 'clepeth$', 'cauf$', 'hauf$', 'vocatur$', 'nebor$', 'abbrevi$', 'abhomin$', 'insinuateth$', 'insani$', 'intelligi$', 'laus$', 'deo$', 'intelligo$', 'priscian$', 'videsn$', 'venit$', 'video$', 'gaudeo$', 'chirrah$', 'quar$', 'almsbasket$', 'honorificabilitudinitatibus$', 'flapdragon$', 'hornbook$', 'ba$', 'pueritia$', 'mediterraneum$', 'venu$', 'rejoiceth$', 'unum$', 'cita$', 'gingerbread$', 'wouldest$', 'unguem$', 'preambul$', 'singul$', 'congratul$', 'posterior$', 'mustachio$', 'joshua$', 'maccabaeus$', 'crushest$', 'copybook$', 'overhear$', 'muscovit$', 'unbosom$', 'ergon$', 'estrang$', 'trey$', 'grievest$', 'veal$', 'muskovit$', 'dismask$', 'unsulli$', 'unvisit$', 'muscovi$', 'harper$', 'noe$', 'aforehand$', 'squier$', 'vara$', 'pursent$', 'whereuntil$', 'parfect$', 'pompion$', 'guerra$', 'novum$', 'alisand$', 'polax$', 'bowler$', 'erpart$', 'canus$', 'manus$', 'quoniam$', 'iscariot$', 'cittern$', 'pommel$', 'jude$', 'jud$', 'troyan$', 'lemon$', 'clove$', 'warman$', 'infamon$', 'bepray$', 'buttonhol$', 'woolward$', 'interruptest$', 'unbefit$', 'hiem$', 'oaten$', 'plowmen$', 'hermia$', 'lysand$', 'hippolyta$', 'egeus$', 'philostr$', 'snug$', 'starvel$', 'oberon$', 'titania$', 'goodfellow$', 'puck$', 'peaseblossom$', 'mustardse$', 'unharden$', 'earthlier$', 'nedar$', 'overful$', 'misgraf$', 'momentani$', 'knitteth$', 'godspe$', 'tunabl$', 'unheedi$', 'waggish$', 'rs$', 'ercl$', 'phibbus$', 'thisn$', 'perfit$', 'villageri$', 'skim$', 'quern$', 'churn$', 'barm$', 'bean$', 'filli$', 'mistaketh$', 'loff$', 'neez$', 'fairyland$', 'phillida$', 'buskin$', 'perigouna$', 'aegl$', 'antiopa$', 'rushi$', 'undistinguish$', 'hoari$', 'chaplet$', 'henchman$', 'vot$', 'stayeth$', 'griffin$', 'overcanopi$', 'muskros$', 'eglantin$', 'roundel$', 'reremic$', 'lulla$', 'wak$', 'interchain$', 'spheri$', 'roughcast$', 'homespun$', 'briski$', 'ninus$', 'ouzel$', 'apricock$', 'dewberri$', 'moonbeam$', 'giantlik$', 'noll$', 'mimic$', 'fowler$', 'caw$', 'driv$', 'doubler$', 'superprais$', 'abi$', 'engild$', 'oe$', 'schoolday$', 'cankerblossom$', 'maypol$', 'vixen$', 'minimus$', 'knotgrass$', 'committ$', 'overcast$', 'starri$', 'batti$', 'crossway$', 'wormi$', 'constraineth$', 'overflown$', 'cavaleri$', 'tong$', 'entwist$', 'enr$', 'barki$', 'flouriet$', 'charmeth$', 'cadmus$', 'kneed$', 'thessalian$', 'woodbird$', 'handicraftman$', 'transfigur$', 'bedtim$', 'tipsi$', 'thebe$', 'unbreath$', 'throttl$', 'wittiest$', 'limand$', 'shafalus$', 'procrus$', 'silliest$', 'lanthorn$', 'thornbush$', 'bergomask$', 'outsleep$', 'overwatch$', 'behowl$', 'unearn$', 'creon$', 'arcit$', 'palamon$', 'pirith$', 'artesius$', 'bavian$', 'countrywomen$', 'fritz$', 'akin$', 'trent$', 'chaucer$', 'spine$', 'bridehous$', 'capaneus$', 'thresh$', 'soldieress$', 'uncandi$', 'groundpiec$', 'osprey$', 'blist$', 'prim$', 'unpang$', 'fitt$', 'corselet$', 'auli$', 'martialist$', 'harsher$', 'scissor$', 'unfear$', 'sib$', 'defier$', 'dure$', 'skif$', 'flavina$', 'intertangl$', 'individu$', 'aghast$', 'sigher$', 'renc$', 'halloo$', 'stun$', 'pursuest$', 'bringst$', 'fescu$', 'arca$', 'sennoi$', 'ryca$', 'ablest$', 'emili$', 'plane$', 'falsest$', 'chaffi$', 'gladder$', 'beech$', 'cockleshel$', 'truss$', 'tedios$', 'disinsan$', 'jean$', 'proh$', 'medius$', 'fidius$', 'dunc$', 'meleag$', 'gerald$', 'timothi$', 'usqu$', 'tandem$', 'fatuus$', 'sempster$', 'dogskin$', 'nulliti$', 'owlet$', 'dii$', 'boni$', 'passa$', 'fluentli$', 'opus$', 'exegi$', 'iovi$', 'igni$', 'pedagogus$', 'ferula$', 'morr$', 'tenner$', 'penner$', 'multi$', 'alii$', 'intrat$', 'filii$', 'derri$', 'dowset$', 'deaequ$', 'outdur$', 'nimbler$', 'outdid$', 'outwent$', 'castor$', 'sillili$', 'glade$', 'daffadilli$', 'bulrush$', 'freshwat$', 'cocklight$', 'owgh$', 'kenn$', 'smoother$', 'pelop$', 'baldric$', 'geraldo$', 'proserpin$', 'gammon$', 'navel$', 'penn$', 'orth$', 'intemp$', 'preordain$', 'vagari$', 'friskin$', 'playfer$', 'prewarn$', 'corrector$', 'shaker$', 'fiercest$', 'globi$', 'flutter$', 'nineti$', 'unsentenc$', 'unpluck$', 'dischargest$', 'ipso$', 'facto$', 'hostler$', 'titler$', 'dispar$', 'costli$', 'unwapp$', 'calkin$', 'hoov$', 'jaderi$', 'disroot$', 'unbroken$', 'arrous$', 'subtler$', 'archibald$', 'yedward$', 'gadshil$', 'vintner$', 'apprentic$', 'ostler$', 'ret$', 'intestin$', 'herefordshir$', 'welshwomen$', 'retold$', 'holmedon$', 'mordak$', 'athol$', 'murray$', 'straightest$', 'buff$', 'lincolnshir$', 'moorditch$', 'rascaliest$', 'soldest$', 'madeira$', 'allhallown$', 'waylaid$', 'immask$', 'incomprehens$', 'falsifi$', 'stubbl$', 'pouncet$', 'sloven$', 'popinjay$', 'sovereignest$', 'parmaceti$', 'saltpet$', 'unjoint$', 'proviso$', 'severn$', 'sedgi$', 'downtrod$', 'underw$', 'erwalk$', 'unsteadfast$', 'starl$', 'pismir$', 'bristol$', 'uncertainti$', 'wain$', 'tench$', 'lye$', 'loach$', 'pannier$', 'mug$', 'variest$', 'worshipest$', 'raker$', 'sixpenni$', 'striker$', 'hu$', 'burgomast$', 'oney$', 'cocksur$', 'fern$', 'homo$', 'whew$', 'lever$', 'uncolt$', 'gorbelli$', 'chuff$', 'grandjuror$', 'jure$', 'unsort$', 'palisado$', 'parapet$', 'culverin$', 'gilliam$', 'paraquito$', 'trifler$', 'corinthian$', 'profici$', 'underskink$', 'pomgarnet$', 'ralph$', 'caddi$', 'upstair$', 'rivo$', 'drinketh$', 'unhang$', 'woolsack$', 'ecc$', 'signum$', 'ebrew$', 'afront$', 'kendal$', 'claybrain$', 'strappado$', 'presser$', 'backbreak$', 'elfskin$', 'pizzl$', 'bowcas$', 'speargrass$', 'beslubb$', 'stolest$', 'braci$', 'amamon$', 'mackerel$', 'cambys$', 'trickl$', 'trist$', 'spendest$', 'camomil$', 'micher$', 'corpul$', 'deceiveth$', 'peremptorili$', 'sucker$', 'poulter$', 'swearest$', 'hutch$', 'beastli$', 'cloakbag$', 'manningtre$', 'searcheth$', 'findeth$', 'gallon$', 'anchovi$', 'ob$', 'halfpennyworth$', 'wisheth$', 'cresset$', 'kitten$', 'archdeacon$', 'tripartit$', 'balladmong$', 'moldwarp$', 'finless$', 'moulten$', 'skimbl$', 'skambl$', 'sarcenet$', 'finsburi$', 'mistread$', 'pickthank$', 'newsmong$', 'forethink$', 'reputeless$', 'pontif$', 'bavin$', 'enfeof$', 'sunlik$', 'capitul$', 'whene$', 'bridgenorth$', 'peppercorn$', 'memento$', 'mori$', 'hellfir$', 'chandler$', 'salamand$', 'godamerci$', 'dowla$', 'newgat$', 'eightpenni$', 'otter$', 'midriff$', 'memorandum$', 'soother$', 'topsi$', 'turvi$', 'cuiss$', 'repris$', 'sutton$', 'coldfield$', 'gurnet$', 'lazarus$', 'tradefallen$', 'feaz$', 'innkeep$', 'daventri$', 'quilt$', 'exceedeth$', 'confesseth$', 'bulki$', 'chewet$', 'outdar$', 'doncast$', 'articul$', 'hurlybur$', 'impaint$', 'pellmel$', 'misquot$', 'harebrain$', 'cital$', 'crossest$', 'ragamuffin$', 'bleedest$', 'luckili$', 'shirley$', 'gawsey$', 'clifton$', 'spieth$', 'volumnia$', 'virgilia$', 'valeria$', 'menenius$', 'cominius$', 'lartius$', 'sicinius$', 'velutus$', 'aedil$', 'defector$', 'nicanor$', 'tullus$', 'aufidius$', 'volscian$', 'antium$', 'fob$', 'muniment$', 'flour$', 'generos$', 'sdeath$', 'unroof$', 'volsc$', 'coriol$', 'freelier$', 'comeli$', 'harvestman$', 'mammock$', 'stitcheri$', 'penelop$', 'solem$', 'widen$', 'flier$', 'thunderlik$', 'percuss$', 'hangmen$', 'misguid$', 'bedward$', 'antiat$', 'guider$', 'budger$', 'spire$', 'ovat$', 'undercrest$', 'potch$', 'fane$', 'embarqu$', 'infantlik$', 'wealsmen$', 'lycurgus$', 'microcosm$', 'conspectu$', 'faucet$', 'rejourn$', 'mummer$', 'giber$', 'bencher$', 'packsaddl$', 'empiricut$', 'oaken$', 'outdon$', 'waw$', 'nervi$', 'lockram$', 'pother$', 'napless$', 'pleader$', 'disproperti$', 'provand$', 'consulship$', 'ascent$', 'hereto$', 'disbench$', 'feebli$', 'haver$', 'dictat$', 'brunt$', 'flyer$', 'shunless$', 'aidless$', 'requicken$', 'fatig$', 'muck$', 'unach$', 'blockhead$', 'woolvish$', 'erpeer$', 'friendli$', 'plebeii$', 'unelect$', 'rectorship$', 'asker$', 'ungrav$', 'preoccupi$', 'martian$', 'ancus$', 'numa$', 'censorinus$', 'timepleas$', 'palt$', 'measl$', 'triton$', 'unstabl$', 'unbuild$', 'tarpeian$', 'depopul$', 'eject$', 'gangren$', 'unscan$', 'unsev$', 'unbarb$', 'inher$', 'trier$', 'salter$', 'needer$', 'rove$', 'foxship$', 'unclog$', 'centurion$', 'unsepar$', 'interjoin$', 'birthplac$', 'cotus$', 'llous$', 'prat$', 'unmus$', 'whereagainst$', 'notch$', 'sowl$', 'whilest$', 'directitud$', 'burrow$', 'mull$', 'getter$', 'pest$', 'ercom$', 'inshel$', 'erborn$', 'proudlier$', 'dragonlik$', 'titleless$', 'unburnt$', 'unheart$', 'passabl$', 'factionari$', 'dotant$', 'spectatorship$', 'crueler$', 'grandchild$', 'unsalut$', 'curdi$', 'epitom$', 'unvulner$', 'seamark$', 'cluck$', 'counters$', 'cornerston$', 'corslet$', 'dislodg$', 'recomfort$', 'sackbut$', 'psalteri$', 'cymbal$', 'unshout$', 'pretext$', 'heighten$', 'annal$', 'dovecot$', 'unchild$', 'egeon$', 'syracus$', 'solinus$', 'antipholus$', 'dromio$', 'adriana$', 'luciana$', 'dr$', 'abbess$', 'syracusa$', 'guilder$', 'exclud$', 'syracusian$', 'departedst$', 'epidamium$', 'epidaurus$', 'sorrowest$', 'procrastin$', 'saddler$', 'undispos$', 'unw$', 'loureth$', 'undishonor$', 'fallaci$', 'handwrit$', 'maud$', 'ciceley$', 'gillian$', 'ginn$', 'mome$', 'unviol$', 'springeth$', 'america$', 'erembellish$', 'ballast$', 'netherland$', 'persia$', 'balsamum$', 'dowsabel$', 'backfriend$', 'creek$', 'dryfoot$', 'lapland$', 'cherryston$', 'respic$', 'finem$', 'incivil$', 'chargeth$', 'dankish$', 'intric$', 'raft$', 'menaphon$', 'cymbelin$', 'imogen$', 'posthumus$', 'leonatus$', 'cloten$', 'pisanio$', 'philario$', 'iachimo$', 'belarius$', 'guiderius$', 'arviragus$', 'briton$', 'sicilius$', 'cassibelan$', 'tenantius$', 'sampl$', 'stepmoth$', 'overbuy$', 'thoroughfar$', 'backsid$', 'questionedst$', 'eyestr$', 'shes$', 'errat$', 'outlust$', 'unparagon$', 'outpriz$', 'ervalu$', 'unseduc$', 'confect$', 'changest$', 'lieger$', 'satiat$', 'ofttim$', 'feeler$', 'slaver$', 'mutest$', 'tomboy$', 'romish$', 'chaffless$', 'stowag$', 'outstood$', 'upcast$', 'erlabor$', 'underpeep$', 'horsehair$', 'unpav$', 'ranger$', 'discourtesi$', 'erpay$', 'augustus$', 'arrearag$', 'andiron$', 'outsel$', 'worker$', 'coiner$', 'pudenc$', 'unsun$', 'unscal$', 'lud$', 'mulmutius$', 'pannonian$', 'dalmatian$', 'virginlik$', 'cambria$', 'fainter$', 'costlier$', 'polydor$', 'cadwal$', 'uncross$', 'euriphil$', 'staider$', 'outvenom$', 'bodic$', 'disedg$', 'tirest$', 'whereunto$', 'supplyment$', 'unkinglik$', 'overland$', 'sorer$', 'outpeer$', 'proconsul$', 'supplyant$', 'imperceiver$', 'dieter$', 'commix$', 'untwin$', 'lawbreak$', 'foresay$', 'zephyr$', 'sluggish$', 'crare$', 'brogu$', 'harebel$', 'ruddock$', 'thunderston$', 'exorcis$', 'herblet$', 'pittikin$', 'irregul$', 'maintop$', 'siena$', 'sunbeam$', 'champ$', 'tanl$', 'leonati$', 'vanquisheth$', 'disarmeth$', 'carl$', 'chaser$', 'backdoor$', 'costum$', 'unbar$', 'stricter$', 'stiller$', 'crystallin$', 'preen$', 'gallows$', 'nurselik$', 'ey$', 'unspoken$', 'rar$', 'aver$', 'villainlik$', 'princelik$', 'inlay$', 'counterchang$', 'erjoy$', 'freeness$', 'philarmonus$', 'leo$', 'natus$', 'molli$', 'aer$']\n"
          ]
        }
      ]
    },
    {
      "cell_type": "code",
      "source": [
        "print(len(index.voc_list))"
      ],
      "metadata": {
        "colab": {
          "base_uri": "https://localhost:8080/"
        },
        "id": "AhRRl_tlXu3g",
        "outputId": "8d57be51-2340-4989-8e97-76fdb7d4414c"
      },
      "execution_count": null,
      "outputs": [
        {
          "output_type": "stream",
          "name": "stdout",
          "text": [
            "14635\n"
          ]
        }
      ]
    },
    {
      "cell_type": "markdown",
      "source": [
        "# Read from pregenerated pickle file"
      ],
      "metadata": {
        "id": "d7Ckvt3mgn_V"
      }
    },
    {
      "cell_type": "code",
      "source": [
        "\"\"\" Function to load and read from pre-existing pickle file \"\"\" \n",
        "def read_pickle():\n",
        "  filename = \"output_index_final\"\n",
        "  with open(filename,\"rb\") as f:\n",
        "    index = pickle.load(f)\n",
        "    return index"
      ],
      "metadata": {
        "id": "ohqcLndQgq6D"
      },
      "execution_count": null,
      "outputs": []
    },
    {
      "cell_type": "code",
      "source": [
        "index = read_pickle()"
      ],
      "metadata": {
        "id": "l7vtgkgGhAyx"
      },
      "execution_count": null,
      "outputs": []
    },
    {
      "cell_type": "markdown",
      "source": [
        "# Spelling correction"
      ],
      "metadata": {
        "id": "kotDHrEVmNvc"
      }
    },
    {
      "cell_type": "code",
      "source": [
        "\"\"\"\n",
        "Return the k (default 5) words to the input query \n",
        "runs on against all the query terms where difference in length is 2 \n",
        "\"\"\"\n",
        "def kClosest(q,index,k = 5):\n",
        "    output = {}\n",
        "    q = q + \"$\"\n",
        "    l = len(q)\n",
        "    for w in index.voc_list:\n",
        "      if abs(l - len(w)) <= 2:\n",
        "        d = edit_distance(q,w)\n",
        "        output[w] = d\n",
        "    s = sorted(output.items(), key = lambda kv : kv[1])\n",
        "    return s[:k]"
      ],
      "metadata": {
        "id": "23nVE08TkPLl"
      },
      "execution_count": null,
      "outputs": []
    },
    {
      "cell_type": "code",
      "source": [
        "\"\"\"\n",
        "function to get the correct word for each query term,\n",
        "if query term exists in index return q_t directly,\n",
        "otherwise find k closest values and return and choose the first one\n",
        "\"\"\"\n",
        "def getCorrect(q_t,index):\n",
        "  if index.find(q_t):\n",
        "    return q_t\n",
        "  q_ed = kClosest(q_t,index)\n",
        "  for i in q_ed:\n",
        "    if int(i[1]) == 0:\n",
        "      return q_t\n",
        "    elif int(i[1]) <= 5:\n",
        "      return i[0]\n",
        "    else:\n",
        "      return q_t"
      ],
      "metadata": {
        "id": "Zv9jEMZyRaqH"
      },
      "execution_count": null,
      "outputs": []
    },
    {
      "cell_type": "code",
      "source": [
        "kClosest(\"juleit\",index)"
      ],
      "metadata": {
        "colab": {
          "base_uri": "https://localhost:8080/"
        },
        "id": "lucXs2tKYGD2",
        "outputId": "17083092-1cd2-4fac-8087-f6bd2a2574e2"
      },
      "execution_count": null,
      "outputs": [
        {
          "output_type": "execute_result",
          "data": {
            "text/plain": [
              "[('juliet$', 2.0),\n",
              " ('jule$', 2.0),\n",
              " ('jupit$', 2.0),\n",
              " ('juli$', 2.0),\n",
              " ('julio$', 2.0)]"
            ]
          },
          "metadata": {},
          "execution_count": 50
        }
      ]
    },
    {
      "cell_type": "code",
      "source": [
        "getCorrect(\"juliet$\",index)"
      ],
      "metadata": {
        "colab": {
          "base_uri": "https://localhost:8080/"
        },
        "id": "YCV6Q3EcR5YU",
        "outputId": "b26dde09-819b-4557-8cf7-112b95e6c6df"
      },
      "execution_count": null,
      "outputs": [
        {
          "output_type": "execute_result",
          "data": {
            "text/plain": [
              "'juliet$'"
            ],
            "application/vnd.google.colaboratory.intrinsic+json": {
              "type": "string"
            }
          },
          "metadata": {},
          "execution_count": 25
        }
      ]
    },
    {
      "cell_type": "markdown",
      "source": [
        "# Boolean query"
      ],
      "metadata": {
        "id": "-6wV3jsVmg9L"
      }
    },
    {
      "cell_type": "code",
      "source": [
        "\n",
        "def and_op(l1,l2):\n",
        "  \"\"\"\n",
        "  perform the and intersection on the two lists\n",
        "  \"\"\"\n",
        "  i = 0\n",
        "  j = 0\n",
        "  intersection = []\n",
        "  while i < len(l1) and j < len(l2):\n",
        "    if(l1[i] == l2[j]):\n",
        "      intersection.append(l1[i])\n",
        "      i += 1\n",
        "      j += 1\n",
        "    elif (l1[i] < l2[j]):\n",
        "      i += 1\n",
        "    else:\n",
        "      j += 1\n",
        "  return intersection"
      ],
      "metadata": {
        "id": "w5CtU8Y8wH88"
      },
      "execution_count": null,
      "outputs": []
    },
    {
      "cell_type": "code",
      "source": [
        "def or_op(l1,l2):\n",
        "  \"\"\"\n",
        "  perform the or operation on the two lists\n",
        "  \"\"\"\n",
        "  for i in l2:\n",
        "    if i not in l1:\n",
        "      l1.append(i)\n",
        "  return l1"
      ],
      "metadata": {
        "id": "HMSXKuQ2wmFA"
      },
      "execution_count": null,
      "outputs": []
    },
    {
      "cell_type": "code",
      "source": [
        "def not_oper(l,size):\n",
        "  \"\"\"\n",
        "  negate the list and create a new list with all elements in space size \n",
        "  and not in l\n",
        "  \"\"\"\n",
        "  l_not = []\n",
        "  for i in range(1,size+1):\n",
        "    if i not in l:\n",
        "      l_not.append(i)\n",
        "  return l_not"
      ],
      "metadata": {
        "id": "js6V2rDww2VU"
      },
      "execution_count": null,
      "outputs": []
    },
    {
      "cell_type": "code",
      "source": [
        "def getFilename(ret_list):\n",
        "  \"\"\"\n",
        "  get the file names corresponding to the final retirval list \n",
        "  \"\"\"\n",
        "  for ret in ret_list[0]:\n",
        "    print(f\"Found in doc no {ret}  : {doc_id_name_map[ret]}\")\n",
        "  if len(ret_list[0]) == 0:\n",
        "    print(\"Not found\")"
      ],
      "metadata": {
        "id": "53s41WskUS1X"
      },
      "execution_count": null,
      "outputs": []
    },
    {
      "cell_type": "code",
      "source": [
        "def retrieve():\n",
        "  \"\"\"\n",
        "  Query retrival function\n",
        "  take query input from user\n",
        "  tokenize it\n",
        "  then create a retrival list and perform operations.\n",
        "  \"\"\"\n",
        "  query = input()\n",
        "  query = tokenize(query)\n",
        "  #query = remove_stop_words(query)\n",
        "  query = stem_words(query)\n",
        "  print(query)\n",
        "  retrival_list = []\n",
        "  connect = []\n",
        "  wc = 0\n",
        "  conn = [\"and$\",\"or$\",\"not$\"]\n",
        "  for q in query:\n",
        "    q =  q + \"$\"\n",
        "    if q in conn:\n",
        "      connect.append(q)\n",
        "      continue\n",
        "    # don't correct wildcard queries \n",
        "    if \"*\" in q:\n",
        "      wc = 0\n",
        "      while(q[-1] != '*'):\n",
        "        q = rotateString(q,1)\n",
        "      l,l_w = index.search(q[:-1])\n",
        "      l = list(set(l))\n",
        "      print(f\"Words returned for wildcard query {q} is {l_w}\")\n",
        "    else:\n",
        "      q = getCorrect(q,index)\n",
        "      l = index.find(q)\n",
        "    if l:\n",
        "      print(f\"Query is {q} and list of docs are {l}\")\n",
        "    else:\n",
        "      l = []\n",
        "      print(\"No result found\")\n",
        "    if len(connect) >= 1 and connect[-1] == \"not$\":\n",
        "      temp_cp = not_oper(l.copy(),doc_count)\n",
        "      retrival_list.append(temp_cp)\n",
        "    else:\n",
        "      retrival_list.append(l.copy())\n",
        "  if len(retrival_list) > 1:\n",
        "    i_1 = 0\n",
        "    i_2 = 1\n",
        "    i = 0\n",
        "    for con in connect:\n",
        "      #print(con)\n",
        "      if con == \"and$\":\n",
        "        comp = and_op(retrival_list[i_1],retrival_list[i_2])\n",
        "        temp_cp = retrival_list[2:]\n",
        "        retrival_list = [comp]\n",
        "        retrival_list.extend(temp_cp)\n",
        "      elif con == \"or$\":\n",
        "        #print(\"trig\",i)\n",
        "        comp = or_op(retrival_list[i_1],retrival_list[i_2])\n",
        "        #print(\"computed\" , comp)\n",
        "        temp_cp = retrival_list[2:]\n",
        "        #print(\"temp_cp\", temp_cp)\n",
        "        #comp.extend(temp_cp)\n",
        "        retrival_list = [comp]\n",
        "        retrival_list.extend(temp_cp)\n",
        "        i += 1\n",
        "        #print(\"ret_list\",retrival_list)\n",
        "      elif con == \"not$\":\n",
        "        continue\n",
        "  if len(query) == 0:\n",
        "    return []\n",
        "  if wc == 0:\n",
        "    getFilename(retrival_list)\n",
        "  return retrival_list\n"
      ],
      "metadata": {
        "id": "obwna4sw6kGp"
      },
      "execution_count": null,
      "outputs": []
    },
    {
      "cell_type": "code",
      "source": [
        "retrieve()"
      ],
      "metadata": {
        "id": "7JkNfptc64fM"
      },
      "execution_count": null,
      "outputs": []
    }
  ]
}